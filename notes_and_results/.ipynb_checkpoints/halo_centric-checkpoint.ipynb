{
 "cells": [
  {
   "cell_type": "markdown",
   "metadata": {},
   "source": [
    "# Halo Centric density"
   ]
  },
  {
   "cell_type": "code",
   "execution_count": 1,
   "metadata": {
    "tags": [
     "defs",
     "imports"
    ]
   },
   "outputs": [],
   "source": [
    "import os\n",
    "import numpy as np\n",
    "from IPython.display import display, HTML, IFrame, Image, Video, display_pdf, SVG"
   ]
  },
  {
   "cell_type": "markdown",
   "metadata": {},
   "source": [
    " "
   ]
  },
  {
   "cell_type": "markdown",
   "metadata": {},
   "source": [
    " "
   ]
  },
  {
   "cell_type": "markdown",
   "metadata": {},
   "source": [
    "Here we study the effect of Halo mass on the statitistical properties of density field in the region around those halos. First let us visualize the averaged density field around several halos in a simulation for different mass scales."
   ]
  },
  {
   "cell_type": "code",
   "execution_count": 2,
   "metadata": {
    "tags": [
     "css-html"
    ]
   },
   "outputs": [
    {
     "data": {
      "text/html": [
       "<style>\n",
       "#videoal {\n",
       "    /* ... put any margin, padding, etc. here you like */\n",
       "}\n",
       "#videoal div.video {\n",
       "    display: inline-block;\n",
       "    zoom: 1;\n",
       "    *display: inline;\n",
       "    width: 48%;\n",
       "    margin: 0 1px 1px 0;\n",
       "}\n",
       "#videoal div.video video {\n",
       "    width: 100%;\n",
       "    height: 100%;\n",
       "    border:3px solid green;\n",
       "}\n",
       "video.center {\n",
       "    margin: 0 auto;\n",
       "    display: block;\n",
       "    border:3px solid green;\n",
       "    width: 50%\n",
       "}\n",
       "img.center {\n",
       "    margin: 0 auto;\n",
       "    display: block;\n",
       "    border:3px solid red;\n",
       "    width: 50%\n",
       "}\n",
       "h1 {text-align: center;}\n",
       "</style>\n"
      ],
      "text/plain": [
       "<IPython.core.display.HTML object>"
      ]
     },
     "metadata": {},
     "output_type": "display_data"
    }
   ],
   "source": [
    "%%HTML\n",
    "<style>\n",
    "#videoal {\n",
    "    /* ... put any margin, padding, etc. here you like */\n",
    "}\n",
    "#videoal div.video {\n",
    "    display: inline-block;\n",
    "    zoom: 1;\n",
    "    *display: inline;\n",
    "    width: 48%;\n",
    "    margin: 0 1px 1px 0;\n",
    "}\n",
    "#videoal div.video video {\n",
    "    width: 100%;\n",
    "    height: 100%;\n",
    "    border:3px solid green;\n",
    "}\n",
    "video.center {\n",
    "    margin: 0 auto;\n",
    "    display: block;\n",
    "    border:3px solid green;\n",
    "    width: 50%\n",
    "}\n",
    "img.center {\n",
    "    margin: 0 auto;\n",
    "    display: block;\n",
    "    border:3px solid red;\n",
    "    width: 50%\n",
    "}\n",
    "h1 {text-align: center;}\n",
    "</style>"
   ]
  },
  {
   "cell_type": "code",
   "execution_count": 3,
   "metadata": {
    "tags": [
     "css-html"
    ]
   },
   "outputs": [],
   "source": [
    "# %%HTML\n",
    "def show_videos_in_row(vidfile1, vidfile2, title1=' ', title2=' '):\n",
    "    return HTML(f\"\"\"\n",
    "<div id=\"videoal\">\n",
    "    <div class=\"video\">\n",
    "        <h1> {title1:s}</h1>\n",
    "        <video src={vidfile1:s}  frameborder=\"4\" controls>  </video>\n",
    "    </div>\n",
    "    <div class=\"video\">\n",
    "        <h1> {title2:s}</h1>\n",
    "        <video src={vidfile2:s}  frameborder=\"4\" controls>  </video>\n",
    "    </div>\n",
    "</div>\n",
    "\"\"\")"
   ]
  },
  {
   "cell_type": "code",
   "execution_count": 4,
   "metadata": {
    "tags": [
     "defs"
    ]
   },
   "outputs": [],
   "source": [
    "class HaloCentricArgs:\n",
    "    def __init__(self, simname, rundir, scheme, grid_size, downsample, M_around, max_halos, aligned=True):\n",
    "        self.simname, self.rundir, self.scheme, self.grid_size, self.downsample, self.M_around, self.max_halos, self.aligned = simname, rundir, scheme, grid_size, downsample, M_around, max_halos, aligned\n",
    "        align_str = '_unaligned' if not self.aligned else ''\n",
    "        self.plotsdir = os.path.join('plots_and_anims', f'{self.simname:s}_{self.rundir:s}', f'halo_centric_{self.scheme:s}_{self.grid_size:d}')\n",
    "        self.vidfile =  os.path.join(self.plotsdir, f'simulation_visualisation{align_str}_1by{self.downsample:d}_{self.M_around:.1e}_{self.max_halos:d}.mp4')\n",
    "        self.pdffile =  os.path.join(self.plotsdir, f'single_snapshot{align_str}_{150:03d}_1by{self.downsample:d}_{self.M_around:.1e}_{self.max_halos:d}.pdf') \n",
    "        self.pngfile =  os.path.join(self.plotsdir, f'single_snapshot{align_str}_{150:03d}_1by{self.downsample:d}_{self.M_around:.1e}_{self.max_halos:d}.png') \n",
    "        self.svgfile =  os.path.join(self.plotsdir, f'single_snapshot{align_str}_{150:03d}_1by{self.downsample:d}_{self.M_around:.1e}_{self.max_halos:d}.svg') "
   ]
  },
  {
   "cell_type": "code",
   "execution_count": 5,
   "metadata": {},
   "outputs": [],
   "source": [
    "args = HaloCentricArgs('bdm_cdm1024', 'r1', 'TSC', 512, 8, 3e12, 1000, aligned=False)"
   ]
  },
  {
   "cell_type": "code",
   "execution_count": 6,
   "metadata": {},
   "outputs": [
    {
     "data": {
      "text/html": [
       "<img class=\"center\" width=\"50%\" src=\"plots_and_anims/bdm_cdm1024_r1/halo_centric_TSC_512/single_snapshot_unaligned_150_1by8_3.0e+12_1000.svg\"</img>"
      ],
      "text/plain": [
       "<IPython.core.display.HTML object>"
      ]
     },
     "execution_count": 6,
     "metadata": {},
     "output_type": "execute_result"
    }
   ],
   "source": [
    "HTML(f'<img class=\"center\" width=\"50%\" src=\"{args.svgfile:s}\"</img>')"
   ]
  },
  {
   "cell_type": "code",
   "execution_count": 7,
   "metadata": {},
   "outputs": [
    {
     "data": {
      "text/html": [
       "\n",
       "        <iframe\n",
       "            width=\"60%\"\n",
       "            height=\"600\"\n",
       "            src=\"plots_and_anims/bdm_cdm1024_r1/halo_centric_TSC_512/single_snapshot_unaligned_150_1by8_3.0e+12_1000.pdf\"\n",
       "            frameborder=\"0\"\n",
       "            allowfullscreen\n",
       "        ></iframe>\n",
       "        "
      ],
      "text/plain": [
       "<IPython.lib.display.IFrame at 0x7f1d3c0654f0>"
      ]
     },
     "execution_count": 7,
     "metadata": {},
     "output_type": "execute_result"
    }
   ],
   "source": [
    "IFrame(args.pdffile, width=\"60%\", height=600)\n",
    "# Image(args.pngfile, width=900, height=800)"
   ]
  },
  {
   "cell_type": "markdown",
   "metadata": {},
   "source": [
    " "
   ]
  },
  {
   "cell_type": "markdown",
   "metadata": {},
   "source": [
    "## Let us compare the snapshot of density field around halos of three different mass scales \n",
    "<p float=\"left\">\n",
    "  <img src='plots_and_anims/bdm_cdm1024_r1/halo_centric_TSC_512/single_snapshot_unaligned_150_1by8_2.0e+11_1000.svg' width=\"33%\" />\n",
    "  <img src='plots_and_anims/bdm_cdm1024_r1/halo_centric_TSC_512/single_snapshot_unaligned_150_1by8_3.0e+12_1000.svg' width=\"33%\" /> \n",
    "  <img src=\"plots_and_anims/bdm_cdm1024_r1/halo_centric_TSC_512/single_snapshot_unaligned_150_1by8_1.0e+14_1000.svg\" width=\"33%\" />\n",
    "</p>"
   ]
  },
  {
   "cell_type": "markdown",
   "metadata": {},
   "source": [
    " "
   ]
  },
  {
   "cell_type": "markdown",
   "metadata": {},
   "source": [
    "## Now let us study the evolution history of region around halos of two different mass scales."
   ]
  },
  {
   "cell_type": "code",
   "execution_count": 8,
   "metadata": {},
   "outputs": [
    {
     "data": {
      "text/html": [
       "\n",
       "<div id=\"videoal\">\n",
       "    <div class=\"video\">\n",
       "        <h1> Cluster scale halos</h1>\n",
       "        <video src=plots_and_anims/bdm_cdm1024_r1/halo_centric_TSC_512/simulation_visualisation_unaligned_1by8_1.0e+14_1000.mp4  frameborder=\"4\" controls>  </video>\n",
       "    </div>\n",
       "    <div class=\"video\">\n",
       "        <h1> Dwarf galaxy scale halos</h1>\n",
       "        <video src=plots_and_anims/bdm_cdm1024_r1/halo_centric_TSC_512/simulation_visualisation_unaligned_1by8_2.0e+11_1000.mp4  frameborder=\"4\" controls>  </video>\n",
       "    </div>\n",
       "</div>\n"
      ],
      "text/plain": [
       "<IPython.core.display.HTML object>"
      ]
     },
     "execution_count": 8,
     "metadata": {},
     "output_type": "execute_result"
    }
   ],
   "source": [
    "args1 = HaloCentricArgs('bdm_cdm1024', 'r1', 'TSC', 512, 8, 1e14, 1000, aligned=False)\n",
    "args2 = HaloCentricArgs('bdm_cdm1024', 'r1', 'TSC', 512, 8, 2e11, 1000, aligned=False)\n",
    "show_videos_in_row(args1.vidfile, args2.vidfile, \"Cluster scale halos\", \"Dwarf galaxy scale halos\")"
   ]
  },
  {
   "cell_type": "code",
   "execution_count": 9,
   "metadata": {
    "tags": [
     "comments"
    ]
   },
   "outputs": [],
   "source": [
    "# ls plots_and_anims/bdm_cdm1024_r1/halo_centric_TSC_512/"
   ]
  },
  {
   "cell_type": "markdown",
   "metadata": {},
   "source": [
    "<!-- <table><tr>\n",
    "<td> <img src='plots_and_anims/bdm_cdm1024_r1/halo_centric_TSC_512/single_snapshot_150_1by8_3.0e+12_1000.png' alt=\"Drawing\" style=\"width: 500px;\"/> </td>\n",
    "<td> <img src='plots_and_anims/bdm_cdm1024_r1/halo_centric_TSC_512/single_snapshot_150_1by8_3.0e+12_1000.png' alt=\"Drawing\" style=\"width: 500px;\"/> </td>\n",
    "</tr></table> -->"
   ]
  },
  {
   "cell_type": "code",
   "execution_count": 10,
   "metadata": {
    "tags": [
     "comments"
    ]
   },
   "outputs": [],
   "source": [
    "# os.chdir('/scratch/cprem/sims/bdm_cdm1024/r1/halo_centric/TSC/512/plots_and_anims/')\n",
    "# os.listdir()[1] "
   ]
  },
  {
   "cell_type": "code",
   "execution_count": 11,
   "metadata": {
    "tags": [
     "comments"
    ]
   },
   "outputs": [],
   "source": [
    "# display(IFrame('plots_and_anims/bdm_cdm1024_r1/halo_centric_TSC_512/single_snapshot_150_1by8_3.0e+12_1000.pdf', width=900, height=800))"
   ]
  },
  {
   "cell_type": "markdown",
   "metadata": {},
   "source": [
    " "
   ]
  },
  {
   "cell_type": "markdown",
   "metadata": {},
   "source": [
    "# Milkyway galaxy scale halos\n",
    "## Now let us further constrain by aligning the halos before stacking using its largest shape eigenvector."
   ]
  },
  {
   "cell_type": "code",
   "execution_count": 12,
   "metadata": {},
   "outputs": [
    {
     "data": {
      "text/html": [
       "\n",
       "<div id=\"videoal\">\n",
       "    <div class=\"video\">\n",
       "        <h1> Unaligned stack</h1>\n",
       "        <video src=plots_and_anims/bdm_cdm1024_r1/halo_centric_TSC_512/simulation_visualisation_unaligned_1by8_3.0e+12_1000.mp4  frameborder=\"4\" controls>  </video>\n",
       "    </div>\n",
       "    <div class=\"video\">\n",
       "        <h1> Aligned stack</h1>\n",
       "        <video src=plots_and_anims/bdm_cdm1024_r1/halo_centric_TSC_512/simulation_visualisation_1by8_3.0e+12_1000.mp4  frameborder=\"4\" controls>  </video>\n",
       "    </div>\n",
       "</div>\n"
      ],
      "text/plain": [
       "<IPython.core.display.HTML object>"
      ]
     },
     "execution_count": 12,
     "metadata": {},
     "output_type": "execute_result"
    }
   ],
   "source": [
    "args1 = HaloCentricArgs('bdm_cdm1024', 'r1', 'TSC', 512, 8, 3e12, 1000, aligned=False)\n",
    "args2 = HaloCentricArgs('bdm_cdm1024', 'r1', 'TSC', 512, 8, 3e12, 1000, aligned=True)\n",
    "show_videos_in_row(args1.vidfile, args2.vidfile, \"Unaligned stack\", \"Aligned stack\")"
   ]
  },
  {
   "cell_type": "markdown",
   "metadata": {},
   "source": [
    "<!-- !['show video'](./plots_and_anims/bdm_cdm1024_r1/halo_centric_TSC_512/simulation_visualisation_1by8_3.0e+12_1000.mp4) -->"
   ]
  },
  {
   "cell_type": "code",
   "execution_count": 13,
   "metadata": {
    "tags": [
     "css-html",
     "comments"
    ]
   },
   "outputs": [],
   "source": [
    "# %%HTML\n",
    "# <video width=\"80%\" height=\"80%\" controls>\n",
    "#   <source src=\"plots_and_anims/bdm_cdm1024_r1/halo_centric_TSC_512/simulation_visualisation_1by8_3.0e+12_1000.mp4\" type=\"video/mp4\">\n",
    "# </video>"
   ]
  },
  {
   "cell_type": "code",
   "execution_count": null,
   "metadata": {},
   "outputs": [],
   "source": []
  },
  {
   "cell_type": "code",
   "execution_count": null,
   "metadata": {},
   "outputs": [],
   "source": []
  }
 ],
 "metadata": {
  "kernelspec": {
   "display_name": "Python 3",
   "language": "python",
   "name": "python3"
  },
  "language_info": {
   "codemirror_mode": {
    "name": "ipython",
    "version": 3
   },
   "file_extension": ".py",
   "mimetype": "text/x-python",
   "name": "python",
   "nbconvert_exporter": "python",
   "pygments_lexer": "ipython3",
   "version": "3.9.0"
  }
 },
 "nbformat": 4,
 "nbformat_minor": 4
}
