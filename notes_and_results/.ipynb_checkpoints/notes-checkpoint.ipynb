{
 "cells": [
  {
   "cell_type": "markdown",
   "metadata": {},
   "source": [
    "# Halo Centric density"
   ]
  },
  {
   "cell_type": "code",
   "execution_count": 69,
   "metadata": {},
   "outputs": [],
   "source": [
    "import os\n",
    "from IPython.display import display, HTML, IFrame, Video"
   ]
  },
  {
   "cell_type": "code",
   "execution_count": null,
   "metadata": {},
   "outputs": [],
   "source": []
  },
  {
   "cell_type": "code",
   "execution_count": 71,
   "metadata": {
    "tags": [
     "css-html"
    ]
   },
   "outputs": [
    {
     "data": {
      "text/html": [
       "<style>\n",
       "#videoal {\n",
       "    /* ... put any margin, padding, etc. here you like */\n",
       "}\n",
       "#videoal div.video {\n",
       "    display: inline-block;\n",
       "    zoom: 1;\n",
       "    *display: inline;\n",
       "    width: 45%;\n",
       "    margin: 0 1px 1px 0;\n",
       "}\n",
       "#videoal div.video video {\n",
       "    width: 100%;\n",
       "    height: 100%;\n",
       "}\n",
       "</style>\n"
      ],
      "text/plain": [
       "<IPython.core.display.HTML object>"
      ]
     },
     "metadata": {},
     "output_type": "display_data"
    }
   ],
   "source": [
    "%%HTML\n",
    "<style>\n",
    "#videoal {\n",
    "    /* ... put any margin, padding, etc. here you like */\n",
    "}\n",
    "#videoal div.video {\n",
    "    display: inline-block;\n",
    "    zoom: 1;\n",
    "    *display: inline;\n",
    "    width: 45%;\n",
    "    margin: 0 1px 1px 0;\n",
    "}\n",
    "#videoal div.video video {\n",
    "    width: 100%;\n",
    "    height: 100%;\n",
    "}\n",
    "</style>"
   ]
  },
  {
   "cell_type": "code",
   "execution_count": 72,
   "metadata": {
    "tags": [
     "css-html"
    ]
   },
   "outputs": [
    {
     "data": {
      "text/html": [
       "<div id=\"videoal\">\n",
       "    <div class=\"video\">\n",
       "        <video src=\"plots_and_anims/bdm_cdm1024_r1/halo_centric_TSC_512/simulation_visualisation_1by8_3.0e+12_1000.mp4\" controls autoplay>  </video>\n",
       "    </div>\n",
       "    <div class=\"video\">\n",
       "        <video src=\"plots_and_anims/bdm_cdm1024_r1/halo_centric_TSC_512/simulation_visualisation_1by8_1.0e+14_1000.mp4\" controls autoplay>  </video>\n",
       "    </div>\n",
       "</div>\n"
      ],
      "text/plain": [
       "<IPython.core.display.HTML object>"
      ]
     },
     "metadata": {},
     "output_type": "display_data"
    }
   ],
   "source": [
    "%%HTML\n",
    "<div id=\"videoal\">\n",
    "    <div class=\"video\">\n",
    "        <video src=\"plots_and_anims/bdm_cdm1024_r1/halo_centric_TSC_512/simulation_visualisation_1by8_3.0e+12_1000.mp4\" controls autoplay>  </video>\n",
    "    </div>\n",
    "    <div class=\"video\">\n",
    "        <video src=\"plots_and_anims/bdm_cdm1024_r1/halo_centric_TSC_512/simulation_visualisation_1by8_1.0e+14_1000.mp4\" controls autoplay>  </video>\n",
    "    </div>\n",
    "</div>"
   ]
  },
  {
   "cell_type": "code",
   "execution_count": null,
   "metadata": {},
   "outputs": [],
   "source": []
  },
  {
   "cell_type": "code",
   "execution_count": 7,
   "metadata": {},
   "outputs": [],
   "source": [
    "# os.chdir('/scratch/cprem/sims/bdm_cdm1024/r1/halo_centric/TSC/512/plots_and_anims/')\n",
    "# os.listdir()[1]"
   ]
  },
  {
   "cell_type": "code",
   "execution_count": 11,
   "metadata": {},
   "outputs": [
    {
     "data": {
      "text/html": [
       "\n",
       "        <iframe\n",
       "            width=\"900\"\n",
       "            height=\"800\"\n",
       "            src=\"plots_and_anims/bdm_cdm1024_r1/halo_centric_TSC_512/single_snapshot_150_1by8_3.0e+12_1000.pdf\"\n",
       "            frameborder=\"0\"\n",
       "            allowfullscreen\n",
       "        ></iframe>\n",
       "        "
      ],
      "text/plain": [
       "<IPython.lib.display.IFrame at 0x7f99d1143c70>"
      ]
     },
     "metadata": {},
     "output_type": "display_data"
    }
   ],
   "source": [
    "display(IFrame('plots_and_anims/bdm_cdm1024_r1/halo_centric_TSC_512/single_snapshot_150_1by8_3.0e+12_1000.pdf', width=900, height=800))"
   ]
  },
  {
   "cell_type": "code",
   "execution_count": 73,
   "metadata": {},
   "outputs": [
    {
     "data": {
      "text/html": [
       "<video src=\"plots_and_anims/bdm_cdm1024_r1/halo_centric_TSC_512/simulation_visualisation_1by8_1.0e+14_1000.mp4\" controls  width=\"700\"  height=\"500\">\n",
       "      Your browser does not support the <code>video</code> element.\n",
       "    </video>"
      ],
      "text/plain": [
       "<IPython.core.display.Video object>"
      ]
     },
     "execution_count": 73,
     "metadata": {},
     "output_type": "execute_result"
    }
   ],
   "source": [
    "Video('plots_and_anims/bdm_cdm1024_r1/halo_centric_TSC_512/simulation_visualisation_1by8_1.0e+14_1000.mp4', width=700,height=500)"
   ]
  },
  {
   "cell_type": "code",
   "execution_count": 76,
   "metadata": {},
   "outputs": [
    {
     "data": {
      "text/html": [
       "\n",
       "        <iframe\n",
       "            width=\"900\"\n",
       "            height=\"800\"\n",
       "            src=\"plots_and_anims/bdm_cdm1024_r1/halo_centric_TSC_512/single_snapshot_150_1by8_3.0e+12_1000.pdf\"\n",
       "            frameborder=\"0\"\n",
       "            allowfullscreen\n",
       "        ></iframe>\n",
       "        "
      ],
      "text/plain": [
       "<IPython.lib.display.IFrame at 0x7f9b646f7610>"
      ]
     },
     "execution_count": 76,
     "metadata": {},
     "output_type": "execute_result"
    }
   ],
   "source": [
    "IFrame('plots_and_anims/bdm_cdm1024_r1/halo_centric_TSC_512/single_snapshot_150_1by8_3.0e+12_1000.pdf', width=900, height=800)"
   ]
  },
  {
   "cell_type": "code",
   "execution_count": 74,
   "metadata": {},
   "outputs": [
    {
     "data": {
      "text/html": [
       "<video src=\"plots_and_anims/bdm_cdm1024_r1/halo_centric_TSC_512/simulation_visualisation_1by8_2.0e+11_1000.mp4\" controls  width=\"800\"  height=\"600\">\n",
       "      Your browser does not support the <code>video</code> element.\n",
       "    </video>"
      ],
      "text/plain": [
       "<IPython.core.display.Video object>"
      ]
     },
     "execution_count": 74,
     "metadata": {},
     "output_type": "execute_result"
    }
   ],
   "source": [
    "Video('plots_and_anims/bdm_cdm1024_r1/halo_centric_TSC_512/simulation_visualisation_1by8_2.0e+11_1000.mp4', embed=False, width=800,height=600)"
   ]
  },
  {
   "cell_type": "markdown",
   "metadata": {},
   "source": [
    "<!-- !['show video'](./plots_and_anims/bdm_cdm1024_r1/halo_centric_TSC_512/simulation_visualisation_1by8_3.0e+12_1000.mp4) -->"
   ]
  },
  {
   "cell_type": "code",
   "execution_count": 75,
   "metadata": {
    "tags": [
     "css-html"
    ]
   },
   "outputs": [
    {
     "data": {
      "text/html": [
       "<video width=\"800\" height=\"600\" controls>\n",
       "  <source src=\"plots_and_anims/bdm_cdm1024_r1/halo_centric_TSC_512/simulation_visualisation_1by8_3.0e+12_1000.mp4\" type=\"video/mp4\">\n",
       "</video>\n"
      ],
      "text/plain": [
       "<IPython.core.display.HTML object>"
      ]
     },
     "metadata": {},
     "output_type": "display_data"
    }
   ],
   "source": [
    "%%HTML\n",
    "<video width=\"800\" height=\"600\" controls>\n",
    "  <source src=\"plots_and_anims/bdm_cdm1024_r1/halo_centric_TSC_512/simulation_visualisation_1by8_3.0e+12_1000.mp4\" type=\"video/mp4\">\n",
    "</video>"
   ]
  },
  {
   "cell_type": "code",
   "execution_count": null,
   "metadata": {},
   "outputs": [],
   "source": []
  },
  {
   "cell_type": "code",
   "execution_count": null,
   "metadata": {},
   "outputs": [],
   "source": []
  }
 ],
 "metadata": {
  "kernelspec": {
   "display_name": "Python 3",
   "language": "python",
   "name": "python3"
  },
  "language_info": {
   "codemirror_mode": {
    "name": "ipython",
    "version": 3
   },
   "file_extension": ".py",
   "mimetype": "text/x-python",
   "name": "python",
   "nbconvert_exporter": "python",
   "pygments_lexer": "ipython3",
   "version": "3.9.0"
  }
 },
 "nbformat": 4,
 "nbformat_minor": 4
}
