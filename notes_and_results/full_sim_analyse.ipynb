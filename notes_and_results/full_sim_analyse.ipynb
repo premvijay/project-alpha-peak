{
 "cells": [
  {
   "cell_type": "markdown",
   "metadata": {},
   "source": [
    "# Density field and power spectrum in a GADGET-2 simulation"
   ]
  },
  {
   "cell_type": "code",
   "execution_count": 1,
   "metadata": {
    "tags": [
     "defs",
     "imports"
    ]
   },
   "outputs": [],
   "source": [
    "import os\n",
    "import numpy as np\n",
    "from IPython.display import display, HTML, IFrame, Image, Video, SVG"
   ]
  },
  {
   "cell_type": "markdown",
   "metadata": {},
   "source": [
    " "
   ]
  },
  {
   "cell_type": "markdown",
   "metadata": {},
   "source": [
    "We visualize the density field in simulation by averaging $10 ~h^{-1}$ MPc thick slice and projecting to 2D. We also compute the power spectrum by FFT and display it on the movie."
   ]
  },
  {
   "cell_type": "code",
   "execution_count": 2,
   "metadata": {
    "tags": [
     "css-html"
    ]
   },
   "outputs": [
    {
     "data": {
      "text/html": [
       "<style>\n",
       "#videoal {\n",
       "    /* ... put any margin, padding, etc. here you like */\n",
       "}\n",
       "#videoal div.video {\n",
       "    display: inline-block;\n",
       "    zoom: 1;\n",
       "    *display: inline;\n",
       "    width: 48%;\n",
       "    margin: 0 1px 1px 0;\n",
       "}\n",
       "#videoal div.video video {\n",
       "    width: 100%;\n",
       "    height: 100%;\n",
       "}\n",
       "video.center {\n",
       "    margin: 0 auto;\n",
       "    display: block;\n",
       "    border:3px solid green;\n",
       "    width: 90%\n",
       "}\n",
       "img.center {\n",
       "    margin: 0 auto;\n",
       "    display: block;\n",
       "    border:3px solid red;\n",
       "    width: 90%\n",
       "}\n",
       "h1 {text-align: center;}\n",
       "</style>\n"
      ],
      "text/plain": [
       "<IPython.core.display.HTML object>"
      ]
     },
     "metadata": {},
     "output_type": "display_data"
    }
   ],
   "source": [
    "%%HTML\n",
    "<style>\n",
    "#videoal {\n",
    "    /* ... put any margin, padding, etc. here you like */\n",
    "}\n",
    "#videoal div.video {\n",
    "    display: inline-block;\n",
    "    zoom: 1;\n",
    "    *display: inline;\n",
    "    width: 48%;\n",
    "    margin: 0 1px 1px 0;\n",
    "}\n",
    "#videoal div.video video {\n",
    "    width: 100%;\n",
    "    height: 100%;\n",
    "}\n",
    "video.center {\n",
    "    margin: 0 auto;\n",
    "    display: block;\n",
    "    border:3px solid green;\n",
    "    width: 90%\n",
    "}\n",
    "img.center {\n",
    "    margin: 0 auto;\n",
    "    display: block;\n",
    "    border:3px solid red;\n",
    "    width: 90%\n",
    "}\n",
    "h1 {text-align: center;}\n",
    "</style>"
   ]
  },
  {
   "cell_type": "code",
   "execution_count": 3,
   "metadata": {
    "tags": [
     "css-html"
    ]
   },
   "outputs": [],
   "source": [
    "# %%HTML\n",
    "def show_videos_in_row(vidfile1, vidfile2, title1=' ', title2=' '):\n",
    "    return HTML(f\"\"\"\n",
    "<div id=\"videoal\">\n",
    "    <div class=\"video\">\n",
    "        <h1> {title1:s}</h1>\n",
    "        <video src={vidfile1:s}  frameborder=\"4\" controls>  </video>\n",
    "    </div>\n",
    "    <div class=\"video\">\n",
    "        <h1> {title2:s}</h1>\n",
    "        <video src={vidfile2:s}  frameborder=\"4\" controls>  </video>\n",
    "    </div>\n",
    "</div>\n",
    "\"\"\")"
   ]
  },
  {
   "cell_type": "code",
   "execution_count": 4,
   "metadata": {
    "tags": [
     "defs"
    ]
   },
   "outputs": [],
   "source": [
    "class SimArgs:\n",
    "    def __init__(self, simname, rundir, scheme, grid_size):\n",
    "        self.simname, self.rundir, self.scheme, self.grid_size = simname, rundir, scheme, grid_size\n",
    "        self.plotsdir = os.path.join('plots_and_anims', f'{self.simname:s}_{self.rundir:s}', f'full_box_{self.scheme:s}_{self.grid_size:d}')\n",
    "        self.vidfile =  os.path.join(self.plotsdir, f'simulation_visualisation.mp4')\n",
    "        self.pdffile =  os.path.join(self.plotsdir, f'single_snapshot.pdf') \n",
    "        self.pngfile =  os.path.join(self.plotsdir, f'single_snapshot.png') \n",
    "        self.svgfile =  os.path.join(self.plotsdir, f'single_snapshot.svg') "
   ]
  },
  {
   "cell_type": "markdown",
   "metadata": {},
   "source": [
    "## bdm_cdm1024 simulation"
   ]
  },
  {
   "cell_type": "code",
   "execution_count": 5,
   "metadata": {},
   "outputs": [],
   "source": [
    "args1 = SimArgs('bdm_cdm1024', 'r1', 'TSC', 512)"
   ]
  },
  {
   "cell_type": "code",
   "execution_count": 6,
   "metadata": {},
   "outputs": [
    {
     "data": {
      "text/html": [
       "<img class=\"center\" src=\"plots_and_anims/bdm_cdm1024_r1/full_box_TSC_512/single_snapshot.svg\"> </img>"
      ],
      "text/plain": [
       "<IPython.core.display.HTML object>"
      ]
     },
     "execution_count": 6,
     "metadata": {},
     "output_type": "execute_result"
    }
   ],
   "source": [
    "# HTML(f'<img src=\"{args.svgfile:s}\" width=\"90%\" style=\"border:3px solid green; margin-left: auto; margin-right: auto;\">')\n",
    "HTML(f'<img class=\"center\" src=\"{args1.svgfile:s}\"> </img>')"
   ]
  },
  {
   "cell_type": "code",
   "execution_count": 7,
   "metadata": {},
   "outputs": [
    {
     "data": {
      "text/html": [
       "<video controls class=\"center\" src=\"plots_and_anims/bdm_cdm1024_r1/full_box_TSC_512/simulation_visualisation.mp4\"> </video>"
      ],
      "text/plain": [
       "<IPython.core.display.HTML object>"
      ]
     },
     "execution_count": 7,
     "metadata": {},
     "output_type": "execute_result"
    }
   ],
   "source": [
    "# Video(args.vidfile, embed=False, width=1000,height=700)\n",
    "HTML(f'<video controls class=\"center\" src=\"{args1.vidfile:s}\"> </video>')"
   ]
  },
  {
   "cell_type": "code",
   "execution_count": 8,
   "metadata": {},
   "outputs": [
    {
     "data": {
      "text/html": [
       "\n",
       "        <iframe\n",
       "            width=\"90%\"\n",
       "            height=\"600\"\n",
       "            src=\"plots_and_anims/bdm_cdm1024_r1/full_box_TSC_512/single_snapshot.pdf\"\n",
       "            frameborder=\"0\"\n",
       "            allowfullscreen\n",
       "        ></iframe>\n",
       "        "
      ],
      "text/plain": [
       "<IPython.lib.display.IFrame at 0x7f23d5a67ac0>"
      ]
     },
     "execution_count": 8,
     "metadata": {},
     "output_type": "execute_result"
    }
   ],
   "source": [
    "IFrame(args1.pdffile, width=\"90%\", height=600)"
   ]
  },
  {
   "cell_type": "code",
   "execution_count": 9,
   "metadata": {
    "tags": [
     "comments"
    ]
   },
   "outputs": [],
   "source": [
    "# HTML(f'<iframe src=\"{args.pdffile:s}\"#view=fit width=90% height=900></iframe>')"
   ]
  },
  {
   "cell_type": "code",
   "execution_count": 10,
   "metadata": {
    "tags": [
     "comments"
    ]
   },
   "outputs": [],
   "source": [
    "# HTML(f'<iframe src=\"{args.pdffile:s}&zoom=50\"  height=\"100%\" width=\"100%\"></iframe>')"
   ]
  },
  {
   "cell_type": "code",
   "execution_count": 11,
   "metadata": {
    "tags": [
     "comments"
    ]
   },
   "outputs": [],
   "source": [
    "# args = SimArgs('bdm_cdm1024', 'r1', 'TSC', 512)\n",
    "# args = SimArgs('scm1024', 'r1', 'CIC', 512)\n",
    "# show_videos_in_row(args1.vidfile, args2.vidfile, \"bdm_cdm1024 simulation\", \"scm1024 simulation\")"
   ]
  },
  {
   "cell_type": "code",
   "execution_count": 12,
   "metadata": {
    "tags": [
     "comments"
    ]
   },
   "outputs": [],
   "source": [
    "# args = SimArgs('bdm_cdm1024', 'r1', 'TSC', 512)"
   ]
  },
  {
   "cell_type": "markdown",
   "metadata": {},
   "source": [
    "<!-- !['show video'](./plots_and_anims/bdm_cdm1024_r1/halo_centric_TSC_512/simulation_visualisation_1by8_3.0e+12_1000.mp4) -->"
   ]
  },
  {
   "cell_type": "markdown",
   "metadata": {},
   "source": [
    " "
   ]
  },
  {
   "cell_type": "markdown",
   "metadata": {},
   "source": [
    "## scm1024 simulation"
   ]
  },
  {
   "cell_type": "code",
   "execution_count": null,
   "metadata": {},
   "outputs": [],
   "source": []
  },
  {
   "cell_type": "code",
   "execution_count": 17,
   "metadata": {},
   "outputs": [],
   "source": [
    "args2 = SimArgs('scm1024', 'r1', 'TSC', 512)"
   ]
  },
  {
   "cell_type": "code",
   "execution_count": 18,
   "metadata": {},
   "outputs": [
    {
     "data": {
      "text/html": [
       "<img class=\"center\" src=\"plots_and_anims/scm1024_r1/full_box_TSC_512/single_snapshot.svg\"</img>"
      ],
      "text/plain": [
       "<IPython.core.display.HTML object>"
      ]
     },
     "execution_count": 18,
     "metadata": {},
     "output_type": "execute_result"
    }
   ],
   "source": [
    "# HTML(f'<img src=\"{args.svgfile:s}\" width=\"90%\" style=\"border:3px solid green; margin-left: auto; margin-right: auto;\">')\n",
    "HTML(f'<img class=\"center\" src=\"{args2.svgfile:s}\"</img>')"
   ]
  },
  {
   "cell_type": "code",
   "execution_count": 19,
   "metadata": {},
   "outputs": [
    {
     "data": {
      "text/html": [
       "<video controls class=\"center\" src=\"plots_and_anims/scm1024_r1/full_box_TSC_512/simulation_visualisation.mp4\"> </video>"
      ],
      "text/plain": [
       "<IPython.core.display.HTML object>"
      ]
     },
     "execution_count": 19,
     "metadata": {},
     "output_type": "execute_result"
    }
   ],
   "source": [
    "# Video(args.vidfile, embed=False, width=1000,height=700)\n",
    "HTML(f'<video controls class=\"center\" src=\"{args2.vidfile:s}\"> </video>')"
   ]
  },
  {
   "cell_type": "code",
   "execution_count": 20,
   "metadata": {},
   "outputs": [
    {
     "data": {
      "text/html": [
       "\n",
       "        <iframe\n",
       "            width=\"90%\"\n",
       "            height=\"600\"\n",
       "            src=\"plots_and_anims/scm1024_r1/full_box_TSC_512/single_snapshot.pdf\"\n",
       "            frameborder=\"0\"\n",
       "            allowfullscreen\n",
       "        ></iframe>\n",
       "        "
      ],
      "text/plain": [
       "<IPython.lib.display.IFrame at 0x7f23d5a67670>"
      ]
     },
     "execution_count": 20,
     "metadata": {},
     "output_type": "execute_result"
    }
   ],
   "source": [
    "IFrame(args2.pdffile, width=\"90%\", height=600)"
   ]
  },
  {
   "cell_type": "code",
   "execution_count": null,
   "metadata": {},
   "outputs": [],
   "source": []
  }
 ],
 "metadata": {
  "kernelspec": {
   "display_name": "Python 3",
   "language": "python",
   "name": "python3"
  },
  "language_info": {
   "codemirror_mode": {
    "name": "ipython",
    "version": 3
   },
   "file_extension": ".py",
   "mimetype": "text/x-python",
   "name": "python",
   "nbconvert_exporter": "python",
   "pygments_lexer": "ipython3",
   "version": "3.9.0"
  }
 },
 "nbformat": 4,
 "nbformat_minor": 4
}
