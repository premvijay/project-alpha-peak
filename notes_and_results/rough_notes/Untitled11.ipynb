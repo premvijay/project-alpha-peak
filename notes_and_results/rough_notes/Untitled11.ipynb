{
 "cells": [
  {
   "cell_type": "code",
   "execution_count": 2,
   "id": "employed-secret",
   "metadata": {},
   "outputs": [],
   "source": [
    "import numpy as np\n",
    "import h5py"
   ]
  },
  {
   "cell_type": "code",
   "execution_count": 3,
   "id": "another-chancellor",
   "metadata": {},
   "outputs": [],
   "source": [
    "import tables"
   ]
  },
  {
   "cell_type": "code",
   "execution_count": 24,
   "id": "united-marriage",
   "metadata": {},
   "outputs": [],
   "source": [
    "treefile = tables.open_file(\"/scratch/cprem/sims/L200_N512_Cp18/r1/halos_vr_3d/tree/treefrog.snapshot_045.VELOCIraptor.tree\", 'r')"
   ]
  },
  {
   "cell_type": "code",
   "execution_count": 36,
   "id": "adequate-david",
   "metadata": {},
   "outputs": [],
   "source": [
    "treefile.close()"
   ]
  },
  {
   "cell_type": "code",
   "execution_count": 10,
   "id": "literary-lottery",
   "metadata": {},
   "outputs": [],
   "source": [
    "treeh5 = h5py.File(\"/scratch/cprem/sims/L200_N512_Cp18/r1/halos_vr_3d/tree/treefrog.snapshot_045.VELOCIraptor.tree\", 'r')"
   ]
  },
  {
   "cell_type": "code",
   "execution_count": 37,
   "id": "overhead-indie",
   "metadata": {},
   "outputs": [],
   "source": [
    "treeh5.close()"
   ]
  },
  {
   "cell_type": "code",
   "execution_count": 35,
   "id": "satellite-compensation",
   "metadata": {},
   "outputs": [
    {
     "data": {
      "text/plain": [
       "219851"
      ]
     },
     "execution_count": 35,
     "metadata": {},
     "output_type": "execute_result"
    }
   ],
   "source": [
    "treefile.root.NumProgen[:].sum()"
   ]
  },
  {
   "cell_type": "code",
   "execution_count": 26,
   "id": "inner-conditions",
   "metadata": {},
   "outputs": [
    {
     "data": {
      "text/plain": [
       "/NumProgen (CArray(221329,), zlib(6)) ''\n",
       "  atom := Int32Atom(shape=(), dflt=0)\n",
       "  maindim := 0\n",
       "  flavor := 'numpy'\n",
       "  byteorder := 'little'\n",
       "  chunkshape := (8192,)"
      ]
     },
     "execution_count": 26,
     "metadata": {},
     "output_type": "execute_result"
    }
   ],
   "source": [
    "treefile.root.NumProgen"
   ]
  },
  {
   "cell_type": "code",
   "execution_count": 30,
   "id": "delayed-korea",
   "metadata": {},
   "outputs": [
    {
     "data": {
      "text/plain": [
       "array([     1,    439,    441, ..., 221319, 221320, 221321], dtype=uint64)"
      ]
     },
     "execution_count": 30,
     "metadata": {},
     "output_type": "execute_result"
    }
   ],
   "source": [
    "treefile.root.Progenitors[:]"
   ]
  },
  {
   "cell_type": "code",
   "execution_count": 31,
   "id": "directed-danish",
   "metadata": {},
   "outputs": [
    {
     "data": {
      "text/plain": [
       "array([     0,      3,      5, ..., 219851, 219851, 219851], dtype=uint64)"
      ]
     },
     "execution_count": 31,
     "metadata": {},
     "output_type": "execute_result"
    }
   ],
   "source": [
    "treefile.root.ProgenOffsets[:]"
   ]
  },
  {
   "cell_type": "code",
   "execution_count": null,
   "id": "wrong-upset",
   "metadata": {},
   "outputs": [],
   "source": []
  }
 ],
 "metadata": {
  "kernelspec": {
   "display_name": "Python 3",
   "language": "python",
   "name": "python3"
  },
  "language_info": {
   "codemirror_mode": {
    "name": "ipython",
    "version": 3
   },
   "file_extension": ".py",
   "mimetype": "text/x-python",
   "name": "python",
   "nbconvert_exporter": "python",
   "pygments_lexer": "ipython3",
   "version": "3.9.0"
  }
 },
 "nbformat": 4,
 "nbformat_minor": 5
}
