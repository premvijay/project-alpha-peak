{
 "cells": [
  {
   "cell_type": "code",
   "execution_count": 1,
   "id": "affecting-trauma",
   "metadata": {},
   "outputs": [],
   "source": [
    "import numpy as np"
   ]
  },
  {
   "cell_type": "code",
   "execution_count": 2,
   "id": "cathedral-setting",
   "metadata": {},
   "outputs": [],
   "source": [
    "from astropy import units as u, constants as const\n",
    "from astropy.cosmology import Planck18"
   ]
  },
  {
   "cell_type": "code",
   "execution_count": null,
   "id": "chief-trigger",
   "metadata": {},
   "outputs": [],
   "source": []
  },
  {
   "cell_type": "code",
   "execution_count": 3,
   "id": "atomic-lighting",
   "metadata": {},
   "outputs": [],
   "source": [
    "h = u.def_unit('h', Planck18.h * u.dimensionless_unscaled)\n",
    "hMsun = h**-1*u.Msun\n",
    "hMpc = h**-1*u.Mpc"
   ]
  },
  {
   "cell_type": "code",
   "execution_count": 4,
   "id": "polyphonic-simple",
   "metadata": {},
   "outputs": [],
   "source": [
    "def rhoc(z):\n",
    "    return (3*Planck18.H(z)**2/ (8*np.pi*const.G)).to(1e10*(h**-1*u.Msun)/(h**-1*u.Mpc)**3)"
   ]
  },
  {
   "cell_type": "code",
   "execution_count": 5,
   "id": "latest-listening",
   "metadata": {},
   "outputs": [
    {
     "data": {
      "text/latex": [
       "$8.5988143 \\times 10^{-27} \\; \\mathrm{\\frac{kg}{m^{3}}}$"
      ],
      "text/plain": [
       "<Quantity 8.59881426e-27 kg / m3>"
      ]
     },
     "execution_count": 5,
     "metadata": {},
     "output_type": "execute_result"
    }
   ],
   "source": [
    "rhoc(0).decompose()"
   ]
  },
  {
   "cell_type": "code",
   "execution_count": 6,
   "id": "welsh-sixth",
   "metadata": {},
   "outputs": [
    {
     "data": {
      "text/latex": [
       "$12.705282 \\; \\mathrm{1 \\times 10^{10}\\,\\frac{M_{\\odot}}{Mpc^{3}}}$"
      ],
      "text/plain": [
       "<Quantity 12.70528154 1e+10 solMass / Mpc3>"
      ]
     },
     "execution_count": 6,
     "metadata": {},
     "output_type": "execute_result"
    }
   ],
   "source": [
    "rhoc(0).to(1e10*u.Msun/u.Mpc**3)"
   ]
  },
  {
   "cell_type": "code",
   "execution_count": 7,
   "id": "imperial-philosophy",
   "metadata": {},
   "outputs": [
    {
     "data": {
      "text/latex": [
       "$27.753663 \\; \\mathrm{1 \\times 10^{10}\\,\\frac{h^{2}\\,M_{\\odot}}{Mpc^{3}}}$"
      ],
      "text/plain": [
       "<Quantity 27.75366272 1e+10 h2 solMass / Mpc3>"
      ]
     },
     "execution_count": 7,
     "metadata": {},
     "output_type": "execute_result"
    }
   ],
   "source": [
    "rhoc(0)"
   ]
  },
  {
   "cell_type": "code",
   "execution_count": 8,
   "id": "initial-agriculture",
   "metadata": {},
   "outputs": [],
   "source": [
    "import matplotlib.pyplot as plt"
   ]
  },
  {
   "cell_type": "code",
   "execution_count": 9,
   "id": "respiratory-overall",
   "metadata": {},
   "outputs": [],
   "source": [
    "%matplotlib widget"
   ]
  },
  {
   "cell_type": "code",
   "execution_count": 10,
   "id": "adjacent-perception",
   "metadata": {},
   "outputs": [
    {
     "data": {
      "application/vnd.jupyter.widget-view+json": {
       "model_id": "840fe30e05c441d2991cc00b0faa3a97",
       "version_major": 2,
       "version_minor": 0
      },
      "text/plain": [
       "Canvas(toolbar=Toolbar(toolitems=[('Home', 'Reset original view', 'home', 'home'), ('Back', 'Back to previous …"
      ]
     },
     "metadata": {},
     "output_type": "display_data"
    }
   ],
   "source": [
    "plt.plot(np.linspace(0,4), rhoc(np.linspace(0,4)).to(1e10*u.Msun/u.Mpc**3))\n",
    "# plt.yscale('log')\n",
    "plt.grid('both')\n",
    "plt.show()"
   ]
  },
  {
   "cell_type": "code",
   "execution_count": 11,
   "id": "missing-petite",
   "metadata": {},
   "outputs": [],
   "source": [
    "plt.plot(np.linspace(0,4), rhoc(np.linspace(0,4)))\n",
    "# plt.yscale('log')\n",
    "plt.grid('both')\n",
    "plt.show()"
   ]
  },
  {
   "cell_type": "code",
   "execution_count": 38,
   "id": "average-operator",
   "metadata": {},
   "outputs": [
    {
     "data": {
      "text/plain": [
       "2.2360659550014086"
      ]
     },
     "execution_count": 38,
     "metadata": {},
     "output_type": "execute_result"
    }
   ],
   "source": [
    "1/0.447214"
   ]
  },
  {
   "cell_type": "code",
   "execution_count": 79,
   "id": "thousand-bleeding",
   "metadata": {},
   "outputs": [
    {
     "data": {
      "text/latex": [
       "$61.532337 \\; \\mathrm{\\frac{km}{Mpc\\,s}}$"
      ],
      "text/plain": [
       "<Quantity 61.5323372 km / (Mpc s)>"
      ]
     },
     "execution_count": 79,
     "metadata": {},
     "output_type": "execute_result"
    }
   ],
   "source": [
    "Planck18.H(1.2)/2.2"
   ]
  },
  {
   "cell_type": "code",
   "execution_count": 42,
   "id": "charitable-reverse",
   "metadata": {},
   "outputs": [
    {
     "data": {
      "text/plain": [
       "0.6766"
      ]
     },
     "execution_count": 42,
     "metadata": {},
     "output_type": "execute_result"
    }
   ],
   "source": [
    "Planck18.h"
   ]
  },
  {
   "cell_type": "code",
   "execution_count": 117,
   "id": "growing-gauge",
   "metadata": {},
   "outputs": [
    {
     "data": {
      "text/plain": [
       "0.30966"
      ]
     },
     "execution_count": 117,
     "metadata": {},
     "output_type": "execute_result"
    }
   ],
   "source": [
    "Planck18.Om0"
   ]
  },
  {
   "cell_type": "code",
   "execution_count": 116,
   "id": "presidential-reserve",
   "metadata": {},
   "outputs": [
    {
     "data": {
      "text/plain": [
       "\u001b[0;31mType:\u001b[0m            FlatLambdaCDM\n",
       "\u001b[0;31mString form:\u001b[0m     FlatLambdaCDM(name=\"Planck18\", H0=67.7 km / (Mpc s), Om0=0.31, Tcmb0=2.725 K, Neff=3.05, m_nu=[0.   0.   0.06] eV, Ob0=0.049)\n",
       "\u001b[0;31mFile:\u001b[0m            ~/anaconda3/envs/conforg/lib/python3.9/site-packages/astropy/cosmology/core.py\n",
       "\u001b[0;31mDocstring:\u001b[0m      \n",
       "Planck18 instance of FlatLambdaCDM cosmology\n",
       "\n",
       "(from Planck Collaboration 2018, 2020, A&A, 641, A6  (Paper VI), Table 2 (TT, TE, EE + lowE + lensing + BAO))\n",
       "\u001b[0;31mClass docstring:\u001b[0m\n",
       "FLRW cosmology with a cosmological constant and no curvature.\n",
       "\n",
       "This has no additional attributes beyond those of FLRW.\n",
       "\n",
       "Parameters\n",
       "----------\n",
       "H0 : float or `~astropy.units.Quantity`\n",
       "    Hubble constant at z = 0.  If a float, must be in [km/sec/Mpc]\n",
       "\n",
       "Om0 : float\n",
       "    Omega matter: density of non-relativistic matter in units of the\n",
       "    critical density at z=0.\n",
       "\n",
       "Tcmb0 : float or scalar `~astropy.units.Quantity`, optional\n",
       "    Temperature of the CMB z=0. If a float, must be in [K].\n",
       "    Default: 0 [K]. Setting this to zero will turn off both photons\n",
       "    and neutrinos (even massive ones).\n",
       "\n",
       "Neff : float, optional\n",
       "    Effective number of Neutrino species. Default 3.04.\n",
       "\n",
       "m_nu : `~astropy.units.Quantity`, optional\n",
       "    Mass of each neutrino species. If this is a scalar Quantity, then all\n",
       "    neutrino species are assumed to have that mass. Otherwise, the mass of\n",
       "    each species. The actual number of neutrino species (and hence the\n",
       "    number of elements of m_nu if it is not scalar) must be the floor of\n",
       "    Neff. Typically this means you should provide three neutrino masses\n",
       "    unless you are considering something like a sterile neutrino.\n",
       "\n",
       "Ob0 : float or None, optional\n",
       "    Omega baryons: density of baryonic matter in units of the critical\n",
       "    density at z=0.  If this is set to None (the default), any\n",
       "    computation that requires its value will raise an exception.\n",
       "\n",
       "name : str, optional\n",
       "    Name for this cosmological object.\n",
       "\n",
       "Examples\n",
       "--------\n",
       ">>> from astropy.cosmology import FlatLambdaCDM\n",
       ">>> cosmo = FlatLambdaCDM(H0=70, Om0=0.3)\n",
       "\n",
       "The comoving distance in Mpc at redshift z:\n",
       "\n",
       ">>> z = 0.5\n",
       ">>> dc = cosmo.comoving_distance(z)\n"
      ]
     },
     "metadata": {},
     "output_type": "display_data"
    }
   ],
   "source": [
    "Planck18?"
   ]
  },
  {
   "cell_type": "code",
   "execution_count": 118,
   "id": "verified-stomach",
   "metadata": {},
   "outputs": [
    {
     "data": {
      "text/plain": [
       "1.474708745022858"
      ]
     },
     "execution_count": 118,
     "metadata": {},
     "output_type": "execute_result"
    }
   ],
   "source": [
    "1/0.6781"
   ]
  },
  {
   "cell_type": "code",
   "execution_count": 120,
   "id": "departmental-dealer",
   "metadata": {},
   "outputs": [
    {
     "data": {
      "text/plain": [
       "659.5092036576932"
      ]
     },
     "execution_count": 120,
     "metadata": {},
     "output_type": "execute_result"
    }
   ],
   "source": [
    "1000/0.6781/2.23607"
   ]
  },
  {
   "cell_type": "code",
   "execution_count": 125,
   "id": "medium-cycle",
   "metadata": {},
   "outputs": [
    {
     "data": {
      "text/plain": [
       "127609523274.40015"
      ]
     },
     "execution_count": 125,
     "metadata": {},
     "output_type": "execute_result"
    }
   ],
   "source": [
    "27.7520837518*0.6781**2*1e10"
   ]
  },
  {
   "cell_type": "code",
   "execution_count": 126,
   "id": "independent-exhaust",
   "metadata": {},
   "outputs": [
    {
     "data": {
      "text/plain": [
       "-0.16870625562299038"
      ]
     },
     "execution_count": 126,
     "metadata": {},
     "output_type": "execute_result"
    }
   ],
   "source": [
    "np.log10(0.6781)"
   ]
  },
  {
   "cell_type": "code",
   "execution_count": null,
   "id": "premium-investigation",
   "metadata": {},
   "outputs": [],
   "source": []
  }
 ],
 "metadata": {
  "kernelspec": {
   "display_name": "Python 3",
   "language": "python",
   "name": "python3"
  },
  "language_info": {
   "codemirror_mode": {
    "name": "ipython",
    "version": 3
   },
   "file_extension": ".py",
   "mimetype": "text/x-python",
   "name": "python",
   "nbconvert_exporter": "python",
   "pygments_lexer": "ipython3",
   "version": "3.9.0"
  }
 },
 "nbformat": 4,
 "nbformat_minor": 5
}
