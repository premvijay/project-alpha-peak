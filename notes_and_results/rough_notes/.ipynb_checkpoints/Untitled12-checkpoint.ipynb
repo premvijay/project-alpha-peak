{
 "cells": [
  {
   "cell_type": "code",
   "execution_count": null,
   "id": "academic-store",
   "metadata": {},
   "outputs": [],
   "source": []
  },
  {
   "cell_type": "code",
   "execution_count": 12,
   "id": "short-underground",
   "metadata": {},
   "outputs": [],
   "source": [
    "import numpy as np\n",
    "import h5py\n",
    "import tables"
   ]
  },
  {
   "cell_type": "code",
   "execution_count": 13,
   "id": "unauthorized-award",
   "metadata": {},
   "outputs": [],
   "source": [
    "import pandas as pd"
   ]
  },
  {
   "cell_type": "code",
   "execution_count": 14,
   "id": "acting-fourth",
   "metadata": {},
   "outputs": [],
   "source": [
    "import matplotlib.pyplot as plt\n",
    "# plt.style.use('dark_background')\n",
    "plt.style.use('default')"
   ]
  },
  {
   "cell_type": "code",
   "execution_count": 15,
   "id": "assured-senate",
   "metadata": {},
   "outputs": [],
   "source": [
    "import matplotlib as mpl\n",
    "mpl.rcParams['lines.linewidth'] = 1"
   ]
  },
  {
   "cell_type": "code",
   "execution_count": null,
   "id": "known-stranger",
   "metadata": {},
   "outputs": [],
   "source": []
  },
  {
   "cell_type": "code",
   "execution_count": 16,
   "id": "animated-mistake",
   "metadata": {},
   "outputs": [],
   "source": [
    "import hmf"
   ]
  },
  {
   "cell_type": "code",
   "execution_count": 17,
   "id": "numerical-vessel",
   "metadata": {},
   "outputs": [],
   "source": [
    "from hmf import MassFunction"
   ]
  },
  {
   "cell_type": "code",
   "execution_count": 18,
   "id": "serial-station",
   "metadata": {},
   "outputs": [],
   "source": [
    "# from hmf.halos import mass_definitions as md"
   ]
  },
  {
   "cell_type": "code",
   "execution_count": null,
   "id": "laden-examination",
   "metadata": {},
   "outputs": [],
   "source": []
  },
  {
   "cell_type": "code",
   "execution_count": 19,
   "id": "supposed-disclaimer",
   "metadata": {},
   "outputs": [],
   "source": [
    "from astropy.cosmology import Planck18"
   ]
  },
  {
   "cell_type": "code",
   "execution_count": 20,
   "id": "victorian-disaster",
   "metadata": {},
   "outputs": [],
   "source": [
    "from scipy.interpolate import interp1d"
   ]
  },
  {
   "cell_type": "code",
   "execution_count": 10,
   "id": "behavioral-hanging",
   "metadata": {},
   "outputs": [],
   "source": [
    "# hal40h5 = h5py.File(\"/scratch/cprem/sims/my-bdm_cdm256_p18/r2/halos_vrt.properties.0\", 'r')"
   ]
  },
  {
   "cell_type": "code",
   "execution_count": 11,
   "id": "centered-recommendation",
   "metadata": {},
   "outputs": [],
   "source": [
    "# list(hal40h5.keys())"
   ]
  },
  {
   "cell_type": "code",
   "execution_count": 12,
   "id": "medical-entity",
   "metadata": {},
   "outputs": [],
   "source": [
    "# hal40h5['Mvir']"
   ]
  },
  {
   "cell_type": "code",
   "execution_count": 13,
   "id": "spatial-cemetery",
   "metadata": {},
   "outputs": [],
   "source": [
    "# hal_logM = np.log10(hal40h5['Mass_200mean']) + 10"
   ]
  },
  {
   "cell_type": "code",
   "execution_count": 14,
   "id": "orange-intake",
   "metadata": {},
   "outputs": [],
   "source": [
    "# hal_logM = np.log10(hal40h5['Mass_200crit']) + 10"
   ]
  },
  {
   "cell_type": "code",
   "execution_count": 21,
   "id": "ultimate-salmon",
   "metadata": {},
   "outputs": [],
   "source": [
    "L=200\n",
    "i=35"
   ]
  },
  {
   "cell_type": "code",
   "execution_count": 22,
   "id": "affiliated-tamil",
   "metadata": {},
   "outputs": [],
   "source": [
    "meta_info = pd.read_csv(f\"//scratch/cprem/sims/L{L:d}_N512_Cp18/r1/halos_vr_6d/out_{i:03d}.siminfo\", sep=':')[' 1 # int32 ']\n",
    "z = 1/float(meta_info[0].split('#')[0])-1"
   ]
  },
  {
   "cell_type": "code",
   "execution_count": 23,
   "id": "incorrect-carbon",
   "metadata": {},
   "outputs": [
    {
     "data": {
      "text/plain": [
       "0.9968170735847057"
      ]
     },
     "execution_count": 23,
     "metadata": {},
     "output_type": "execute_result"
    }
   ],
   "source": [
    "z"
   ]
  },
  {
   "cell_type": "code",
   "execution_count": 24,
   "id": "outstanding-sodium",
   "metadata": {},
   "outputs": [],
   "source": [
    "hal_rs = pd.read_csv(f'/scratch/cprem/sims/L{L:d}_N512_Cp18/r1/halos_rs/out_wp_{i:d}.list', sep=r'\\s+', header=0, skiprows=list(range(1,16)), engine='c')"
   ]
  },
  {
   "cell_type": "code",
   "execution_count": 25,
   "id": "micro-importance",
   "metadata": {},
   "outputs": [],
   "source": [
    "hal_rs = hal_rs[hal_rs['PID']==-1]"
   ]
  },
  {
   "cell_type": "code",
   "execution_count": 26,
   "id": "chinese-river",
   "metadata": {},
   "outputs": [],
   "source": [
    "# hal40rs.info()"
   ]
  },
  {
   "cell_type": "code",
   "execution_count": 27,
   "id": "experienced-river",
   "metadata": {},
   "outputs": [],
   "source": [
    "hal_rs_logM = np.log10(hal_rs['M200b'])"
   ]
  },
  {
   "cell_type": "code",
   "execution_count": 28,
   "id": "least-grammar",
   "metadata": {},
   "outputs": [],
   "source": [
    "# hal_rs_logM = np.log10(hal40rs['Mvir'])"
   ]
  },
  {
   "cell_type": "code",
   "execution_count": 42,
   "id": "primary-stamp",
   "metadata": {},
   "outputs": [],
   "source": [
    "# np.histogram(hal_rs_logM, bins=hbins)"
   ]
  },
  {
   "cell_type": "code",
   "execution_count": 34,
   "id": "vocational-aluminum",
   "metadata": {},
   "outputs": [
    {
     "data": {
      "text/plain": [
       "(175,)"
      ]
     },
     "execution_count": 34,
     "metadata": {},
     "output_type": "execute_result"
    }
   ],
   "source": [
    "hbins.shape"
   ]
  },
  {
   "cell_type": "code",
   "execution_count": 52,
   "id": "awful-stanford",
   "metadata": {},
   "outputs": [],
   "source": [
    "# hal_vr3d.close()\n",
    "hal_vr3d = tables.open_file(f\"/scratch/cprem/sims/L{L:d}_N512_Cp18/r1/halos_vr_3d/out_{i:03d}.properties.0\", 'r')\n",
    "# hal_vr3d_logM = np.log10(hal_vr3d.root.Mass_200mean) + 10"
   ]
  },
  {
   "cell_type": "code",
   "execution_count": 53,
   "id": "sublime-paradise",
   "metadata": {},
   "outputs": [],
   "source": [
    "# hal_vr6d.close()\n",
    "hal_vr6d = tables.open_file(f\"/scratch/cprem/sims/L{L:d}_N512_Cp18/r1/halos_vr_6d/out_{i:03d}.properties.0\", 'r')\n",
    "# hal_vr6d_logM = np.log10(hal_vr6d.root.Mass_200mean) + 10"
   ]
  },
  {
   "cell_type": "code",
   "execution_count": 54,
   "id": "indian-turtle",
   "metadata": {},
   "outputs": [],
   "source": [
    "# dir(hal_vr.root)"
   ]
  },
  {
   "cell_type": "code",
   "execution_count": 55,
   "id": "following-master",
   "metadata": {},
   "outputs": [],
   "source": [
    "select_hal_3d = np.where(hal_vr3d.root.hostHaloID[:]==-1)\n",
    "select_hal_6d = np.where(hal_vr6d.root.hostHaloID[:]==-1)"
   ]
  },
  {
   "cell_type": "code",
   "execution_count": 56,
   "id": "quality-visitor",
   "metadata": {},
   "outputs": [
    {
     "data": {
      "text/plain": [
       "173868"
      ]
     },
     "execution_count": 56,
     "metadata": {},
     "output_type": "execute_result"
    }
   ],
   "source": [
    "select_hal_3d[0].shape[0]"
   ]
  },
  {
   "cell_type": "code",
   "execution_count": 57,
   "id": "useful-current",
   "metadata": {},
   "outputs": [],
   "source": [
    "num_hal_vr3d = select_hal_3d[0].shape[0]\n",
    "num_hal_vr6d = select_hal_6d[0].shape[0]"
   ]
  },
  {
   "cell_type": "code",
   "execution_count": 58,
   "id": "narrow-zambia",
   "metadata": {},
   "outputs": [],
   "source": [
    "num_hal_rs = hal_rs['#ID'].shape[0]"
   ]
  },
  {
   "cell_type": "code",
   "execution_count": 59,
   "id": "genuine-surface",
   "metadata": {},
   "outputs": [
    {
     "data": {
      "text/plain": [
       "264802"
      ]
     },
     "execution_count": 59,
     "metadata": {},
     "output_type": "execute_result"
    }
   ],
   "source": [
    "num_hal_rs"
   ]
  },
  {
   "cell_type": "code",
   "execution_count": 60,
   "id": "minus-fence",
   "metadata": {},
   "outputs": [
    {
     "data": {
      "text/plain": [
       "0.0217335"
      ]
     },
     "execution_count": 60,
     "metadata": {},
     "output_type": "execute_result"
    }
   ],
   "source": [
    "num_hal_vr3d/L**3"
   ]
  },
  {
   "cell_type": "code",
   "execution_count": null,
   "id": "pacific-pizza",
   "metadata": {},
   "outputs": [],
   "source": []
  },
  {
   "cell_type": "code",
   "execution_count": null,
   "id": "sticky-resort",
   "metadata": {},
   "outputs": [],
   "source": []
  },
  {
   "cell_type": "code",
   "execution_count": 61,
   "id": "peaceful-guyana",
   "metadata": {},
   "outputs": [],
   "source": [
    "# dir(hal_mass_fn)\n",
    "# hal_mass_fn.dndlog10m"
   ]
  },
  {
   "cell_type": "code",
   "execution_count": 69,
   "id": "olympic-butter",
   "metadata": {},
   "outputs": [],
   "source": [
    "hal_mass_fn = MassFunction()\n",
    "hal_mass_fn.update(cosmo_model=Planck18)\n",
    "hal_mass_fn.update(z=z)\n",
    "hal_mass_fn.update(\n",
    "    hmf_model=\"Tinker08\",\n",
    ")\n",
    "hal_mass_fn.update(\n",
    "    mdef_model  = \"SOCritical\",\n",
    "    mdef_params = {\"overdensity\":200,},\n",
    ")\n",
    "hal_mass_fn.update(\n",
    "    Mmin  = 8,\n",
    "    Mmax = 15,\n",
    ")"
   ]
  },
  {
   "cell_type": "code",
   "execution_count": 70,
   "id": "harmful-spending",
   "metadata": {},
   "outputs": [],
   "source": [
    "tinker_mvir = interp1d(np.log10(hal_mass_fn.m), hal_mass_fn.dndlog10m)"
   ]
  },
  {
   "cell_type": "code",
   "execution_count": 71,
   "id": "driving-guarantee",
   "metadata": {},
   "outputs": [
    {
     "data": {
      "text/plain": [
       "{'cosmo_model': FlatLambdaCDM(name=\"Planck18\", H0=67.7 km / (Mpc s), Om0=0.31, Tcmb0=2.725 K, Neff=3.05, m_nu=[0.   0.   0.06] eV, Ob0=0.049),\n",
       " 'cosmo_params': {},\n",
       " 'n': 0.9667,\n",
       " 'sigma_8': 0.8159,\n",
       " 'growth_params': {},\n",
       " 'lnk_min': -18.420680743952367,\n",
       " 'lnk_max': 9.903487552536127,\n",
       " 'dlnk': 0.05,\n",
       " 'z': 0.9968170735847057,\n",
       " 'transfer_model': hmf.density_field.transfer_models.CAMB,\n",
       " 'transfer_params': {},\n",
       " 'takahashi': True,\n",
       " 'growth_model': hmf.cosmology.growth_factor.GrowthFactor,\n",
       " 'hmf_model': hmf.mass_function.fitting_functions.Tinker08,\n",
       " 'Mmin': 8,\n",
       " 'Mmax': 15,\n",
       " 'dlog10m': 0.01,\n",
       " 'mdef_model': hmf.halos.mass_definitions.SOCritical,\n",
       " 'mdef_params': {'overdensity': 200},\n",
       " 'delta_c': 1.686,\n",
       " 'hmf_params': {},\n",
       " 'filter_model': hmf.density_field.filters.TopHat,\n",
       " 'filter_params': {},\n",
       " 'disable_mass_conversion': True}"
      ]
     },
     "execution_count": 71,
     "metadata": {},
     "output_type": "execute_result"
    }
   ],
   "source": [
    "hal_mass_fn.parameter_values"
   ]
  },
  {
   "cell_type": "code",
   "execution_count": 72,
   "id": "secondary-evening",
   "metadata": {},
   "outputs": [],
   "source": [
    "# plt.hist(hal_vr_logM, bins=50)\n",
    "# plt.yscale('log')"
   ]
  },
  {
   "cell_type": "code",
   "execution_count": 73,
   "id": "incorrect-solution",
   "metadata": {},
   "outputs": [],
   "source": [
    "%matplotlib widget"
   ]
  },
  {
   "cell_type": "code",
   "execution_count": 31,
   "id": "matched-inspector",
   "metadata": {},
   "outputs": [],
   "source": [
    "bw=0.04\n",
    "hbins = np.arange(8,15,bw)"
   ]
  },
  {
   "cell_type": "code",
   "execution_count": 75,
   "id": "rental-tragedy",
   "metadata": {},
   "outputs": [
    {
     "data": {
      "application/vnd.jupyter.widget-view+json": {
       "model_id": "c76d8b5e4f7147bbb1244df3b46db01e",
       "version_major": 2,
       "version_minor": 0
      },
      "text/plain": [
       "Canvas(toolbar=Toolbar(toolitems=[('Home', 'Reset original view', 'home', 'home'), ('Back', 'Back to previous …"
      ]
     },
     "metadata": {},
     "output_type": "display_data"
    },
    {
     "name": "stderr",
     "output_type": "stream",
     "text": [
      "/mnt/home/student/cprem/anaconda3/envs/conforg/lib/python3.9/site-packages/pandas/core/series.py:726: RuntimeWarning: divide by zero encountered in log10\n",
      "  result = getattr(ufunc, method)(*inputs, **kwargs)\n",
      "<ipython-input-75-140732d3e87f>:8: RuntimeWarning: invalid value encountered in log10\n",
      "  vr3d200c= ax1.hist(np.log10(hal_vr3d.root.Mass_200crit[select_hal_3d]) + 10-.1, bins=hbins, weights=1*np.ones(num_hal_vr3d)/bw/L**3, histtype='step', log=True, label=\"VR_3D_M200c\")\n",
      "<ipython-input-75-140732d3e87f>:9: RuntimeWarning: invalid value encountered in log10\n",
      "  vr6d200c= ax1.hist(np.log10(hal_vr6d.root.Mass_200crit[select_hal_6d]) + 10-0.1, bins=hbins, weights=1*np.ones(num_hal_vr6d)/bw/L**3, histtype='step', log=True, label=\"VR_6D_M200c\")\n",
      "<ipython-input-75-140732d3e87f>:28: RuntimeWarning: divide by zero encountered in true_divide\n",
      "  ax2.plot(bin_vals, vr6dfof[0]/vr3dfof[0], label=\"6D/3D MFOF\")\n",
      "<ipython-input-75-140732d3e87f>:28: RuntimeWarning: invalid value encountered in true_divide\n",
      "  ax2.plot(bin_vals, vr6dfof[0]/vr3dfof[0], label=\"6D/3D MFOF\")\n",
      "<ipython-input-75-140732d3e87f>:29: RuntimeWarning: divide by zero encountered in true_divide\n",
      "  ax2.plot(bin_vals, vr6dvir[0]/vr3dvir[0], label=\"6D/3D Mvir\")\n",
      "<ipython-input-75-140732d3e87f>:29: RuntimeWarning: invalid value encountered in true_divide\n",
      "  ax2.plot(bin_vals, vr6dvir[0]/vr3dvir[0], label=\"6D/3D Mvir\")\n",
      "<ipython-input-75-140732d3e87f>:30: RuntimeWarning: divide by zero encountered in true_divide\n",
      "  ax2.plot(bin_vals, vr6d200c[0]/vr3d200c[0], label=\"6D/3D M200c\")\n",
      "<ipython-input-75-140732d3e87f>:30: RuntimeWarning: invalid value encountered in true_divide\n",
      "  ax2.plot(bin_vals, vr6d200c[0]/vr3d200c[0], label=\"6D/3D M200c\")\n",
      "<ipython-input-75-140732d3e87f>:31: RuntimeWarning: divide by zero encountered in true_divide\n",
      "  ax2.plot(bin_vals, tinker_at_bins/vr6dfof[0], label=\"Tinker/ 6D MFOF\")\n",
      "<ipython-input-75-140732d3e87f>:32: RuntimeWarning: divide by zero encountered in true_divide\n",
      "  ax2.plot(bin_vals, tinker_at_bins/vr6dvir[0], label=\"Tinker/ 6D Mvir\")\n",
      "<ipython-input-75-140732d3e87f>:33: RuntimeWarning: divide by zero encountered in true_divide\n",
      "  ax2.plot(bin_vals, tinker_at_bins/vr6d200c[0], label=\"Tinker/ 6D M200c\")\n",
      "<ipython-input-75-140732d3e87f>:34: RuntimeWarning: divide by zero encountered in true_divide\n",
      "  ax2.plot(bin_vals, tinker_at_bins/rs200c[0], label=\"Tinker/ RS M200c\")\n"
     ]
    },
    {
     "data": {
      "text/plain": [
       "<matplotlib.legend.Legend at 0x2b99528210d0>"
      ]
     },
     "execution_count": 75,
     "metadata": {},
     "output_type": "execute_result"
    }
   ],
   "source": [
    "fig, (ax1,ax2) = plt.subplots(2, figsize=(12,9), dpi=120, sharex=True)\n",
    "plt.subplots_adjust(hspace=.1)\n",
    "\n",
    "rsvir = ax1.hist(np.log10(hal_rs['Mvir']), bins=hbins, weights=1*np.ones(num_hal_rs)/bw/L**3, histtype='step', log=True,label=\"RS_Mvir\")\n",
    "rs200c = ax1.hist(np.log10(hal_rs['M200c']), bins=hbins, weights=1*np.ones(num_hal_rs)/bw/L**3, histtype='step', log=True,label=\"RS_M200c\")\n",
    "# plt.hist(np.log10(hal_vr3d.root.Mass_200mean) + 10, bins=100, histtype='step', label=\"Velociraptor_3D\")\n",
    "# plt.hist(np.log10(hal_vr6d.root.Mass_200mean) + 10, bins=100, histtype='step', label=\"Velociraptor_6D\")\n",
    "vr3d200c= ax1.hist(np.log10(hal_vr3d.root.Mass_200crit[select_hal_3d]) + 10-.1, bins=hbins, weights=1*np.ones(num_hal_vr3d)/bw/L**3, histtype='step', log=True, label=\"VR_3D_M200c\")\n",
    "vr6d200c= ax1.hist(np.log10(hal_vr6d.root.Mass_200crit[select_hal_6d]) + 10-0.1, bins=hbins, weights=1*np.ones(num_hal_vr6d)/bw/L**3, histtype='step', log=True, label=\"VR_6D_M200c\")\n",
    "vr3dvir= ax1.hist(np.log10(hal_vr3d.root.Mvir[select_hal_6d]) + 10, bins=hbins, weights=1*np.ones(num_hal_vr6d)/bw/L**3, histtype='step', log=True, label=\"VR_3D_Mvir\")\n",
    "vr6dvir= ax1.hist(np.log10(hal_vr6d.root.Mvir[select_hal_6d]) + 10, bins=hbins, weights=1*np.ones(num_hal_vr6d)/bw/L**3, histtype='step', log=True, label=\"VR_6D_Mvir\")\n",
    "vr3dfof= ax1.hist(np.log10(hal_vr3d.root.Mass_FOF[select_hal_3d]) + 10, bins=hbins, weights=1*np.ones(num_hal_vr3d)/bw/L**3, histtype='step', log=True, label=\"VR_3D_MFOF\")\n",
    "vr6dfof= ax1.hist(np.log10(hal_vr6d.root.Mass_FOF[select_hal_6d]) + 10, bins=hbins, weights=1*np.ones(num_hal_vr6d)/bw/L**3, histtype='step', log=True, label=\"VR_6D_MFOF\")\n",
    "# ax1.plot(np.log10(hmfcalc['Mass']), hmfcalc['Tinker']*1e0, label=\"Tinker,et.al.2008\")\n",
    "\n",
    "tinkerplot = ax1.plot(np.log10(hal_mass_fn.m), hal_mass_fn.dndlog10m*1e0, label=\"Tinker-08\", color='black')\n",
    "ax2.set_xlabel('log(M) where mass is in $h^{-1}~M_{\\odot}$')\n",
    "ax1.set_ylabel('dn/dlogM in $h^{3}Mpc^{-3}$')\n",
    "ax1.set_title(f'Halo mass function at redshift z = {z:.5g}')\n",
    "ax1.set_xlim(8, 15)\n",
    "# ax1.set_ylim(1e-6,6e-2)\n",
    "ax1.set_yscale('log')\n",
    "ax1.legend()\n",
    "ax1.grid()\n",
    "\n",
    "bin_vals = (hbins+bw/2)[:vr6dfof[0].shape[0]]\n",
    "tinker_at_bins = tinker_mvir(bin_vals)\n",
    "ax2.plot(bin_vals, vr6dfof[0]/vr3dfof[0], label=\"6D/3D MFOF\")\n",
    "ax2.plot(bin_vals, vr6dvir[0]/vr3dvir[0], label=\"6D/3D Mvir\")\n",
    "ax2.plot(bin_vals, vr6d200c[0]/vr3d200c[0], label=\"6D/3D M200c\")\n",
    "ax2.plot(bin_vals, tinker_at_bins/vr6dfof[0], label=\"Tinker/ 6D MFOF\")\n",
    "ax2.plot(bin_vals, tinker_at_bins/vr6dvir[0], label=\"Tinker/ 6D Mvir\")\n",
    "ax2.plot(bin_vals, tinker_at_bins/vr6d200c[0], label=\"Tinker/ 6D M200c\")\n",
    "ax2.plot(bin_vals, tinker_at_bins/rs200c[0], label=\"Tinker/ RS M200c\")\n",
    "ax2.set_ylim(0.5,1.4)\n",
    "# ax2.set_yscale('log')\n",
    "ax2.grid()\n",
    "# ax2.plot(np.arange(10.02,14.98,bw), tinkerplot[0]._y/vr6dfof[0])\n",
    "\n",
    "# ax2.set_yscale('log')\n",
    "\n",
    "\n",
    "ax2.legend()\n"
   ]
  },
  {
   "cell_type": "code",
   "execution_count": 40,
   "id": "featured-woman",
   "metadata": {},
   "outputs": [],
   "source": [
    "# ax1.plot(np.arange(10,14.97,bw), histval[0])"
   ]
  },
  {
   "cell_type": "code",
   "execution_count": 41,
   "id": "provincial-buying",
   "metadata": {},
   "outputs": [
    {
     "data": {
      "text/plain": [
       "(700,)"
      ]
     },
     "execution_count": 41,
     "metadata": {},
     "output_type": "execute_result"
    }
   ],
   "source": [
    "tinkerplot[0]._y.shape"
   ]
  },
  {
   "cell_type": "code",
   "execution_count": 42,
   "id": "communist-spice",
   "metadata": {},
   "outputs": [],
   "source": [
    "# vr3dvir"
   ]
  },
  {
   "cell_type": "code",
   "execution_count": 43,
   "id": "boolean-nebraska",
   "metadata": {},
   "outputs": [],
   "source": [
    "# print(breakpnt)"
   ]
  },
  {
   "cell_type": "code",
   "execution_count": null,
   "id": "dietary-carol",
   "metadata": {},
   "outputs": [],
   "source": []
  },
  {
   "cell_type": "code",
   "execution_count": 44,
   "id": "lovely-given",
   "metadata": {},
   "outputs": [],
   "source": [
    "# hmfcalc = pd.read_csv('Halo-mass_Tinker.txt',sep='\\s+', comment='#', usecols=[0,3], names=['Mass','Tinker'])"
   ]
  },
  {
   "cell_type": "code",
   "execution_count": 45,
   "id": "postal-payday",
   "metadata": {},
   "outputs": [],
   "source": [
    "# hmfcalc"
   ]
  },
  {
   "cell_type": "code",
   "execution_count": 1,
   "id": "durable-button",
   "metadata": {},
   "outputs": [],
   "source": [
    "# hal_rs.info()"
   ]
  },
  {
   "cell_type": "code",
   "execution_count": 8,
   "id": "guided-cabin",
   "metadata": {},
   "outputs": [],
   "source": [
    "L=40; i=35"
   ]
  },
  {
   "cell_type": "code",
   "execution_count": 9,
   "id": "turned-polish",
   "metadata": {},
   "outputs": [],
   "source": [
    "import vrpy_tools"
   ]
  },
  {
   "cell_type": "code",
   "execution_count": 11,
   "id": "concerned-village",
   "metadata": {},
   "outputs": [
    {
     "data": {
      "text/plain": [
       "{'Cosmological_Sim': 1,\n",
       " 'ScaleFactor': 0.500797,\n",
       " 'h_val': 0.6781,\n",
       " 'Omega_m': 0.306337,\n",
       " 'Omega_Lambda': 0.693662,\n",
       " 'Omega_cdm': 0.306337,\n",
       " 'Omega_b': 0.0,\n",
       " 'w_of_DE': -1.0,\n",
       " 'Period': 29.541162,\n",
       " 'Hubble_unit': 100.0,\n",
       " 'Length_unit': 1.0,\n",
       " 'Velocity_unit': 1.0,\n",
       " 'Mass_unit': 1.0,\n",
       " 'Gravity': 43.022682}"
      ]
     },
     "execution_count": 11,
     "metadata": {},
     "output_type": "execute_result"
    }
   ],
   "source": [
    "vrpy_tools.ReadSimInfo(f\"//scratch/cprem/sims/L{L:d}_N512_Cp18/r1/halos_vr_6d/out_{i:03d}\")"
   ]
  },
  {
   "cell_type": "code",
   "execution_count": 37,
   "id": "attached-birthday",
   "metadata": {},
   "outputs": [],
   "source": [
    "simnm = \"L40_N512_Cp18\""
   ]
  },
  {
   "cell_type": "code",
   "execution_count": 40,
   "id": "voluntary-grave",
   "metadata": {},
   "outputs": [
    {
     "data": {
      "text/plain": [
       "40"
      ]
     },
     "execution_count": 40,
     "metadata": {},
     "output_type": "execute_result"
    }
   ],
   "source": [
    "int(simnm.split('_')[0][1:])"
   ]
  },
  {
   "cell_type": "code",
   "execution_count": null,
   "id": "defined-alfred",
   "metadata": {},
   "outputs": [],
   "source": []
  }
 ],
 "metadata": {
  "kernelspec": {
   "display_name": "Python 3",
   "language": "python",
   "name": "python3"
  },
  "language_info": {
   "codemirror_mode": {
    "name": "ipython",
    "version": 3
   },
   "file_extension": ".py",
   "mimetype": "text/x-python",
   "name": "python",
   "nbconvert_exporter": "python",
   "pygments_lexer": "ipython3",
   "version": "3.9.0"
  }
 },
 "nbformat": 4,
 "nbformat_minor": 5
}
