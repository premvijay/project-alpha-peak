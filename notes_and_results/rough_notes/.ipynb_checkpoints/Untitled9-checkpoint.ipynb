{
 "cells": [
  {
   "cell_type": "code",
   "execution_count": 1,
   "id": "vertical-latitude",
   "metadata": {},
   "outputs": [],
   "source": [
    "import numpy as np\n",
    "import h5py"
   ]
  },
  {
   "cell_type": "code",
   "execution_count": 2,
   "id": "hindu-marshall",
   "metadata": {},
   "outputs": [],
   "source": [
    "f = h5py.File('/scratch/cprem/sims/my-bdm_cdm256_p18/r2/bak-snapshot_040.hdf5', 'r+')"
   ]
  },
  {
   "cell_type": "code",
   "execution_count": 3,
   "id": "external-thompson",
   "metadata": {},
   "outputs": [
    {
     "data": {
      "text/plain": [
       "['Config', 'Header', 'Parameters', 'PartType1']"
      ]
     },
     "execution_count": 3,
     "metadata": {},
     "output_type": "execute_result"
    }
   ],
   "source": [
    "list(f.keys())"
   ]
  },
  {
   "cell_type": "code",
   "execution_count": 55,
   "id": "otherwise-jenny",
   "metadata": {},
   "outputs": [
    {
     "name": "stdout",
     "output_type": "stream",
     "text": [
      "BoxSize 200.0\n",
      "Git_commit b'e42944faa701e1201218384ca3d45a3b8732e11c'\n",
      "Git_date b'Wed Jan 6 14:50:34 2021 +0530'\n",
      "MassTable [0.         4.05381691 0.         0.         0.         0.        ]\n",
      "NumFilesPerSnapshot 1\n",
      "NumPart_ThisFile [       0 16777216        0        0        0        0]\n",
      "NumPart_Total [       0 16777216        0        0        0        0]\n",
      "NumPart_Total_HighWord [0 0 0 0 0 0]\n",
      "Redshift 0.5820446994869048\n",
      "Time 0.6320933917507666\n"
     ]
    }
   ],
   "source": [
    "for key in f['Header'].attrs:\n",
    "    print(key, f['Header'].attrs[key])"
   ]
  },
  {
   "cell_type": "code",
   "execution_count": 56,
   "id": "bronze-suicide",
   "metadata": {},
   "outputs": [
    {
     "name": "stdout",
     "output_type": "stream",
     "text": [
      "ActivePartFracForNewDomainDecomp 0.01\n",
      "ArtBulkViscConst 0.8\n",
      "BoxSize 200.0\n",
      "ComovingIntegrationOn 1\n",
      "CourantFac 0.15\n",
      "CpuTimeBetRestartFile 36000.0\n",
      "DesNumNgb 33\n",
      "ErrTolForceAcc 0.005\n",
      "ErrTolIntAccuracy 0.05\n",
      "ErrTolTheta 0.5\n",
      "ErrTolThetaMax 1.0\n",
      "GravityConstantInternal 0.0\n",
      "Hubble 100.0\n",
      "HubbleParam 0.6781\n",
      "ICFormat 1\n",
      "InitCondFile b'r2/ics_gadget.dat'\n",
      "InitGasTemp 1000.0\n",
      "MaxFilesWithConcurrentIO 8\n",
      "MaxMemSize 9000\n",
      "MaxNumNgbDeviation 2.0\n",
      "MaxSizeTimestep 0.01\n",
      "MinEgySpec 50.0\n",
      "MinSizeTimestep 0.0\n",
      "NumFilesPerSnapshot 1\n",
      "Omega0 0.3063375\n",
      "OmegaBaryon 0.0484103\n",
      "OmegaLambda 0.6936625\n",
      "OutputDir b'r2/'\n",
      "OutputListFilename b'r2/outputs.txt'\n",
      "OutputListOn 0\n",
      "SnapFormat 3\n",
      "SnapshotFileBase b'snapshot'\n",
      "SofteningClassOfPartType0 0\n",
      "SofteningClassOfPartType1 1\n",
      "SofteningClassOfPartType2 2\n",
      "SofteningClassOfPartType3 3\n",
      "SofteningClassOfPartType4 4\n",
      "SofteningClassOfPartType5 5\n",
      "SofteningComovingClass0 0.5\n",
      "SofteningComovingClass1 0.0065\n",
      "SofteningComovingClass2 0.005\n",
      "SofteningComovingClass3 0.005\n",
      "SofteningComovingClass4 0.005\n",
      "SofteningComovingClass5 0.005\n",
      "SofteningMaxPhysClass0 0.5\n",
      "SofteningMaxPhysClass1 0.0065\n",
      "SofteningMaxPhysClass2 0.005\n",
      "SofteningMaxPhysClass3 0.005\n",
      "SofteningMaxPhysClass4 0.005\n",
      "SofteningMaxPhysClass5 0.005\n",
      "TimeBegin 0.01\n",
      "TimeBetSnapshot 1.04712854805\n",
      "TimeBetStatistics 0.05\n",
      "TimeLimitCPU 691200.0\n",
      "TimeMax 1.0\n",
      "TimeOfFirstSnapshot 0.1\n",
      "TopNodeFactor 2.5\n",
      "TypeOfOpeningCriterion 1\n",
      "UnitLength_in_cm 3.08568025e+24\n",
      "UnitMass_in_g 1.989e+43\n",
      "UnitVelocity_in_cm_per_s 100000.0\n"
     ]
    }
   ],
   "source": [
    "for key in f['Parameters'].attrs:\n",
    "    print(key, f['Parameters'].attrs[key])"
   ]
  },
  {
   "cell_type": "code",
   "execution_count": 57,
   "id": "indoor-injection",
   "metadata": {},
   "outputs": [],
   "source": [
    "fic = h5py.File('/scratch/cprem/sims/my-bdm_cdm256_p18/r2/ics_gadget.hdf5', 'r')"
   ]
  },
  {
   "cell_type": "code",
   "execution_count": 58,
   "id": "vocal-overall",
   "metadata": {},
   "outputs": [
    {
     "data": {
      "text/plain": [
       "['Header', 'PartType1']"
      ]
     },
     "execution_count": 58,
     "metadata": {},
     "output_type": "execute_result"
    }
   ],
   "source": [
    "list(fic.keys())"
   ]
  },
  {
   "cell_type": "code",
   "execution_count": 59,
   "id": "prescribed-kinase",
   "metadata": {},
   "outputs": [
    {
     "name": "stdout",
     "output_type": "stream",
     "text": [
      "BoxSize [200.]\n",
      "Flag_Cooling [0]\n",
      "Flag_Entropy_ICs [0]\n",
      "Flag_Feedback [0]\n",
      "Flag_Metals [0]\n",
      "Flag_Sfr [0]\n",
      "Flag_StellarAge [0]\n",
      "HubbleParam [0.6781]\n",
      "MassTable [0.         4.05381691 0.         0.         0.         0.        ]\n",
      "NumFilesPerSnapshot [1]\n",
      "NumPart_ThisFile [       0 16777216        0        0        0        0]\n",
      "NumPart_Total [       0 16777216        0        0        0        0]\n",
      "NumPart_Total_HighWord [0 0 0 0 0 0]\n",
      "Omega0 [0.3063375]\n",
      "OmegaLambda [0.6936625]\n",
      "Redshift [99.]\n",
      "Time [0.01]\n"
     ]
    }
   ],
   "source": [
    "for key in fic['Header'].attrs:\n",
    "    print(key, fic['Header'].attrs[key])"
   ]
  },
  {
   "cell_type": "code",
   "execution_count": 69,
   "id": "going-marks",
   "metadata": {},
   "outputs": [
    {
     "name": "stdout",
     "output_type": "stream",
     "text": [
      "BoxSize 200.0\n",
      "Git_commit b'e42944faa701e1201218384ca3d45a3b8732e11c'\n",
      "Git_date b'Wed Jan 6 14:50:34 2021 +0530'\n",
      "HubbleParam 0.6781\n",
      "MassTable [0.         4.05381691 0.         0.         0.         0.        ]\n",
      "NumFilesPerSnapshot 1\n",
      "NumPart_ThisFile [       0 16777216        0        0        0        0]\n",
      "NumPart_Total [       0 16777216        0        0        0        0]\n",
      "NumPart_Total_HighWord [0 0 0 0 0 0]\n",
      "Omega0 0.3063375\n",
      "OmegaLambda 0.6936625\n",
      "Redshift 0.5820446994869048\n",
      "Time 0.6320933917507666\n"
     ]
    }
   ],
   "source": [
    "for key in f['Header'].attrs:\n",
    "    print(key, f['Header'].attrs[key])"
   ]
  },
  {
   "cell_type": "code",
   "execution_count": null,
   "id": "divided-summary",
   "metadata": {},
   "outputs": [],
   "source": []
  },
  {
   "cell_type": "code",
   "execution_count": 61,
   "id": "stock-cattle",
   "metadata": {},
   "outputs": [],
   "source": [
    "f['Header'].attrs.create(\"NumPart_Total_HighWord\", np.zeros(6, dtype=int) )"
   ]
  },
  {
   "cell_type": "code",
   "execution_count": null,
   "id": "amateur-lighting",
   "metadata": {},
   "outputs": [],
   "source": []
  },
  {
   "cell_type": "code",
   "execution_count": 68,
   "id": "hidden-collapse",
   "metadata": {},
   "outputs": [],
   "source": [
    "for key in ['HubbleParam', 'Omega0', 'OmegaLambda']:\n",
    "    f['Header'].attrs.create(key, f['Parameters'].attrs[key])"
   ]
  },
  {
   "cell_type": "code",
   "execution_count": null,
   "id": "asian-mailman",
   "metadata": {},
   "outputs": [],
   "source": []
  },
  {
   "cell_type": "code",
   "execution_count": 70,
   "id": "worthy-fight",
   "metadata": {},
   "outputs": [],
   "source": [
    "f.close()"
   ]
  },
  {
   "cell_type": "code",
   "execution_count": 67,
   "id": "standard-switzerland",
   "metadata": {},
   "outputs": [
    {
     "data": {
      "text/plain": [
       "['HubbleParam', 'Omega0', 'OmegaLambda']"
      ]
     },
     "execution_count": 67,
     "metadata": {},
     "output_type": "execute_result"
    }
   ],
   "source": [
    "[list(f['Parameters'].attrs)[ikey] for ikey in (13,24,26)]"
   ]
  },
  {
   "cell_type": "code",
   "execution_count": null,
   "id": "offensive-cosmetic",
   "metadata": {},
   "outputs": [],
   "source": []
  },
  {
   "cell_type": "code",
   "execution_count": 71,
   "id": "irish-puppy",
   "metadata": {},
   "outputs": [],
   "source": [
    "halo_grp = h5py.File('/scratch/cprem/sims/my-bdm_cdm256_p18/r2/halos_vrt.catalog_groups.0', 'r')"
   ]
  },
  {
   "cell_type": "code",
   "execution_count": 72,
   "id": "allied-boulder",
   "metadata": {},
   "outputs": [],
   "source": [
    "# halos_vrt.catalog_groups.0"
   ]
  },
  {
   "cell_type": "code",
   "execution_count": 73,
   "id": "secondary-allen",
   "metadata": {},
   "outputs": [
    {
     "data": {
      "text/plain": [
       "<KeysViewHDF5 ['File_id', 'Group_Size', 'Num_of_files', 'Num_of_groups', 'Number_of_substructures_in_halo', 'Offset', 'Offset_unbound', 'Parent_halo_ID', 'Total_num_of_groups']>"
      ]
     },
     "execution_count": 73,
     "metadata": {},
     "output_type": "execute_result"
    }
   ],
   "source": [
    "halo_grp.keys()"
   ]
  },
  {
   "cell_type": "code",
   "execution_count": 78,
   "id": "outside-relevance",
   "metadata": {},
   "outputs": [
    {
     "data": {
      "text/plain": [
       "array([10, 13, 11, ...,  0,  0,  0], dtype=uint32)"
      ]
     },
     "execution_count": 78,
     "metadata": {},
     "output_type": "execute_result"
    }
   ],
   "source": [
    "halo_grp['Number_of_substructures_in_halo'][:]"
   ]
  },
  {
   "cell_type": "code",
   "execution_count": 98,
   "id": "organic-simpson",
   "metadata": {},
   "outputs": [],
   "source": [
    "parts_hals = halo_grp['Group_Size'][:]\n"
   ]
  },
  {
   "cell_type": "code",
   "execution_count": 99,
   "id": "premier-albania",
   "metadata": {},
   "outputs": [
    {
     "data": {
      "text/plain": [
       "2314166"
      ]
     },
     "execution_count": 99,
     "metadata": {},
     "output_type": "execute_result"
    }
   ],
   "source": [
    "parts_hals.sum()"
   ]
  },
  {
   "cell_type": "code",
   "execution_count": 100,
   "id": "spatial-quick",
   "metadata": {},
   "outputs": [
    {
     "data": {
      "text/plain": [
       "(array([], dtype=int64),)"
      ]
     },
     "execution_count": 100,
     "metadata": {},
     "output_type": "execute_result"
    }
   ],
   "source": [
    "np.where(parts_hals==-1)"
   ]
  },
  {
   "cell_type": "code",
   "execution_count": null,
   "id": "configured-approach",
   "metadata": {},
   "outputs": [],
   "source": []
  },
  {
   "cell_type": "code",
   "execution_count": null,
   "id": "composite-series",
   "metadata": {},
   "outputs": [],
   "source": [
    "'/scratch/cprem/sims/my-bdm_cdm256_p18/r2/bak-snapshot_040.hdf5'"
   ]
  },
  {
   "cell_type": "code",
   "execution_count": 4,
   "id": "partial-disclaimer",
   "metadata": {},
   "outputs": [],
   "source": [
    "def hdf5_gadget4_to_2(filepath):\n",
    "    f = h5py.File(filepath, 'r+')\n",
    "    f['Header'].attrs.create(\"NumPart_Total_HighWord\", np.zeros(6, dtype=int) )\n",
    "    for key in ['HubbleParam', 'Omega0', 'OmegaLambda']:\n",
    "        f['Header'].attrs.create(key, f['Parameters'].attrs[key])\n",
    "    f.close()"
   ]
  },
  {
   "cell_type": "code",
   "execution_count": 6,
   "id": "unlikely-czech",
   "metadata": {},
   "outputs": [],
   "source": [
    "for i in range(51):\n",
    "    filepath = f'/scratch/cprem/sims/my-bdm_cdm256_p18/r2/snapshot_{i:03d}.hdf5'\n",
    "    hdf5_gadget4_to_2(filepath)"
   ]
  },
  {
   "cell_type": "code",
   "execution_count": 5,
   "id": "phantom-newspaper",
   "metadata": {},
   "outputs": [],
   "source": [
    "for i in range(51):\n",
    "    for j in range(8):\n",
    "        filepath = f'/scratch/cprem/sims/my-bdm_cdm512_p18/r2/snapdir_{i:03d}/snapshot_{i:03d}.{j:d}.hdf5'\n",
    "        hdf5_gadget4_to_2(filepath)"
   ]
  },
  {
   "cell_type": "code",
   "execution_count": null,
   "id": "composite-bottom",
   "metadata": {},
   "outputs": [],
   "source": []
  }
 ],
 "metadata": {
  "kernelspec": {
   "display_name": "Python 3",
   "language": "python",
   "name": "python3"
  },
  "language_info": {
   "codemirror_mode": {
    "name": "ipython",
    "version": 3
   },
   "file_extension": ".py",
   "mimetype": "text/x-python",
   "name": "python",
   "nbconvert_exporter": "python",
   "pygments_lexer": "ipython3",
   "version": "3.9.0"
  }
 },
 "nbformat": 4,
 "nbformat_minor": 5
}
