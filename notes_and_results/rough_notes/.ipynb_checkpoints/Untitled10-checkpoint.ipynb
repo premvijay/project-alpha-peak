{
 "cells": [
  {
   "cell_type": "code",
   "execution_count": 1,
   "id": "selective-patio",
   "metadata": {},
   "outputs": [],
   "source": [
    "import numpy as np\n",
    "import h5py\n",
    "import tables"
   ]
  },
  {
   "cell_type": "code",
   "execution_count": 2,
   "id": "continent-nitrogen",
   "metadata": {},
   "outputs": [],
   "source": [
    "import pandas as pd"
   ]
  },
  {
   "cell_type": "code",
   "execution_count": 3,
   "id": "arctic-slope",
   "metadata": {},
   "outputs": [],
   "source": [
    "import matplotlib.pyplot as plt\n",
    "# plt.style.use('dark_background')\n",
    "plt.style.use('default')"
   ]
  },
  {
   "cell_type": "code",
   "execution_count": 4,
   "id": "duplicate-consultation",
   "metadata": {},
   "outputs": [],
   "source": [
    "import matplotlib as mpl\n",
    "mpl.rcParams['lines.linewidth'] = 1"
   ]
  },
  {
   "cell_type": "code",
   "execution_count": null,
   "id": "logical-zoning",
   "metadata": {},
   "outputs": [],
   "source": []
  },
  {
   "cell_type": "code",
   "execution_count": 5,
   "id": "steady-entrance",
   "metadata": {},
   "outputs": [],
   "source": [
    "import hmf"
   ]
  },
  {
   "cell_type": "code",
   "execution_count": 6,
   "id": "composed-impossible",
   "metadata": {},
   "outputs": [],
   "source": [
    "from hmf import MassFunction"
   ]
  },
  {
   "cell_type": "code",
   "execution_count": 7,
   "id": "respected-advertiser",
   "metadata": {},
   "outputs": [],
   "source": [
    "# from hmf.halos import mass_definitions as md"
   ]
  },
  {
   "cell_type": "code",
   "execution_count": null,
   "id": "absent-secret",
   "metadata": {},
   "outputs": [],
   "source": []
  },
  {
   "cell_type": "code",
   "execution_count": 8,
   "id": "narrative-harassment",
   "metadata": {},
   "outputs": [],
   "source": [
    "from astropy.cosmology import Planck18"
   ]
  },
  {
   "cell_type": "code",
   "execution_count": 9,
   "id": "tender-energy",
   "metadata": {},
   "outputs": [],
   "source": [
    "from scipy.interpolate import interp1d"
   ]
  },
  {
   "cell_type": "code",
   "execution_count": 10,
   "id": "subject-variance",
   "metadata": {},
   "outputs": [],
   "source": [
    "# hal40h5 = h5py.File(\"/scratch/cprem/sims/my-bdm_cdm256_p18/r2/halos_vrt.properties.0\", 'r')"
   ]
  },
  {
   "cell_type": "code",
   "execution_count": 11,
   "id": "based-mineral",
   "metadata": {},
   "outputs": [],
   "source": [
    "# list(hal40h5.keys())"
   ]
  },
  {
   "cell_type": "code",
   "execution_count": 12,
   "id": "prepared-cartoon",
   "metadata": {},
   "outputs": [],
   "source": [
    "# hal40h5['Mvir']"
   ]
  },
  {
   "cell_type": "code",
   "execution_count": 13,
   "id": "alive-disease",
   "metadata": {},
   "outputs": [],
   "source": [
    "# hal_logM = np.log10(hal40h5['Mass_200mean']) + 10"
   ]
  },
  {
   "cell_type": "code",
   "execution_count": 14,
   "id": "mathematical-reward",
   "metadata": {},
   "outputs": [],
   "source": [
    "# hal_logM = np.log10(hal40h5['Mass_200crit']) + 10"
   ]
  },
  {
   "cell_type": "code",
   "execution_count": 15,
   "id": "spread-training",
   "metadata": {},
   "outputs": [],
   "source": [
    "L=40\n",
    "i=35"
   ]
  },
  {
   "cell_type": "code",
   "execution_count": 16,
   "id": "color-stuart",
   "metadata": {},
   "outputs": [],
   "source": [
    "meta_info = pd.read_csv(f\"//scratch/cprem/sims/L{L:d}_N512_Cp18/r1/halos_vr_6d/out_{i:03d}.siminfo\", sep=':')[' 1 # int32 ']\n",
    "z = 1/float(meta_info[0].split('#')[0])-1"
   ]
  },
  {
   "cell_type": "code",
   "execution_count": 17,
   "id": "initial-swaziland",
   "metadata": {},
   "outputs": [
    {
     "data": {
      "text/plain": [
       "0.9968170735847057"
      ]
     },
     "execution_count": 17,
     "metadata": {},
     "output_type": "execute_result"
    }
   ],
   "source": [
    "z"
   ]
  },
  {
   "cell_type": "code",
   "execution_count": 78,
   "id": "gorgeous-guinea",
   "metadata": {},
   "outputs": [],
   "source": [
    "hal_rs = pd.read_csv(f'/scratch/cprem/sims/L{L:d}_N512_Cp18/r1/halos_rs/out_wp_{i:d}.list', sep=r'\\s+', header=0, skiprows=list(range(1,16)), engine='c')"
   ]
  },
  {
   "cell_type": "code",
   "execution_count": 79,
   "id": "fleet-tribute",
   "metadata": {},
   "outputs": [],
   "source": [
    "hal_rs = hal_rs[hal_rs['PID']==-1]"
   ]
  },
  {
   "cell_type": "code",
   "execution_count": 21,
   "id": "peripheral-buying",
   "metadata": {},
   "outputs": [],
   "source": [
    "# hal40rs.info()"
   ]
  },
  {
   "cell_type": "code",
   "execution_count": 22,
   "id": "legendary-coral",
   "metadata": {},
   "outputs": [],
   "source": [
    "hal_rs_logM = np.log10(hal_rs['M200b'])"
   ]
  },
  {
   "cell_type": "code",
   "execution_count": 23,
   "id": "offshore-enemy",
   "metadata": {},
   "outputs": [],
   "source": [
    "# hal_rs_logM = np.log10(hal40rs['Mvir'])"
   ]
  },
  {
   "cell_type": "code",
   "execution_count": null,
   "id": "noble-given",
   "metadata": {},
   "outputs": [],
   "source": []
  },
  {
   "cell_type": "code",
   "execution_count": null,
   "id": "seventh-assembly",
   "metadata": {},
   "outputs": [],
   "source": []
  },
  {
   "cell_type": "code",
   "execution_count": 80,
   "id": "alpha-expression",
   "metadata": {},
   "outputs": [],
   "source": [
    "# hal_vr3d.close()\n",
    "hal_vr3d = tables.open_file(f\"/scratch/cprem/sims/L{L:d}_N512_Cp18/r1/halos_vr_3d/out_{i:03d}.properties.0\", 'r')\n",
    "# hal_vr3d_logM = np.log10(hal_vr3d.root.Mass_200mean) + 10"
   ]
  },
  {
   "cell_type": "code",
   "execution_count": 81,
   "id": "perceived-moisture",
   "metadata": {},
   "outputs": [],
   "source": [
    "# hal_vr6d.close()\n",
    "hal_vr6d = tables.open_file(f\"/scratch/cprem/sims/L{L:d}_N512_Cp18/r1/halos_vr_6d/out_{i:03d}.properties.0\", 'r')\n",
    "# hal_vr6d_logM = np.log10(hal_vr6d.root.Mass_200mean) + 10"
   ]
  },
  {
   "cell_type": "code",
   "execution_count": 82,
   "id": "western-church",
   "metadata": {},
   "outputs": [],
   "source": [
    "# dir(hal_vr.root)"
   ]
  },
  {
   "cell_type": "code",
   "execution_count": 83,
   "id": "valuable-amsterdam",
   "metadata": {},
   "outputs": [],
   "source": [
    "select_hal_3d = np.where(hal_vr3d.root.hostHaloID[:]==-1)\n",
    "select_hal_6d = np.where(hal_vr6d.root.hostHaloID[:]==-1)"
   ]
  },
  {
   "cell_type": "code",
   "execution_count": 84,
   "id": "increased-rescue",
   "metadata": {},
   "outputs": [
    {
     "data": {
      "text/plain": [
       "126619"
      ]
     },
     "execution_count": 84,
     "metadata": {},
     "output_type": "execute_result"
    }
   ],
   "source": [
    "select_hal_3d[0].shape[0]"
   ]
  },
  {
   "cell_type": "code",
   "execution_count": 85,
   "id": "studied-transition",
   "metadata": {},
   "outputs": [],
   "source": [
    "num_hal_vr3d = select_hal_3d[0].shape[0]\n",
    "num_hal_vr6d = select_hal_6d[0].shape[0]"
   ]
  },
  {
   "cell_type": "code",
   "execution_count": 86,
   "id": "brown-essay",
   "metadata": {},
   "outputs": [],
   "source": [
    "num_hal_rs = hal_rs['#ID'].shape[0]"
   ]
  },
  {
   "cell_type": "code",
   "execution_count": 87,
   "id": "blank-albany",
   "metadata": {},
   "outputs": [
    {
     "data": {
      "text/plain": [
       "182439"
      ]
     },
     "execution_count": 87,
     "metadata": {},
     "output_type": "execute_result"
    }
   ],
   "source": [
    "num_hal_rs"
   ]
  },
  {
   "cell_type": "code",
   "execution_count": 88,
   "id": "interstate-teddy",
   "metadata": {},
   "outputs": [
    {
     "data": {
      "text/plain": [
       "1.978421875"
      ]
     },
     "execution_count": 88,
     "metadata": {},
     "output_type": "execute_result"
    }
   ],
   "source": [
    "num_hal_vr3d/L**3"
   ]
  },
  {
   "cell_type": "code",
   "execution_count": null,
   "id": "oriented-bearing",
   "metadata": {},
   "outputs": [],
   "source": []
  },
  {
   "cell_type": "code",
   "execution_count": null,
   "id": "turned-capacity",
   "metadata": {},
   "outputs": [],
   "source": []
  },
  {
   "cell_type": "code",
   "execution_count": 89,
   "id": "retained-knight",
   "metadata": {},
   "outputs": [],
   "source": [
    "# dir(hal_mass_fn)\n",
    "# hal_mass_fn.dndlog10m"
   ]
  },
  {
   "cell_type": "code",
   "execution_count": 90,
   "id": "primary-cincinnati",
   "metadata": {},
   "outputs": [],
   "source": [
    "hal_mass_fn = MassFunction()\n",
    "hal_mass_fn.update(cosmo_model=Planck18)\n",
    "hal_mass_fn.update(z=z)\n",
    "hal_mass_fn.update(\n",
    "    hmf_model=\"Tinker08\",\n",
    ")\n",
    "hal_mass_fn.update(\n",
    "    mdef_model  = \"SOCritical\",\n",
    "    mdef_params = {\"overdensity\":200,},\n",
    ")\n",
    "hal_mass_fn.update(\n",
    "    Mmin  = 8,\n",
    "    Mmax = 15,\n",
    ")"
   ]
  },
  {
   "cell_type": "code",
   "execution_count": 91,
   "id": "first-affiliation",
   "metadata": {},
   "outputs": [],
   "source": [
    "tinker_mvir = interp1d(np.log10(hal_mass_fn.m), hal_mass_fn.dndlog10m)"
   ]
  },
  {
   "cell_type": "code",
   "execution_count": 92,
   "id": "numerical-hours",
   "metadata": {},
   "outputs": [
    {
     "data": {
      "text/plain": [
       "{'cosmo_model': FlatLambdaCDM(name=\"Planck18\", H0=67.7 km / (Mpc s), Om0=0.31, Tcmb0=2.725 K, Neff=3.05, m_nu=[0.   0.   0.06] eV, Ob0=0.049),\n",
       " 'cosmo_params': {},\n",
       " 'n': 0.9667,\n",
       " 'sigma_8': 0.8159,\n",
       " 'growth_params': {},\n",
       " 'lnk_min': -18.420680743952367,\n",
       " 'lnk_max': 9.903487552536127,\n",
       " 'dlnk': 0.05,\n",
       " 'z': 0.9968170735847057,\n",
       " 'transfer_model': hmf.density_field.transfer_models.CAMB,\n",
       " 'transfer_params': {},\n",
       " 'takahashi': True,\n",
       " 'growth_model': hmf.cosmology.growth_factor.GrowthFactor,\n",
       " 'hmf_model': hmf.mass_function.fitting_functions.Tinker08,\n",
       " 'Mmin': 8,\n",
       " 'Mmax': 15,\n",
       " 'dlog10m': 0.01,\n",
       " 'mdef_model': hmf.halos.mass_definitions.SOCritical,\n",
       " 'mdef_params': {'overdensity': 200},\n",
       " 'delta_c': 1.686,\n",
       " 'hmf_params': {},\n",
       " 'filter_model': hmf.density_field.filters.TopHat,\n",
       " 'filter_params': {},\n",
       " 'disable_mass_conversion': True}"
      ]
     },
     "execution_count": 92,
     "metadata": {},
     "output_type": "execute_result"
    }
   ],
   "source": [
    "hal_mass_fn.parameter_values"
   ]
  },
  {
   "cell_type": "code",
   "execution_count": 93,
   "id": "vulnerable-partnership",
   "metadata": {},
   "outputs": [],
   "source": [
    "# plt.hist(hal_vr_logM, bins=50)\n",
    "# plt.yscale('log')"
   ]
  },
  {
   "cell_type": "code",
   "execution_count": 94,
   "id": "imported-heart",
   "metadata": {},
   "outputs": [],
   "source": [
    "%matplotlib widget"
   ]
  },
  {
   "cell_type": "code",
   "execution_count": 95,
   "id": "continuous-peoples",
   "metadata": {},
   "outputs": [],
   "source": [
    "bw=0.04\n",
    "hbins = np.arange(8,15,bw)"
   ]
  },
  {
   "cell_type": "code",
   "execution_count": 97,
   "id": "premier-vintage",
   "metadata": {},
   "outputs": [
    {
     "data": {
      "application/vnd.jupyter.widget-view+json": {
       "model_id": "7aa8b02d48e3467c828dc04a035fb750",
       "version_major": 2,
       "version_minor": 0
      },
      "text/plain": [
       "Canvas(toolbar=Toolbar(toolitems=[('Home', 'Reset original view', 'home', 'home'), ('Back', 'Back to previous …"
      ]
     },
     "metadata": {},
     "output_type": "display_data"
    },
    {
     "name": "stderr",
     "output_type": "stream",
     "text": [
      "/mnt/home/student/cprem/anaconda3/envs/conforg/lib/python3.9/site-packages/pandas/core/series.py:726: RuntimeWarning: divide by zero encountered in log10\n",
      "  result = getattr(ufunc, method)(*inputs, **kwargs)\n",
      "<ipython-input-97-b9555e9e9ece>:8: RuntimeWarning: invalid value encountered in log10\n",
      "  vr3d200c= ax1.hist(np.log10(hal_vr3d.root.Mass_200crit[select_hal_3d]) + 10-.1, bins=hbins, weights=1*np.ones(num_hal_vr3d)/bw/L**3, histtype='step', log=True, label=\"VR_3D_M200c\")\n",
      "<ipython-input-97-b9555e9e9ece>:9: RuntimeWarning: invalid value encountered in log10\n",
      "  vr6d200c= ax1.hist(np.log10(hal_vr6d.root.Mass_200crit[select_hal_6d]) + 10-0.1, bins=hbins, weights=1*np.ones(num_hal_vr6d)/bw/L**3, histtype='step', log=True, label=\"VR_6D_M200c\")\n",
      "<ipython-input-97-b9555e9e9ece>:28: RuntimeWarning: divide by zero encountered in true_divide\n",
      "  ax2.plot(bin_vals, vr6dfof[0]/vr3dfof[0], label=\"6D/3D MFOF\")\n",
      "<ipython-input-97-b9555e9e9ece>:28: RuntimeWarning: invalid value encountered in true_divide\n",
      "  ax2.plot(bin_vals, vr6dfof[0]/vr3dfof[0], label=\"6D/3D MFOF\")\n",
      "<ipython-input-97-b9555e9e9ece>:31: RuntimeWarning: divide by zero encountered in true_divide\n",
      "  ax2.plot(bin_vals, tinker_at_bins/vr6dfof[0], label=\"Tinker/ 6D MFOF\")\n"
     ]
    },
    {
     "data": {
      "text/plain": [
       "<matplotlib.legend.Legend at 0x2b0df25f0340>"
      ]
     },
     "execution_count": 97,
     "metadata": {},
     "output_type": "execute_result"
    }
   ],
   "source": [
    "fig, (ax1,ax2) = plt.subplots(2, figsize=(12,9), dpi=120, sharex=True)\n",
    "plt.subplots_adjust(hspace=.1)\n",
    "\n",
    "rsvir = ax1.hist(np.log10(hal_rs['Mvir']), bins=hbins, weights=1*np.ones(num_hal_rs)/bw/L**3, histtype='step', log=True,label=\"RS_Mvir\")\n",
    "rs200c = ax1.hist(np.log10(hal_rs['M200c']), bins=hbins, weights=1*np.ones(num_hal_rs)/bw/L**3, histtype='step', log=True,label=\"RS_M200c\")\n",
    "# plt.hist(np.log10(hal_vr3d.root.Mass_200mean) + 10, bins=100, histtype='step', label=\"Velociraptor_3D\")\n",
    "# plt.hist(np.log10(hal_vr6d.root.Mass_200mean) + 10, bins=100, histtype='step', label=\"Velociraptor_6D\")\n",
    "vr3d200c= ax1.hist(np.log10(hal_vr3d.root.Mass_200crit[select_hal_3d]) + 10-.1, bins=hbins, weights=1*np.ones(num_hal_vr3d)/bw/L**3, histtype='step', log=True, label=\"VR_3D_M200c\")\n",
    "vr6d200c= ax1.hist(np.log10(hal_vr6d.root.Mass_200crit[select_hal_6d]) + 10-0.1, bins=hbins, weights=1*np.ones(num_hal_vr6d)/bw/L**3, histtype='step', log=True, label=\"VR_6D_M200c\")\n",
    "vr3dvir= ax1.hist(np.log10(hal_vr3d.root.Mvir[select_hal_6d]) + 10, bins=hbins, weights=1*np.ones(num_hal_vr6d)/bw/L**3, histtype='step', log=True, label=\"VR_3D_Mvir\")\n",
    "vr6dvir= ax1.hist(np.log10(hal_vr6d.root.Mvir[select_hal_6d]) + 10, bins=hbins, weights=1*np.ones(num_hal_vr6d)/bw/L**3, histtype='step', log=True, label=\"VR_6D_Mvir\")\n",
    "vr3dfof= ax1.hist(np.log10(hal_vr3d.root.Mass_FOF[select_hal_3d]) + 10, bins=hbins, weights=1*np.ones(num_hal_vr3d)/bw/L**3, histtype='step', log=True, label=\"VR_3D_MFOF\")\n",
    "vr6dfof= ax1.hist(np.log10(hal_vr6d.root.Mass_FOF[select_hal_6d]) + 10, bins=hbins, weights=1*np.ones(num_hal_vr6d)/bw/L**3, histtype='step', log=True, label=\"VR_6D_MFOF\")\n",
    "# ax1.plot(np.log10(hmfcalc['Mass']), hmfcalc['Tinker']*1e0, label=\"Tinker,et.al.2008\")\n",
    "\n",
    "tinkerplot = ax1.plot(np.log10(hal_mass_fn.m), hal_mass_fn.dndlog10m*1e0, label=\"Tinker-08\", color='black')\n",
    "ax2.set_xlabel('log(M) where mass is in $h^{-1}~M_{\\odot}$')\n",
    "ax1.set_ylabel('dn/dlogM in $h^{3}Mpc^{-3}$')\n",
    "ax1.set_title(f'Halo mass function at redshift z = {z:.5g}')\n",
    "ax1.set_xlim(8, 15)\n",
    "# ax1.set_ylim(1e-6,6e-2)\n",
    "ax1.set_yscale('log')\n",
    "ax1.legend()\n",
    "ax1.grid()\n",
    "\n",
    "bin_vals = (hbins+bw/2)[:vr6dfof[0].shape[0]]\n",
    "tinker_at_bins = tinker_mvir(bin_vals)\n",
    "ax2.plot(bin_vals, vr6dfof[0]/vr3dfof[0], label=\"6D/3D MFOF\")\n",
    "# ax2.plot(bin_vals, vr6dvir[0]/vr3dvir[0], label=\"6D/3D Mvir\")\n",
    "# ax2.plot(bin_vals, vr6d200c[0]/vr3d200c[0], label=\"6D/3D M200c\")\n",
    "ax2.plot(bin_vals, tinker_at_bins/vr6dfof[0], label=\"Tinker/ 6D MFOF\")\n",
    "# ax2.plot(bin_vals, tinker_at_bins/vr6dvir[0], label=\"Tinker/ 6D Mvir\")\n",
    "# ax2.plot(bin_vals, tinker_at_bins/vr6d200c[0], label=\"Tinker/ 6D M200c\")\n",
    "# ax2.plot(bin_vals, tinker_at_bins/rs200c[0], label=\"Tinker/ RS M200c\")\n",
    "ax2.set_ylim(0.5,1.4)\n",
    "# ax2.set_yscale('log')\n",
    "ax2.grid()\n",
    "# ax2.plot(np.arange(10.02,14.98,bw), tinkerplot[0]._y/vr6dfof[0])\n",
    "\n",
    "# ax2.set_yscale('log')\n",
    "\n",
    "\n",
    "ax2.legend()\n"
   ]
  },
  {
   "cell_type": "code",
   "execution_count": 70,
   "id": "cultural-distribution",
   "metadata": {},
   "outputs": [],
   "source": [
    "# ax1.plot(np.arange(10,14.97,bw), histval[0])"
   ]
  },
  {
   "cell_type": "code",
   "execution_count": 71,
   "id": "confident-front",
   "metadata": {},
   "outputs": [
    {
     "data": {
      "text/plain": [
       "(500,)"
      ]
     },
     "execution_count": 71,
     "metadata": {},
     "output_type": "execute_result"
    }
   ],
   "source": [
    "tinkerplot[0]._y.shape"
   ]
  },
  {
   "cell_type": "code",
   "execution_count": 72,
   "id": "conceptual-executive",
   "metadata": {},
   "outputs": [],
   "source": [
    "# vr3dvir"
   ]
  },
  {
   "cell_type": "code",
   "execution_count": 529,
   "id": "superior-pencil",
   "metadata": {},
   "outputs": [
    {
     "ename": "NameError",
     "evalue": "name 'breakpnt' is not defined",
     "output_type": "error",
     "traceback": [
      "\u001b[0;31m---------------------------------------------------------------------------\u001b[0m",
      "\u001b[0;31mNameError\u001b[0m                                 Traceback (most recent call last)",
      "\u001b[0;32m<ipython-input-529-b6a9841cb3e0>\u001b[0m in \u001b[0;36m<module>\u001b[0;34m\u001b[0m\n\u001b[0;32m----> 1\u001b[0;31m \u001b[0mprint\u001b[0m\u001b[0;34m(\u001b[0m\u001b[0mbreakpnt\u001b[0m\u001b[0;34m)\u001b[0m\u001b[0;34m\u001b[0m\u001b[0;34m\u001b[0m\u001b[0m\n\u001b[0m",
      "\u001b[0;31mNameError\u001b[0m: name 'breakpnt' is not defined"
     ]
    }
   ],
   "source": [
    "print(breakpnt)"
   ]
  },
  {
   "cell_type": "code",
   "execution_count": null,
   "id": "acting-telling",
   "metadata": {},
   "outputs": [],
   "source": []
  },
  {
   "cell_type": "code",
   "execution_count": 530,
   "id": "thrown-quick",
   "metadata": {},
   "outputs": [],
   "source": [
    "# hmfcalc = pd.read_csv('Halo-mass_Tinker.txt',sep='\\s+', comment='#', usecols=[0,3], names=['Mass','Tinker'])"
   ]
  },
  {
   "cell_type": "code",
   "execution_count": 524,
   "id": "graduate-august",
   "metadata": {},
   "outputs": [],
   "source": [
    "# hmfcalc"
   ]
  },
  {
   "cell_type": "code",
   "execution_count": 205,
   "id": "material-smith",
   "metadata": {},
   "outputs": [],
   "source": [
    "# hal_rs.info()"
   ]
  },
  {
   "cell_type": "code",
   "execution_count": 77,
   "id": "private-croatia",
   "metadata": {},
   "outputs": [
    {
     "data": {
      "image/png": "[encoded data removed]",
      "text/plain": [
       "<Figure size 432x288 with 1 Axes>"
      ]
     },
     "metadata": {},
     "output_type": "display_data"
    }
   ],
   "source": [
    "plt.hist(hal_rs_logM, bins=100, alpha=0.5, color='white')\n",
    "plt.hist(hal_logM, bins=100, alpha=0.5, color='white')\n",
    "plt.yscale('log')"
   ]
  },
  {
   "cell_type": "code",
   "execution_count": 71,
   "id": "liked-uruguay",
   "metadata": {},
   "outputs": [
    {
     "name": "stderr",
     "output_type": "stream",
     "text": [
      "/mnt/home/student/cprem/anaconda3/envs/conforg/lib/python3.9/site-packages/pandas/core/series.py:726: RuntimeWarning: divide by zero encountered in log10\n",
      "  result = getattr(ufunc, method)(*inputs, **kwargs)\n"
     ]
    },
    {
     "name": "stdout",
     "output_type": "stream",
     "text": [
      "8.554200982171862\n"
     ]
    },
    {
     "name": "stderr",
     "output_type": "stream",
     "text": [
      "/mnt/home/student/cprem/anaconda3/envs/conforg/lib/python3.9/site-packages/pandas/core/series.py:726: RuntimeWarning: divide by zero encountered in log10\n",
      "  result = getattr(ufunc, method)(*inputs, **kwargs)\n"
     ]
    },
    {
     "name": "stdout",
     "output_type": "stream",
     "text": [
      "8.142857142857142\n"
     ]
    },
    {
     "name": "stderr",
     "output_type": "stream",
     "text": [
      "/mnt/home/student/cprem/anaconda3/envs/conforg/lib/python3.9/site-packages/pandas/core/series.py:726: RuntimeWarning: divide by zero encountered in log10\n",
      "  result = getattr(ufunc, method)(*inputs, **kwargs)\n"
     ]
    },
    {
     "name": "stdout",
     "output_type": "stream",
     "text": [
      "7.694442512346109\n"
     ]
    },
    {
     "name": "stderr",
     "output_type": "stream",
     "text": [
      "/mnt/home/student/cprem/anaconda3/envs/conforg/lib/python3.9/site-packages/pandas/core/series.py:726: RuntimeWarning: divide by zero encountered in log10\n",
      "  result = getattr(ufunc, method)(*inputs, **kwargs)\n"
     ]
    },
    {
     "name": "stdout",
     "output_type": "stream",
     "text": [
      "7.320090522584886\n"
     ]
    },
    {
     "name": "stderr",
     "output_type": "stream",
     "text": [
      "/mnt/home/student/cprem/anaconda3/envs/conforg/lib/python3.9/site-packages/pandas/core/series.py:726: RuntimeWarning: divide by zero encountered in log10\n",
      "  result = getattr(ufunc, method)(*inputs, **kwargs)\n"
     ]
    },
    {
     "name": "stdout",
     "output_type": "stream",
     "text": [
      "6.961910221500343\n"
     ]
    },
    {
     "name": "stderr",
     "output_type": "stream",
     "text": [
      "/mnt/home/student/cprem/anaconda3/envs/conforg/lib/python3.9/site-packages/pandas/core/series.py:726: RuntimeWarning: divide by zero encountered in log10\n",
      "  result = getattr(ufunc, method)(*inputs, **kwargs)\n"
     ]
    },
    {
     "name": "stdout",
     "output_type": "stream",
     "text": [
      "6.57134096019746\n"
     ]
    },
    {
     "name": "stderr",
     "output_type": "stream",
     "text": [
      "/mnt/home/student/cprem/anaconda3/envs/conforg/lib/python3.9/site-packages/pandas/core/series.py:726: RuntimeWarning: divide by zero encountered in log10\n",
      "  result = getattr(ufunc, method)(*inputs, **kwargs)\n"
     ]
    },
    {
     "name": "stdout",
     "output_type": "stream",
     "text": [
      "6.245379259377332\n"
     ]
    },
    {
     "name": "stderr",
     "output_type": "stream",
     "text": [
      "/mnt/home/student/cprem/anaconda3/envs/conforg/lib/python3.9/site-packages/pandas/core/series.py:726: RuntimeWarning: divide by zero encountered in log10\n",
      "  result = getattr(ufunc, method)(*inputs, **kwargs)\n"
     ]
    },
    {
     "name": "stdout",
     "output_type": "stream",
     "text": [
      "5.933418383265502\n"
     ]
    },
    {
     "name": "stderr",
     "output_type": "stream",
     "text": [
      "/mnt/home/student/cprem/anaconda3/envs/conforg/lib/python3.9/site-packages/pandas/core/series.py:726: RuntimeWarning: divide by zero encountered in log10\n",
      "  result = getattr(ufunc, method)(*inputs, **kwargs)\n"
     ]
    },
    {
     "name": "stdout",
     "output_type": "stream",
     "text": [
      "5.593348629902155\n"
     ]
    },
    {
     "name": "stderr",
     "output_type": "stream",
     "text": [
      "/mnt/home/student/cprem/anaconda3/envs/conforg/lib/python3.9/site-packages/pandas/core/series.py:726: RuntimeWarning: divide by zero encountered in log10\n",
      "  result = getattr(ufunc, method)(*inputs, **kwargs)\n"
     ]
    },
    {
     "name": "stdout",
     "output_type": "stream",
     "text": [
      "5.309466723872498\n"
     ]
    },
    {
     "name": "stderr",
     "output_type": "stream",
     "text": [
      "/mnt/home/student/cprem/anaconda3/envs/conforg/lib/python3.9/site-packages/pandas/core/series.py:726: RuntimeWarning: divide by zero encountered in log10\n",
      "  result = getattr(ufunc, method)(*inputs, **kwargs)\n"
     ]
    },
    {
     "name": "stdout",
     "output_type": "stream",
     "text": [
      "5.037808758445386\n"
     ]
    },
    {
     "name": "stderr",
     "output_type": "stream",
     "text": [
      "/mnt/home/student/cprem/anaconda3/envs/conforg/lib/python3.9/site-packages/pandas/core/series.py:726: RuntimeWarning: divide by zero encountered in log10\n",
      "  result = getattr(ufunc, method)(*inputs, **kwargs)\n"
     ]
    },
    {
     "name": "stdout",
     "output_type": "stream",
     "text": [
      "4.741648771861328\n"
     ]
    },
    {
     "name": "stderr",
     "output_type": "stream",
     "text": [
      "/mnt/home/student/cprem/anaconda3/envs/conforg/lib/python3.9/site-packages/pandas/core/series.py:726: RuntimeWarning: divide by zero encountered in log10\n",
      "  result = getattr(ufunc, method)(*inputs, **kwargs)\n"
     ]
    },
    {
     "name": "stdout",
     "output_type": "stream",
     "text": [
      "4.494475305080742\n"
     ]
    },
    {
     "name": "stderr",
     "output_type": "stream",
     "text": [
      "/mnt/home/student/cprem/anaconda3/envs/conforg/lib/python3.9/site-packages/pandas/core/series.py:726: RuntimeWarning: divide by zero encountered in log10\n",
      "  result = getattr(ufunc, method)(*inputs, **kwargs)\n"
     ]
    },
    {
     "name": "stdout",
     "output_type": "stream",
     "text": [
      "4.2578999947421\n"
     ]
    },
    {
     "name": "stderr",
     "output_type": "stream",
     "text": [
      "/mnt/home/student/cprem/anaconda3/envs/conforg/lib/python3.9/site-packages/pandas/core/series.py:726: RuntimeWarning: divide by zero encountered in log10\n",
      "  result = getattr(ufunc, method)(*inputs, **kwargs)\n"
     ]
    },
    {
     "name": "stdout",
     "output_type": "stream",
     "text": [
      "4.0\n"
     ]
    },
    {
     "name": "stderr",
     "output_type": "stream",
     "text": [
      "/mnt/home/student/cprem/anaconda3/envs/conforg/lib/python3.9/site-packages/pandas/core/series.py:726: RuntimeWarning: divide by zero encountered in log10\n",
      "  result = getattr(ufunc, method)(*inputs, **kwargs)\n"
     ]
    },
    {
     "name": "stdout",
     "output_type": "stream",
     "text": [
      "3.784734782151026\n"
     ]
    },
    {
     "name": "stderr",
     "output_type": "stream",
     "text": [
      "/mnt/home/student/cprem/anaconda3/envs/conforg/lib/python3.9/site-packages/pandas/core/series.py:726: RuntimeWarning: divide by zero encountered in log10\n",
      "  result = getattr(ufunc, method)(*inputs, **kwargs)\n"
     ]
    },
    {
     "name": "stdout",
     "output_type": "stream",
     "text": [
      "3.5787336138570796\n"
     ]
    },
    {
     "name": "stderr",
     "output_type": "stream",
     "text": [
      "/mnt/home/student/cprem/anaconda3/envs/conforg/lib/python3.9/site-packages/pandas/core/series.py:726: RuntimeWarning: divide by zero encountered in log10\n",
      "  result = getattr(ufunc, method)(*inputs, **kwargs)\n"
     ]
    },
    {
     "name": "stdout",
     "output_type": "stream",
     "text": [
      "3.3541301101159506\n"
     ]
    },
    {
     "name": "stderr",
     "output_type": "stream",
     "text": [
      "/mnt/home/student/cprem/anaconda3/envs/conforg/lib/python3.9/site-packages/pandas/core/series.py:726: RuntimeWarning: divide by zero encountered in log10\n",
      "  result = getattr(ufunc, method)(*inputs, **kwargs)\n"
     ]
    },
    {
     "name": "stdout",
     "output_type": "stream",
     "text": [
      "3.166684027850116\n"
     ]
    },
    {
     "name": "stderr",
     "output_type": "stream",
     "text": [
      "/mnt/home/student/cprem/anaconda3/envs/conforg/lib/python3.9/site-packages/pandas/core/series.py:726: RuntimeWarning: divide by zero encountered in log10\n",
      "  result = getattr(ufunc, method)(*inputs, **kwargs)\n"
     ]
    },
    {
     "name": "stdout",
     "output_type": "stream",
     "text": [
      "2.9872885241848985\n"
     ]
    },
    {
     "name": "stderr",
     "output_type": "stream",
     "text": [
      "/mnt/home/student/cprem/anaconda3/envs/conforg/lib/python3.9/site-packages/pandas/core/series.py:726: RuntimeWarning: divide by zero encountered in log10\n",
      "  result = getattr(ufunc, method)(*inputs, **kwargs)\n"
     ]
    },
    {
     "name": "stdout",
     "output_type": "stream",
     "text": [
      "2.7916992120849033\n"
     ]
    },
    {
     "name": "stderr",
     "output_type": "stream",
     "text": [
      "/mnt/home/student/cprem/anaconda3/envs/conforg/lib/python3.9/site-packages/pandas/core/series.py:726: RuntimeWarning: divide by zero encountered in log10\n",
      "  result = getattr(ufunc, method)(*inputs, **kwargs)\n"
     ]
    },
    {
     "name": "stdout",
     "output_type": "stream",
     "text": [
      "2.628460190349022\n"
     ]
    },
    {
     "name": "stderr",
     "output_type": "stream",
     "text": [
      "/mnt/home/student/cprem/anaconda3/envs/conforg/lib/python3.9/site-packages/pandas/core/series.py:726: RuntimeWarning: divide by zero encountered in log10\n",
      "  result = getattr(ufunc, method)(*inputs, **kwargs)\n"
     ]
    },
    {
     "name": "stdout",
     "output_type": "stream",
     "text": [
      "2.472234278591245\n"
     ]
    },
    {
     "name": "stderr",
     "output_type": "stream",
     "text": [
      "/mnt/home/student/cprem/anaconda3/envs/conforg/lib/python3.9/site-packages/pandas/core/series.py:726: RuntimeWarning: divide by zero encountered in log10\n",
      "  result = getattr(ufunc, method)(*inputs, **kwargs)\n"
     ]
    },
    {
     "name": "stdout",
     "output_type": "stream",
     "text": [
      "2.301921057671353\n"
     ]
    },
    {
     "name": "stderr",
     "output_type": "stream",
     "text": [
      "/mnt/home/student/cprem/anaconda3/envs/conforg/lib/python3.9/site-packages/pandas/core/series.py:726: RuntimeWarning: divide by zero encountered in log10\n",
      "  result = getattr(ufunc, method)(*inputs, **kwargs)\n"
     ]
    },
    {
     "name": "stdout",
     "output_type": "stream",
     "text": [
      "2.159757330637007\n"
     ]
    },
    {
     "name": "stderr",
     "output_type": "stream",
     "text": [
      "/mnt/home/student/cprem/anaconda3/envs/conforg/lib/python3.9/site-packages/pandas/core/series.py:726: RuntimeWarning: divide by zero encountered in log10\n",
      "  result = getattr(ufunc, method)(*inputs, **kwargs)\n"
     ]
    },
    {
     "name": "stdout",
     "output_type": "stream",
     "text": [
      "2.0237241395992958\n"
     ]
    },
    {
     "name": "stderr",
     "output_type": "stream",
     "text": [
      "/mnt/home/student/cprem/anaconda3/envs/conforg/lib/python3.9/site-packages/pandas/core/series.py:726: RuntimeWarning: divide by zero encountered in log10\n",
      "  result = getattr(ufunc, method)(*inputs, **kwargs)\n"
     ]
    },
    {
     "name": "stdout",
     "output_type": "stream",
     "text": [
      "1.8754057916423457\n"
     ]
    },
    {
     "name": "stderr",
     "output_type": "stream",
     "text": [
      "/mnt/home/student/cprem/anaconda3/envs/conforg/lib/python3.9/site-packages/pandas/core/series.py:726: RuntimeWarning: divide by zero encountered in log10\n",
      "  result = getattr(ufunc, method)(*inputs, **kwargs)\n"
     ]
    },
    {
     "name": "stdout",
     "output_type": "stream",
     "text": [
      "1.7516069384520558\n"
     ]
    },
    {
     "name": "stderr",
     "output_type": "stream",
     "text": [
      "<ipython-input-71-628bba3416e2>:3: RuntimeWarning: invalid value encountered in log10\n",
      "  hal_logM = np.log10(hal40h5['Mass_200crit'])+10\n",
      "/mnt/home/student/cprem/anaconda3/envs/conforg/lib/python3.9/site-packages/pandas/core/series.py:726: RuntimeWarning: divide by zero encountered in log10\n",
      "  result = getattr(ufunc, method)(*inputs, **kwargs)\n"
     ]
    },
    {
     "name": "stdout",
     "output_type": "stream",
     "text": [
      "1.6331380422618658\n"
     ]
    },
    {
     "name": "stderr",
     "output_type": "stream",
     "text": [
      "/mnt/home/student/cprem/anaconda3/envs/conforg/lib/python3.9/site-packages/pandas/core/series.py:726: RuntimeWarning: divide by zero encountered in log10\n",
      "  result = getattr(ufunc, method)(*inputs, **kwargs)\n"
     ]
    },
    {
     "name": "stdout",
     "output_type": "stream",
     "text": [
      "1.5197739258833698\n"
     ]
    },
    {
     "name": "stderr",
     "output_type": "stream",
     "text": [
      "<ipython-input-71-628bba3416e2>:3: RuntimeWarning: invalid value encountered in log10\n",
      "  hal_logM = np.log10(hal40h5['Mass_200crit'])+10\n",
      "/mnt/home/student/cprem/anaconda3/envs/conforg/lib/python3.9/site-packages/pandas/core/series.py:726: RuntimeWarning: divide by zero encountered in log10\n",
      "  result = getattr(ufunc, method)(*inputs, **kwargs)\n"
     ]
    },
    {
     "name": "stdout",
     "output_type": "stream",
     "text": [
      "1.396179531355207\n"
     ]
    },
    {
     "name": "stderr",
     "output_type": "stream",
     "text": [
      "<ipython-input-71-628bba3416e2>:3: RuntimeWarning: invalid value encountered in log10\n",
      "  hal_logM = np.log10(hal40h5['Mass_200crit'])+10\n",
      "/mnt/home/student/cprem/anaconda3/envs/conforg/lib/python3.9/site-packages/pandas/core/series.py:726: RuntimeWarning: divide by zero encountered in log10\n",
      "  result = getattr(ufunc, method)(*inputs, **kwargs)\n"
     ]
    },
    {
     "name": "stdout",
     "output_type": "stream",
     "text": [
      "1.2930099883515092\n"
     ]
    },
    {
     "name": "stderr",
     "output_type": "stream",
     "text": [
      "<ipython-input-71-628bba3416e2>:3: RuntimeWarning: invalid value encountered in log10\n",
      "  hal_logM = np.log10(hal40h5['Mass_200crit'])+10\n",
      "/mnt/home/student/cprem/anaconda3/envs/conforg/lib/python3.9/site-packages/pandas/core/series.py:726: RuntimeWarning: divide by zero encountered in log10\n",
      "  result = getattr(ufunc, method)(*inputs, **kwargs)\n"
     ]
    },
    {
     "name": "stdout",
     "output_type": "stream",
     "text": [
      "1.1942913316715233\n"
     ]
    },
    {
     "name": "stderr",
     "output_type": "stream",
     "text": [
      "/mnt/home/student/cprem/anaconda3/envs/conforg/lib/python3.9/site-packages/pandas/core/series.py:726: RuntimeWarning: divide by zero encountered in log10\n",
      "  result = getattr(ufunc, method)(*inputs, **kwargs)\n"
     ]
    },
    {
     "name": "stdout",
     "output_type": "stream",
     "text": [
      "1.086658946028566\n"
     ]
    },
    {
     "name": "stderr",
     "output_type": "stream",
     "text": [
      "<ipython-input-71-628bba3416e2>:3: RuntimeWarning: invalid value encountered in log10\n",
      "  hal_logM = np.log10(hal40h5['Mass_200crit'])+10\n"
     ]
    },
    {
     "name": "stdout",
     "output_type": "stream",
     "text": [
      "0.9968170735847057\n"
     ]
    },
    {
     "name": "stderr",
     "output_type": "stream",
     "text": [
      "<ipython-input-71-628bba3416e2>:3: RuntimeWarning: invalid value encountered in log10\n",
      "  hal_logM = np.log10(hal40h5['Mass_200crit'])+10\n"
     ]
    },
    {
     "name": "stdout",
     "output_type": "stream",
     "text": [
      "0.910847499082793\n"
     ]
    },
    {
     "name": "stderr",
     "output_type": "stream",
     "text": [
      "<ipython-input-71-628bba3416e2>:3: RuntimeWarning: invalid value encountered in log10\n",
      "  hal_logM = np.log10(hal40h5['Mass_200crit'])+10\n"
     ]
    },
    {
     "name": "stdout",
     "output_type": "stream",
     "text": [
      "0.8171179782018527\n"
     ]
    },
    {
     "name": "stderr",
     "output_type": "stream",
     "text": [
      "<ipython-input-71-628bba3416e2>:3: RuntimeWarning: invalid value encountered in log10\n",
      "  hal_logM = np.log10(hal40h5['Mass_200crit'])+10\n"
     ]
    },
    {
     "name": "stdout",
     "output_type": "stream",
     "text": [
      "0.7388854787412558\n"
     ]
    },
    {
     "name": "stderr",
     "output_type": "stream",
     "text": [
      "<ipython-input-71-628bba3416e2>:3: RuntimeWarning: invalid value encountered in log10\n",
      "  hal_logM = np.log10(hal40h5['Mass_200crit'])+10\n"
     ]
    },
    {
     "name": "stdout",
     "output_type": "stream",
     "text": [
      "0.664020873477837\n"
     ]
    },
    {
     "name": "stderr",
     "output_type": "stream",
     "text": [
      "<ipython-input-71-628bba3416e2>:3: RuntimeWarning: invalid value encountered in log10\n",
      "  hal_logM = np.log10(hal40h5['Mass_200crit'])+10\n"
     ]
    },
    {
     "name": "stdout",
     "output_type": "stream",
     "text": [
      "0.5823986631896094\n"
     ]
    },
    {
     "name": "stderr",
     "output_type": "stream",
     "text": [
      "<ipython-input-71-628bba3416e2>:3: RuntimeWarning: invalid value encountered in log10\n",
      "  hal_logM = np.log10(hal40h5['Mass_200crit'])+10\n"
     ]
    },
    {
     "name": "stdout",
     "output_type": "stream",
     "text": [
      "0.5142704850511219\n"
     ]
    },
    {
     "name": "stderr",
     "output_type": "stream",
     "text": [
      "<ipython-input-71-628bba3416e2>:3: RuntimeWarning: invalid value encountered in log10\n",
      "  hal_logM = np.log10(hal40h5['Mass_200crit'])+10\n"
     ]
    },
    {
     "name": "stdout",
     "output_type": "stream",
     "text": [
      "0.4490737520576846\n"
     ]
    },
    {
     "name": "stderr",
     "output_type": "stream",
     "text": [
      "<ipython-input-71-628bba3416e2>:3: RuntimeWarning: invalid value encountered in log10\n",
      "  hal_logM = np.log10(hal40h5['Mass_200crit'])+10\n"
     ]
    },
    {
     "name": "stdout",
     "output_type": "stream",
     "text": [
      "0.3779950722896215\n"
     ]
    },
    {
     "name": "stderr",
     "output_type": "stream",
     "text": [
      "<ipython-input-71-628bba3416e2>:3: RuntimeWarning: invalid value encountered in log10\n",
      "  hal_logM = np.log10(hal40h5['Mass_200crit'])+10\n"
     ]
    },
    {
     "name": "stdout",
     "output_type": "stream",
     "text": [
      "0.3186679870928777\n"
     ]
    },
    {
     "name": "stderr",
     "output_type": "stream",
     "text": [
      "<ipython-input-71-628bba3416e2>:3: RuntimeWarning: invalid value encountered in log10\n",
      "  hal_logM = np.log10(hal40h5['Mass_200crit'])+10\n"
     ]
    },
    {
     "name": "stdout",
     "output_type": "stream",
     "text": [
      "0.2618949371513226\n"
     ]
    },
    {
     "name": "stderr",
     "output_type": "stream",
     "text": [
      "<ipython-input-71-628bba3416e2>:3: RuntimeWarning: invalid value encountered in log10\n",
      "  hal_logM = np.log10(hal40h5['Mass_200crit'])+10\n"
     ]
    },
    {
     "name": "stdout",
     "output_type": "stream",
     "text": [
      "0.19999760000479982\n"
     ]
    },
    {
     "name": "stderr",
     "output_type": "stream",
     "text": [
      "<ipython-input-71-628bba3416e2>:3: RuntimeWarning: invalid value encountered in log10\n",
      "  hal_logM = np.log10(hal40h5['Mass_200crit'])+10\n"
     ]
    },
    {
     "name": "stdout",
     "output_type": "stream",
     "text": [
      "0.14833239170077217\n"
     ]
    },
    {
     "name": "stderr",
     "output_type": "stream",
     "text": [
      "<ipython-input-71-628bba3416e2>:3: RuntimeWarning: invalid value encountered in log10\n",
      "  hal_logM = np.log10(hal40h5['Mass_200crit'])+10\n"
     ]
    },
    {
     "name": "stdout",
     "output_type": "stream",
     "text": [
      "0.09889264588074598\n"
     ]
    },
    {
     "name": "stderr",
     "output_type": "stream",
     "text": [
      "<ipython-input-71-628bba3416e2>:3: RuntimeWarning: invalid value encountered in log10\n",
      "  hal_logM = np.log10(hal40h5['Mass_200crit'])+10\n"
     ]
    },
    {
     "name": "stdout",
     "output_type": "stream",
     "text": [
      "0.044991044426749394\n"
     ]
    }
   ],
   "source": [
    "for i in range(1,50):\n",
    "    hal40h5 = h5py.File(f\"/scratch/cprem/sims/my-bdm_cdm512_p18/r2/halos_vr/out_{i:03d}.properties.0\", 'r')\n",
    "    hal_logM = np.log10(hal40h5['Mass_200crit'])+10\n",
    "    hal40rs = pd.read_csv(f'/scratch/cprem/sims/my-bdm_cdm512_p18/r2/halos_rs/out_{i:d}.list', sep=r'\\s+', header=0, skiprows=list(range(1,16)), engine='c')\n",
    "    hal_rs_logM = np.log10(hal40rs['M200b'])\n",
    "    meta_info = pd.read_csv(f\"/scratch/cprem/sims/my-bdm_cdm512_p18/r2/halos_vr/out_{i:03d}.siminfo\", sep=':')[' 1 # int32 ']\n",
    "    z = 1/float(meta_info[0].split('#')[0])-1\n",
    "#     print(meta_info)\n",
    "    print(z)\n",
    "    \n",
    "    fig = plt.figure(figsize=(10,7), dpi=120)\n",
    "    plot1 = plt.hist(hal_rs_logM, bins=100, histtype=u'step', range=(11,15), label=\"ROCKSTAR\")\n",
    "    plot2 = plt.hist(hal_logM, bins=100, histtype=u'step', range=(11,15), label=\"VELOCIraptor\")\n",
    "    plt.yscale('log')\n",
    "    plt.xlabel('log(M) where mass is in $h^{-1}~M_{\\odot}$')\n",
    "    plt.ylabel('log(n)')\n",
    "    plt.title(f'Halo mass function at redshift z = {z}')\n",
    "    plt.xlim(10, 15)\n",
    "    plt.legend()\n",
    "    plt.savefig(f'/scratch/cprem/sims/my-bdm_cdm512_p18/r2/halos/halo_mass_fn_{i:03d}_m200.png')\n",
    "    \n",
    "    plt.close()\n",
    "    hal40h5.close()\n",
    "    del hal40rs\n",
    "    del meta_info[1]\n",
    "    \n",
    "    \n",
    "    "
   ]
  },
  {
   "cell_type": "code",
   "execution_count": 88,
   "id": "associate-turner",
   "metadata": {},
   "outputs": [],
   "source": [
    "import json"
   ]
  },
  {
   "cell_type": "code",
   "execution_count": 110,
   "id": "developed-administration",
   "metadata": {},
   "outputs": [],
   "source": [
    "# i = 45"
   ]
  },
  {
   "cell_type": "code",
   "execution_count": 150,
   "id": "piano-calendar",
   "metadata": {},
   "outputs": [],
   "source": [
    "file = open(f\"/scratch/cprem/sims/my-bdm_cdm256_p18/r2/halos_vr/out_{i:03d}.siminfo\", 'r')"
   ]
  },
  {
   "cell_type": "code",
   "execution_count": 160,
   "id": "needed-desperate",
   "metadata": {},
   "outputs": [
    {
     "data": {
      "text/plain": [
       "0.6781"
      ]
     },
     "execution_count": 160,
     "metadata": {},
     "output_type": "execute_result"
    }
   ],
   "source": [
    "float(pd.read_csv(f\"/scratch/cprem/sims/my-bdm_cdm256_p18/r2/halos_vr/out_{i:03d}.siminfo\", sep=':')[' 1 # int32 '][1].split('#')[0])"
   ]
  },
  {
   "cell_type": "code",
   "execution_count": 149,
   "id": "conventional-flush",
   "metadata": {},
   "outputs": [],
   "source": [
    "# json.loads('{'+file.read().replace('#* \\n',', ')+'}')"
   ]
  },
  {
   "cell_type": "code",
   "execution_count": 122,
   "id": "closing-happiness",
   "metadata": {},
   "outputs": [
    {
     "ename": "IndexError",
     "evalue": "list index out of range",
     "output_type": "error",
     "traceback": [
      "\u001b[0;31m---------------------------------------------------------------------------\u001b[0m",
      "\u001b[0;31mIndexError\u001b[0m                                Traceback (most recent call last)",
      "\u001b[0;32m<ipython-input-122-87bc907d3e9e>\u001b[0m in \u001b[0;36m<module>\u001b[0;34m\u001b[0m\n\u001b[0;32m----> 1\u001b[0;31m \u001b[0mdict\u001b[0m\u001b[0;34m(\u001b[0m\u001b[0mfile\u001b[0m\u001b[0;34m.\u001b[0m\u001b[0mreadlines\u001b[0m\u001b[0;34m(\u001b[0m\u001b[0;34m)\u001b[0m\u001b[0;34m[\u001b[0m\u001b[0;36m1\u001b[0m\u001b[0;34m]\u001b[0m\u001b[0;34m)\u001b[0m\u001b[0;34m\u001b[0m\u001b[0;34m\u001b[0m\u001b[0m\n\u001b[0m",
      "\u001b[0;31mIndexError\u001b[0m: list index out of range"
     ]
    }
   ],
   "source": [
    "dict(file.readlines()[1])"
   ]
  },
  {
   "cell_type": "code",
   "execution_count": 131,
   "id": "checked-grade",
   "metadata": {},
   "outputs": [],
   "source": [
    "filetext = file.read()"
   ]
  },
  {
   "cell_type": "code",
   "execution_count": 132,
   "id": "designed-analysis",
   "metadata": {},
   "outputs": [
    {
     "data": {
      "text/plain": [
       "'{Cosmological_Sim : 1 # int32 \\nScaleFactor : 0.791476 # float64 \\nh_val : 0.678100 # float64 \\nOmega_m : 0.306337 # float64 \\nOmega_Lambda : 0.693662 # float64 \\nOmega_cdm : 0.306337 # float64 \\nOmega_b : 0.000000 # float64 \\nw_of_DE : -1.000000 # float64 \\nPeriod : 233.439181 # float64 \\nHubble_unit : 100.000000 # float64 \\nLength_unit : 1.000000 # float64 \\nVelocity_unit : 1.000000 # float64 \\nMass_unit : 1.000000 # float64 \\nGravity : 43.022682 # float64 \\n}'"
      ]
     },
     "execution_count": 132,
     "metadata": {},
     "output_type": "execute_result"
    }
   ],
   "source": [
    "'{'+filetext.replace('#* \\n',', ')+'}'"
   ]
  },
  {
   "cell_type": "code",
   "execution_count": 129,
   "id": "necessary-advancement",
   "metadata": {},
   "outputs": [],
   "source": [
    "import re"
   ]
  },
  {
   "cell_type": "code",
   "execution_count": 148,
   "id": "outer-score",
   "metadata": {},
   "outputs": [
    {
     "data": {
      "text/plain": [
       "'Cosmological_Sim : 1 # int32 \\nScaleFactor : 0.791476 # float64 \\nh_val : 0.678100 # float64 \\nOmega_m : 0.306337 # float64 \\nOmega_Lambda : 0.693662 # float64 \\nOmega_cdm : 0.306337 # float64 \\nOmega_b : 0.000000 # float64 \\nw_of_DE : -1.000000 # float64 \\nPeriod : 233.439181 # float64 \\nHubble_unit : 100.000000 # float64 \\nLength_unit : 1.000000 # float64 \\nVelocity_unit : 1.000000 # float64 \\nMass_unit : 1.000000 # float64 \\nGravity : 43.022682 # float64 \\n'"
      ]
     },
     "execution_count": 148,
     "metadata": {},
     "output_type": "execute_result"
    }
   ],
   "source": [
    "re.sub(r'(?m)^ *#.*\\n?', ', ', filetext)"
   ]
  },
  {
   "cell_type": "code",
   "execution_count": 136,
   "id": "colonial-parker",
   "metadata": {},
   "outputs": [
    {
     "data": {
      "text/plain": [
       "'Cosmological_Sim : 1 # int32 \\nScaleFactor : 0.791476 # float64 \\nh_val : 0.678100 # float64 \\nOmega_m : 0.306337 # float64 \\nOmega_Lambda : 0.693662 # float64 \\nOmega_cdm : 0.306337 # float64 \\nOmega_b : 0.000000 # float64 \\nw_of_DE : -1.000000 # float64 \\nPeriod : 233.439181 # float64 \\nHubble_unit : 100.000000 # float64 \\nLength_unit : 1.000000 # float64 \\nVelocity_unit : 1.000000 # float64 \\nMass_unit : 1.000000 # float64 \\nGravity : 43.022682 # float64 \\n'"
      ]
     },
     "execution_count": 136,
     "metadata": {},
     "output_type": "execute_result"
    }
   ],
   "source": [
    "filetext"
   ]
  },
  {
   "cell_type": "code",
   "execution_count": 4,
   "id": "hairy-travel",
   "metadata": {},
   "outputs": [
    {
     "data": {
      "text/plain": [
       "80"
      ]
     },
     "execution_count": 4,
     "metadata": {},
     "output_type": "execute_result"
    }
   ],
   "source": [
    "4*20"
   ]
  },
  {
   "cell_type": "code",
   "execution_count": null,
   "id": "bridal-springfield",
   "metadata": {},
   "outputs": [],
   "source": []
  },
  {
   "cell_type": "code",
   "execution_count": null,
   "id": "actual-accountability",
   "metadata": {},
   "outputs": [],
   "source": []
  },
  {
   "cell_type": "code",
   "execution_count": 5,
   "id": "detailed-practice",
   "metadata": {},
   "outputs": [],
   "source": [
    "import csv"
   ]
  },
  {
   "cell_type": "code",
   "execution_count": 21,
   "id": "meaning-piano",
   "metadata": {},
   "outputs": [],
   "source": [
    "reader = csv.DictReader(open('/mnt/home/faculty/caseem/config/sims/run.param.scm1024.r1'), delimiter='\\t')"
   ]
  },
  {
   "cell_type": "code",
   "execution_count": null,
   "id": "isolated-engineer",
   "metadata": {},
   "outputs": [],
   "source": []
  },
  {
   "cell_type": "code",
   "execution_count": 32,
   "id": "duplicate-frank",
   "metadata": {},
   "outputs": [],
   "source": [
    "paramfile = open('/mnt/home/faculty/caseem/config/sims/run.param.scm1024.r1')"
   ]
  },
  {
   "cell_type": "code",
   "execution_count": 33,
   "id": "alleged-constitution",
   "metadata": {},
   "outputs": [],
   "source": [
    "linelist = paramfile.readlines()"
   ]
  },
  {
   "cell_type": "code",
   "execution_count": 36,
   "id": "numeric-collector",
   "metadata": {},
   "outputs": [
    {
     "data": {
      "text/plain": [
       "['InitCondFile', ' /scratch/aseem/ICs/ics_scm1024_r1.dat\\n']"
      ]
     },
     "execution_count": 36,
     "metadata": {},
     "output_type": "execute_result"
    }
   ],
   "source": [
    "linelist[2].split('\\t')"
   ]
  },
  {
   "cell_type": "code",
   "execution_count": 41,
   "id": "musical-trustee",
   "metadata": {},
   "outputs": [
    {
     "data": {
      "text/plain": [
       "['Omega0', '', ' 0.276\\n']"
      ]
     },
     "execution_count": 41,
     "metadata": {},
     "output_type": "execute_result"
    }
   ],
   "source": [
    "linelist[39].split('\\t')"
   ]
  },
  {
   "cell_type": "code",
   "execution_count": 20,
   "id": "spread-verification",
   "metadata": {},
   "outputs": [
    {
     "name": "stdout",
     "output_type": "stream",
     "text": [
      "dict_keys(['%  Relevant files', None])\n",
      "dict_keys(['%  Relevant files', None])\n",
      "dict_keys(['%  Relevant files'])\n",
      "dict_keys(['%  Relevant files'])\n",
      "dict_keys(['%  Relevant files'])\n",
      "dict_keys(['%  Relevant files'])\n",
      "dict_keys(['%  Relevant files'])\n",
      "dict_keys(['%  Relevant files'])\n",
      "dict_keys(['%  Relevant files', None])\n",
      "dict_keys(['%  Relevant files'])\n",
      "dict_keys(['%  Relevant files'])\n",
      "dict_keys(['%  Relevant files'])\n",
      "dict_keys(['%  Relevant files'])\n",
      "dict_keys(['%  Relevant files'])\n",
      "dict_keys(['%  Relevant files'])\n",
      "dict_keys(['%  Relevant files'])\n",
      "dict_keys(['%  Relevant files'])\n",
      "dict_keys(['%  Relevant files'])\n",
      "dict_keys(['%  Relevant files'])\n",
      "dict_keys(['%  Relevant files'])\n",
      "dict_keys(['%  Relevant files'])\n",
      "dict_keys(['%  Relevant files'])\n",
      "dict_keys(['%  Relevant files', None])\n",
      "dict_keys(['%  Relevant files', None])\n",
      "dict_keys(['%  Relevant files', None])\n",
      "dict_keys(['%  Relevant files', None])\n",
      "dict_keys(['%  Relevant files', None])\n",
      "dict_keys(['%  Relevant files', None])\n",
      "dict_keys(['%  Relevant files', None])\n",
      "dict_keys(['%  Relevant files'])\n",
      "dict_keys(['%  Relevant files'])\n",
      "dict_keys(['%  Relevant files', None])\n",
      "dict_keys(['%  Relevant files', None])\n",
      "dict_keys(['%  Relevant files'])\n",
      "dict_keys(['%  Relevant files'])\n",
      "dict_keys(['%  Relevant files', None])\n",
      "dict_keys(['%  Relevant files', None])\n",
      "dict_keys(['%  Relevant files'])\n",
      "dict_keys(['%  Relevant files'])\n",
      "dict_keys(['%  Relevant files'])\n",
      "dict_keys(['%  Relevant files'])\n",
      "dict_keys(['%  Relevant files'])\n",
      "dict_keys(['%  Relevant files'])\n",
      "dict_keys(['%  Relevant files'])\n",
      "dict_keys(['%  Relevant files'])\n",
      "dict_keys(['%  Relevant files'])\n",
      "dict_keys(['%  Relevant files'])\n",
      "dict_keys(['%  Relevant files'])\n",
      "dict_keys(['%  Relevant files'])\n",
      "dict_keys(['%  Relevant files'])\n",
      "dict_keys(['%  Relevant files'])\n",
      "dict_keys(['%  Relevant files'])\n",
      "dict_keys(['%  Relevant files'])\n",
      "dict_keys(['%  Relevant files'])\n",
      "dict_keys(['%  Relevant files'])\n",
      "dict_keys(['%  Relevant files'])\n",
      "dict_keys(['%  Relevant files'])\n",
      "dict_keys(['%  Relevant files'])\n",
      "dict_keys(['%  Relevant files'])\n",
      "dict_keys(['%  Relevant files'])\n",
      "dict_keys(['%  Relevant files'])\n",
      "dict_keys(['%  Relevant files'])\n",
      "dict_keys(['%  Relevant files'])\n",
      "dict_keys(['%  Relevant files'])\n",
      "dict_keys(['%  Relevant files'])\n",
      "dict_keys(['%  Relevant files'])\n",
      "dict_keys(['%  Relevant files'])\n",
      "dict_keys(['%  Relevant files', None])\n",
      "dict_keys(['%  Relevant files'])\n",
      "dict_keys(['%  Relevant files'])\n",
      "dict_keys(['%  Relevant files'])\n",
      "dict_keys(['%  Relevant files'])\n",
      "dict_keys(['%  Relevant files'])\n",
      "dict_keys(['%  Relevant files', None])\n",
      "dict_keys(['%  Relevant files'])\n",
      "dict_keys(['%  Relevant files'])\n",
      "dict_keys(['%  Relevant files'])\n",
      "dict_keys(['%  Relevant files'])\n"
     ]
    }
   ],
   "source": [
    "for row in reader:\n",
    "    print(row.keys())"
   ]
  },
  {
   "cell_type": "code",
   "execution_count": null,
   "id": "roman-insert",
   "metadata": {},
   "outputs": [],
   "source": []
  },
  {
   "cell_type": "code",
   "execution_count": null,
   "id": "altered-search",
   "metadata": {},
   "outputs": [],
   "source": []
  },
  {
   "cell_type": "code",
   "execution_count": null,
   "id": "missing-winter",
   "metadata": {},
   "outputs": [],
   "source": []
  },
  {
   "cell_type": "code",
   "execution_count": 78,
   "id": "wicked-nightlife",
   "metadata": {},
   "outputs": [
    {
     "data": {
      "text/plain": [
       "Text(0, 0.5, 'Democracy Index of India')"
      ]
     },
     "execution_count": 78,
     "metadata": {},
     "output_type": "execute_result"
    },
    {
     "data": {
      "image/png": "[encoded data removed]",
      "text/plain": [
       "<Figure size 720x480 with 1 Axes>"
      ]
     },
     "metadata": {},
     "output_type": "display_data"
    }
   ],
   "source": [
    "plt.figure(dpi=120)\n",
    "plt.plot([2006,2008]+list(range(2010,2021)),[7.68, 7.80, 7.28, 7.30, 7.52, 7.69, 7.92, 7.74, 7.81, 7.23, 7.23, 6.90, 6.61])\n",
    "plt.xlim(2010,2021)\n",
    "plt.xlabel('Year')\n",
    "plt.ylabel('Democracy Index of India')"
   ]
  },
  {
   "cell_type": "code",
   "execution_count": null,
   "id": "imposed-disclaimer",
   "metadata": {},
   "outputs": [],
   "source": []
  }
 ],
 "metadata": {
  "kernelspec": {
   "display_name": "Python 3",
   "language": "python",
   "name": "python3"
  },
  "language_info": {
   "codemirror_mode": {
    "name": "ipython",
    "version": 3
   },
   "file_extension": ".py",
   "mimetype": "text/x-python",
   "name": "python",
   "nbconvert_exporter": "python",
   "pygments_lexer": "ipython3",
   "version": "3.9.0"
  }
 },
 "nbformat": 4,
 "nbformat_minor": 5
}
