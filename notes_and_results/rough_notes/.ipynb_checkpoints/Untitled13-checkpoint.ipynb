{
 "cells": [
  {
   "cell_type": "code",
   "execution_count": 1,
   "id": "collect-scope",
   "metadata": {},
   "outputs": [],
   "source": [
    "from astropy.cosmology import FlatLambdaCDM, Planck18"
   ]
  },
  {
   "cell_type": "code",
   "execution_count": 4,
   "id": "theoretical-water",
   "metadata": {},
   "outputs": [],
   "source": [
    "import vrpy_tools"
   ]
  },
  {
   "cell_type": "code",
   "execution_count": 10,
   "id": "assigned-bridges",
   "metadata": {},
   "outputs": [],
   "source": [
    "siminfo = vrpy_tools.ReadSimInfo('/scratch/cprem/sims/bdm_cdm1024/r1/halos_vr_6d/out_100')"
   ]
  },
  {
   "cell_type": "code",
   "execution_count": 11,
   "id": "million-academy",
   "metadata": {},
   "outputs": [],
   "source": [
    "p18py = Planck18.clone(name='Planck18 modified', H0=siminfo['h_val']*siminfo['Hubble_unit'], Om0=siminfo['Omega_m'], Ob0=siminfo['Omega_b'],)"
   ]
  },
  {
   "cell_type": "code",
   "execution_count": 12,
   "id": "curious-childhood",
   "metadata": {},
   "outputs": [
    {
     "data": {
      "text/plain": [
       "{'Cosmological_Sim': 1,\n",
       " 'ScaleFactor': 0.538462,\n",
       " 'h_val': 0.6781,\n",
       " 'Omega_m': 0.306337,\n",
       " 'Omega_Lambda': 0.693662,\n",
       " 'Omega_cdm': 0.306337,\n",
       " 'Omega_b': 0.0,\n",
       " 'w_of_DE': -1.0,\n",
       " 'Period': 158.814788,\n",
       " 'Hubble_unit': 100.0,\n",
       " 'Length_unit': 1.0,\n",
       " 'Velocity_unit': 1.0,\n",
       " 'Mass_unit': 10000000000.0,\n",
       " 'Gravity': 0.0}"
      ]
     },
     "execution_count": 12,
     "metadata": {},
     "output_type": "execute_result"
    }
   ],
   "source": [
    "siminfo"
   ]
  },
  {
   "cell_type": "code",
   "execution_count": 13,
   "id": "diagnostic-profile",
   "metadata": {},
   "outputs": [
    {
     "data": {
      "text/plain": [
       "FlatLambdaCDM(name=\"Planck18 modified\", H0=67.8 km / (Mpc s), Om0=0.306, Tcmb0=2.725 K, Neff=3.05, m_nu=[0.   0.   0.06] eV, Ob0=0)"
      ]
     },
     "execution_count": 13,
     "metadata": {},
     "output_type": "execute_result"
    }
   ],
   "source": [
    "p18py"
   ]
  },
  {
   "cell_type": "code",
   "execution_count": 16,
   "id": "fresh-theme",
   "metadata": {},
   "outputs": [
    {
     "data": {
      "application/vnd.jupyter.widget-view+json": {
       "model_id": "593893e28ab84161ad212f65e87890ce",
       "version_major": 2,
       "version_minor": 0
      },
      "text/plain": [
       "Canvas(toolbar=Toolbar(toolitems=[('Home', 'Reset original view', 'home', 'home'), ('Back', 'Back to previous …"
      ]
     },
     "metadata": {},
     "output_type": "display_data"
    }
   ],
   "source": [
    "import matplotlib.pyplot as plt\n",
    "from mpl_toolkits.mplot3d import Axes3D\n",
    "fig = plt.figure()\n",
    "ax = fig.add_subplot(111, projection='3d')"
   ]
  },
  {
   "cell_type": "code",
   "execution_count": 18,
   "id": "greatest-administrator",
   "metadata": {},
   "outputs": [],
   "source": [
    "%matplotlib widget"
   ]
  },
  {
   "cell_type": "code",
   "execution_count": null,
   "id": "purple-stocks",
   "metadata": {},
   "outputs": [],
   "source": []
  }
 ],
 "metadata": {
  "kernelspec": {
   "display_name": "Python 3",
   "language": "python",
   "name": "python3"
  },
  "language_info": {
   "codemirror_mode": {
    "name": "ipython",
    "version": 3
   },
   "file_extension": ".py",
   "mimetype": "text/x-python",
   "name": "python",
   "nbconvert_exporter": "python",
   "pygments_lexer": "ipython3",
   "version": "3.9.2"
  }
 },
 "nbformat": 4,
 "nbformat_minor": 5
}
