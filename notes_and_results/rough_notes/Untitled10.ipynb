{
 "cells": [
  {
   "cell_type": "code",
   "execution_count": 1,
   "id": "crazy-omega",
   "metadata": {},
   "outputs": [],
   "source": [
    "import numpy as np\n",
    "import h5py"
   ]
  },
  {
   "cell_type": "code",
   "execution_count": 2,
   "id": "yellow-conditions",
   "metadata": {},
   "outputs": [],
   "source": [
    "import pandas as pd"
   ]
  },
  {
   "cell_type": "code",
   "execution_count": 3,
   "id": "steady-equality",
   "metadata": {},
   "outputs": [],
   "source": [
    "import matplotlib.pyplot as plt"
   ]
  },
  {
   "cell_type": "code",
   "execution_count": 4,
   "id": "periodic-champion",
   "metadata": {},
   "outputs": [],
   "source": [
    "hal40h5 = h5py.File(\"/scratch/cprem/sims/my-bdm_cdm256_p18/r2/halos_vrt.properties.0\", 'r')"
   ]
  },
  {
   "cell_type": "code",
   "execution_count": 21,
   "id": "sacred-support",
   "metadata": {},
   "outputs": [],
   "source": [
    "# list(hal40h5.keys())"
   ]
  },
  {
   "cell_type": "code",
   "execution_count": 6,
   "id": "parallel-found",
   "metadata": {},
   "outputs": [
    {
     "data": {
      "text/plain": [
       "<HDF5 dataset \"Mvir\": shape (18311,), type \"<f8\">"
      ]
     },
     "execution_count": 6,
     "metadata": {},
     "output_type": "execute_result"
    }
   ],
   "source": [
    "hal40h5['Mvir']"
   ]
  },
  {
   "cell_type": "code",
   "execution_count": 13,
   "id": "comic-excitement",
   "metadata": {},
   "outputs": [],
   "source": [
    "hal_logM = np.log10(hal40h5['Mass_200mean']) + 10"
   ]
  },
  {
   "cell_type": "code",
   "execution_count": 14,
   "id": "becoming-lithuania",
   "metadata": {},
   "outputs": [
    {
     "data": {
      "image/png": "[encoded data removed]",
      "text/plain": [
       "<Figure size 432x288 with 1 Axes>"
      ]
     },
     "metadata": {
      "needs_background": "light"
     },
     "output_type": "display_data"
    }
   ],
   "source": [
    "plt.hist(hal_logM, bins=50)\n",
    "plt.yscale('log')"
   ]
  },
  {
   "cell_type": "code",
   "execution_count": 15,
   "id": "talented-cooling",
   "metadata": {},
   "outputs": [],
   "source": [
    "hal40rs = pd.read_csv('/scratch/cprem/sims/my-bdm_cdm256_p18/r2/halos_rs/out_40.list', sep=r'\\s+', header=0, skiprows=list(range(1,16)), engine='c')"
   ]
  },
  {
   "cell_type": "code",
   "execution_count": 20,
   "id": "right-uncle",
   "metadata": {},
   "outputs": [],
   "source": [
    "# hal40rs.info()"
   ]
  },
  {
   "cell_type": "code",
   "execution_count": 17,
   "id": "defined-denmark",
   "metadata": {},
   "outputs": [],
   "source": [
    "hal_rs_logM = np.log10(hal40rs['M200b'])"
   ]
  },
  {
   "cell_type": "code",
   "execution_count": 18,
   "id": "molecular-living",
   "metadata": {},
   "outputs": [
    {
     "data": {
      "image/png": "[encoded data removed]",
      "text/plain": [
       "<Figure size 432x288 with 1 Axes>"
      ]
     },
     "metadata": {
      "needs_background": "light"
     },
     "output_type": "display_data"
    }
   ],
   "source": [
    "plt.hist(hal_rs_logM, bins=100, alpha=0.5, color='black')\n",
    "plt.hist(hal_logM, bins=100, alpha=0.5, color='black')\n",
    "plt.yscale('log')"
   ]
  },
  {
   "cell_type": "code",
   "execution_count": 164,
   "id": "distinct-adventure",
   "metadata": {},
   "outputs": [
    {
     "name": "stderr",
     "output_type": "stream",
     "text": [
      "<ipython-input-164-6326fc59f913>:4: UserWarning: Data has no positive values, and therefore cannot be log-scaled.\n",
      "  plt.yscale('log')\n"
     ]
    },
    {
     "data": {
      "image/png": "[encoded data removed]",
      "text/plain": [
       "<Figure size 720x504 with 1 Axes>"
      ]
     },
     "metadata": {
      "needs_background": "light"
     },
     "output_type": "display_data"
    }
   ],
   "source": [
    "plt.figure(figsize=(10,7))\n",
    "plt.hist(hal_rs_logM, bins=100, histtype=u'step')\n",
    "plt.hist(hal_logM, bins=100, histtype=u'step')\n",
    "plt.yscale('log')"
   ]
  },
  {
   "cell_type": "code",
   "execution_count": 43,
   "id": "synthetic-singer",
   "metadata": {},
   "outputs": [
    {
     "name": "stdout",
     "output_type": "stream",
     "text": [
      "8.554200982171862\n"
     ]
    },
    {
     "name": "stderr",
     "output_type": "stream",
     "text": [
      "/mnt/home/student/cprem/anaconda3/envs/conforg/lib/python3.9/site-packages/pandas/core/series.py:726: RuntimeWarning: divide by zero encountered in log10\n",
      "  result = getattr(ufunc, method)(*inputs, **kwargs)\n"
     ]
    },
    {
     "name": "stdout",
     "output_type": "stream",
     "text": [
      "8.142857142857142\n"
     ]
    },
    {
     "name": "stderr",
     "output_type": "stream",
     "text": [
      "/mnt/home/student/cprem/anaconda3/envs/conforg/lib/python3.9/site-packages/pandas/core/series.py:726: RuntimeWarning: divide by zero encountered in log10\n",
      "  result = getattr(ufunc, method)(*inputs, **kwargs)\n"
     ]
    },
    {
     "name": "stdout",
     "output_type": "stream",
     "text": [
      "7.694442512346109\n"
     ]
    },
    {
     "name": "stderr",
     "output_type": "stream",
     "text": [
      "/mnt/home/student/cprem/anaconda3/envs/conforg/lib/python3.9/site-packages/pandas/core/series.py:726: RuntimeWarning: divide by zero encountered in log10\n",
      "  result = getattr(ufunc, method)(*inputs, **kwargs)\n"
     ]
    },
    {
     "name": "stdout",
     "output_type": "stream",
     "text": [
      "7.320090522584886\n"
     ]
    },
    {
     "name": "stderr",
     "output_type": "stream",
     "text": [
      "/mnt/home/student/cprem/anaconda3/envs/conforg/lib/python3.9/site-packages/pandas/core/series.py:726: RuntimeWarning: divide by zero encountered in log10\n",
      "  result = getattr(ufunc, method)(*inputs, **kwargs)\n"
     ]
    },
    {
     "name": "stdout",
     "output_type": "stream",
     "text": [
      "6.961910221500343\n"
     ]
    },
    {
     "name": "stderr",
     "output_type": "stream",
     "text": [
      "/mnt/home/student/cprem/anaconda3/envs/conforg/lib/python3.9/site-packages/pandas/core/series.py:726: RuntimeWarning: divide by zero encountered in log10\n",
      "  result = getattr(ufunc, method)(*inputs, **kwargs)\n"
     ]
    },
    {
     "name": "stdout",
     "output_type": "stream",
     "text": [
      "6.57134096019746\n"
     ]
    },
    {
     "name": "stderr",
     "output_type": "stream",
     "text": [
      "/mnt/home/student/cprem/anaconda3/envs/conforg/lib/python3.9/site-packages/pandas/core/series.py:726: RuntimeWarning: divide by zero encountered in log10\n",
      "  result = getattr(ufunc, method)(*inputs, **kwargs)\n"
     ]
    },
    {
     "name": "stdout",
     "output_type": "stream",
     "text": [
      "6.245379259377332\n"
     ]
    },
    {
     "name": "stderr",
     "output_type": "stream",
     "text": [
      "/mnt/home/student/cprem/anaconda3/envs/conforg/lib/python3.9/site-packages/pandas/core/series.py:726: RuntimeWarning: divide by zero encountered in log10\n",
      "  result = getattr(ufunc, method)(*inputs, **kwargs)\n"
     ]
    },
    {
     "name": "stdout",
     "output_type": "stream",
     "text": [
      "5.933418383265502\n"
     ]
    },
    {
     "name": "stderr",
     "output_type": "stream",
     "text": [
      "/mnt/home/student/cprem/anaconda3/envs/conforg/lib/python3.9/site-packages/pandas/core/series.py:726: RuntimeWarning: divide by zero encountered in log10\n",
      "  result = getattr(ufunc, method)(*inputs, **kwargs)\n"
     ]
    },
    {
     "name": "stdout",
     "output_type": "stream",
     "text": [
      "5.593348629902155\n"
     ]
    },
    {
     "name": "stderr",
     "output_type": "stream",
     "text": [
      "/mnt/home/student/cprem/anaconda3/envs/conforg/lib/python3.9/site-packages/pandas/core/series.py:726: RuntimeWarning: divide by zero encountered in log10\n",
      "  result = getattr(ufunc, method)(*inputs, **kwargs)\n"
     ]
    },
    {
     "name": "stdout",
     "output_type": "stream",
     "text": [
      "5.309466723872498\n"
     ]
    },
    {
     "name": "stderr",
     "output_type": "stream",
     "text": [
      "/mnt/home/student/cprem/anaconda3/envs/conforg/lib/python3.9/site-packages/pandas/core/series.py:726: RuntimeWarning: divide by zero encountered in log10\n",
      "  result = getattr(ufunc, method)(*inputs, **kwargs)\n"
     ]
    },
    {
     "name": "stdout",
     "output_type": "stream",
     "text": [
      "5.037808758445386\n"
     ]
    },
    {
     "name": "stderr",
     "output_type": "stream",
     "text": [
      "/mnt/home/student/cprem/anaconda3/envs/conforg/lib/python3.9/site-packages/pandas/core/series.py:726: RuntimeWarning: divide by zero encountered in log10\n",
      "  result = getattr(ufunc, method)(*inputs, **kwargs)\n"
     ]
    },
    {
     "name": "stdout",
     "output_type": "stream",
     "text": [
      "4.741648771861328\n"
     ]
    },
    {
     "name": "stderr",
     "output_type": "stream",
     "text": [
      "/mnt/home/student/cprem/anaconda3/envs/conforg/lib/python3.9/site-packages/pandas/core/series.py:726: RuntimeWarning: divide by zero encountered in log10\n",
      "  result = getattr(ufunc, method)(*inputs, **kwargs)\n"
     ]
    },
    {
     "name": "stdout",
     "output_type": "stream",
     "text": [
      "4.494475305080742\n"
     ]
    },
    {
     "name": "stderr",
     "output_type": "stream",
     "text": [
      "/mnt/home/student/cprem/anaconda3/envs/conforg/lib/python3.9/site-packages/pandas/core/series.py:726: RuntimeWarning: divide by zero encountered in log10\n",
      "  result = getattr(ufunc, method)(*inputs, **kwargs)\n"
     ]
    },
    {
     "name": "stdout",
     "output_type": "stream",
     "text": [
      "4.2578999947421\n"
     ]
    },
    {
     "name": "stderr",
     "output_type": "stream",
     "text": [
      "/mnt/home/student/cprem/anaconda3/envs/conforg/lib/python3.9/site-packages/pandas/core/series.py:726: RuntimeWarning: divide by zero encountered in log10\n",
      "  result = getattr(ufunc, method)(*inputs, **kwargs)\n"
     ]
    },
    {
     "name": "stdout",
     "output_type": "stream",
     "text": [
      "4.0\n"
     ]
    },
    {
     "name": "stderr",
     "output_type": "stream",
     "text": [
      "/mnt/home/student/cprem/anaconda3/envs/conforg/lib/python3.9/site-packages/pandas/core/series.py:726: RuntimeWarning: divide by zero encountered in log10\n",
      "  result = getattr(ufunc, method)(*inputs, **kwargs)\n"
     ]
    },
    {
     "name": "stdout",
     "output_type": "stream",
     "text": [
      "3.784734782151026\n"
     ]
    },
    {
     "name": "stderr",
     "output_type": "stream",
     "text": [
      "/mnt/home/student/cprem/anaconda3/envs/conforg/lib/python3.9/site-packages/pandas/core/series.py:726: RuntimeWarning: divide by zero encountered in log10\n",
      "  result = getattr(ufunc, method)(*inputs, **kwargs)\n"
     ]
    },
    {
     "name": "stdout",
     "output_type": "stream",
     "text": [
      "3.5787336138570796\n"
     ]
    },
    {
     "name": "stderr",
     "output_type": "stream",
     "text": [
      "/mnt/home/student/cprem/anaconda3/envs/conforg/lib/python3.9/site-packages/pandas/core/series.py:726: RuntimeWarning: divide by zero encountered in log10\n",
      "  result = getattr(ufunc, method)(*inputs, **kwargs)\n"
     ]
    },
    {
     "name": "stdout",
     "output_type": "stream",
     "text": [
      "3.3541301101159506\n"
     ]
    },
    {
     "name": "stderr",
     "output_type": "stream",
     "text": [
      "/mnt/home/student/cprem/anaconda3/envs/conforg/lib/python3.9/site-packages/pandas/core/series.py:726: RuntimeWarning: divide by zero encountered in log10\n",
      "  result = getattr(ufunc, method)(*inputs, **kwargs)\n"
     ]
    },
    {
     "name": "stdout",
     "output_type": "stream",
     "text": [
      "3.166684027850116\n"
     ]
    },
    {
     "name": "stderr",
     "output_type": "stream",
     "text": [
      "/mnt/home/student/cprem/anaconda3/envs/conforg/lib/python3.9/site-packages/pandas/core/series.py:726: RuntimeWarning: divide by zero encountered in log10\n",
      "  result = getattr(ufunc, method)(*inputs, **kwargs)\n"
     ]
    },
    {
     "name": "stdout",
     "output_type": "stream",
     "text": [
      "2.9872885241848985\n"
     ]
    },
    {
     "name": "stderr",
     "output_type": "stream",
     "text": [
      "/mnt/home/student/cprem/anaconda3/envs/conforg/lib/python3.9/site-packages/pandas/core/series.py:726: RuntimeWarning: divide by zero encountered in log10\n",
      "  result = getattr(ufunc, method)(*inputs, **kwargs)\n"
     ]
    },
    {
     "name": "stdout",
     "output_type": "stream",
     "text": [
      "2.7916992120849033\n"
     ]
    },
    {
     "name": "stderr",
     "output_type": "stream",
     "text": [
      "/mnt/home/student/cprem/anaconda3/envs/conforg/lib/python3.9/site-packages/pandas/core/series.py:726: RuntimeWarning: divide by zero encountered in log10\n",
      "  result = getattr(ufunc, method)(*inputs, **kwargs)\n"
     ]
    },
    {
     "name": "stdout",
     "output_type": "stream",
     "text": [
      "2.628460190349022\n"
     ]
    },
    {
     "name": "stderr",
     "output_type": "stream",
     "text": [
      "/mnt/home/student/cprem/anaconda3/envs/conforg/lib/python3.9/site-packages/pandas/core/series.py:726: RuntimeWarning: divide by zero encountered in log10\n",
      "  result = getattr(ufunc, method)(*inputs, **kwargs)\n"
     ]
    },
    {
     "name": "stdout",
     "output_type": "stream",
     "text": [
      "2.472234278591245\n"
     ]
    },
    {
     "name": "stderr",
     "output_type": "stream",
     "text": [
      "/mnt/home/student/cprem/anaconda3/envs/conforg/lib/python3.9/site-packages/pandas/core/series.py:726: RuntimeWarning: divide by zero encountered in log10\n",
      "  result = getattr(ufunc, method)(*inputs, **kwargs)\n"
     ]
    },
    {
     "name": "stdout",
     "output_type": "stream",
     "text": [
      "2.301921057671353\n"
     ]
    },
    {
     "name": "stderr",
     "output_type": "stream",
     "text": [
      "/mnt/home/student/cprem/anaconda3/envs/conforg/lib/python3.9/site-packages/pandas/core/series.py:726: RuntimeWarning: divide by zero encountered in log10\n",
      "  result = getattr(ufunc, method)(*inputs, **kwargs)\n"
     ]
    },
    {
     "name": "stdout",
     "output_type": "stream",
     "text": [
      "2.159757330637007\n"
     ]
    },
    {
     "name": "stderr",
     "output_type": "stream",
     "text": [
      "/mnt/home/student/cprem/anaconda3/envs/conforg/lib/python3.9/site-packages/pandas/core/series.py:726: RuntimeWarning: divide by zero encountered in log10\n",
      "  result = getattr(ufunc, method)(*inputs, **kwargs)\n"
     ]
    },
    {
     "name": "stdout",
     "output_type": "stream",
     "text": [
      "2.0237241395992958\n"
     ]
    },
    {
     "name": "stderr",
     "output_type": "stream",
     "text": [
      "/mnt/home/student/cprem/anaconda3/envs/conforg/lib/python3.9/site-packages/pandas/core/series.py:726: RuntimeWarning: divide by zero encountered in log10\n",
      "  result = getattr(ufunc, method)(*inputs, **kwargs)\n"
     ]
    },
    {
     "name": "stdout",
     "output_type": "stream",
     "text": [
      "1.8754057916423457\n"
     ]
    },
    {
     "name": "stderr",
     "output_type": "stream",
     "text": [
      "<ipython-input-43-4da26ca37365>:3: RuntimeWarning: invalid value encountered in log10\n",
      "  hal_logM = np.log10(hal40h5['Mass_200mean'])+10\n",
      "/mnt/home/student/cprem/anaconda3/envs/conforg/lib/python3.9/site-packages/pandas/core/series.py:726: RuntimeWarning: divide by zero encountered in log10\n",
      "  result = getattr(ufunc, method)(*inputs, **kwargs)\n"
     ]
    },
    {
     "name": "stdout",
     "output_type": "stream",
     "text": [
      "1.7516069384520558\n"
     ]
    },
    {
     "name": "stderr",
     "output_type": "stream",
     "text": [
      "<ipython-input-43-4da26ca37365>:3: RuntimeWarning: invalid value encountered in log10\n",
      "  hal_logM = np.log10(hal40h5['Mass_200mean'])+10\n",
      "/mnt/home/student/cprem/anaconda3/envs/conforg/lib/python3.9/site-packages/pandas/core/series.py:726: RuntimeWarning: divide by zero encountered in log10\n",
      "  result = getattr(ufunc, method)(*inputs, **kwargs)\n"
     ]
    },
    {
     "name": "stdout",
     "output_type": "stream",
     "text": [
      "1.6331380422618658\n"
     ]
    },
    {
     "name": "stderr",
     "output_type": "stream",
     "text": [
      "<ipython-input-43-4da26ca37365>:3: RuntimeWarning: invalid value encountered in log10\n",
      "  hal_logM = np.log10(hal40h5['Mass_200mean'])+10\n",
      "/mnt/home/student/cprem/anaconda3/envs/conforg/lib/python3.9/site-packages/pandas/core/series.py:726: RuntimeWarning: divide by zero encountered in log10\n",
      "  result = getattr(ufunc, method)(*inputs, **kwargs)\n"
     ]
    },
    {
     "name": "stdout",
     "output_type": "stream",
     "text": [
      "1.5197739258833698\n"
     ]
    },
    {
     "name": "stderr",
     "output_type": "stream",
     "text": [
      "<ipython-input-43-4da26ca37365>:3: RuntimeWarning: invalid value encountered in log10\n",
      "  hal_logM = np.log10(hal40h5['Mass_200mean'])+10\n",
      "/mnt/home/student/cprem/anaconda3/envs/conforg/lib/python3.9/site-packages/pandas/core/series.py:726: RuntimeWarning: divide by zero encountered in log10\n",
      "  result = getattr(ufunc, method)(*inputs, **kwargs)\n"
     ]
    },
    {
     "name": "stdout",
     "output_type": "stream",
     "text": [
      "1.396179531355207\n"
     ]
    },
    {
     "name": "stderr",
     "output_type": "stream",
     "text": [
      "<ipython-input-43-4da26ca37365>:3: RuntimeWarning: invalid value encountered in log10\n",
      "  hal_logM = np.log10(hal40h5['Mass_200mean'])+10\n",
      "/mnt/home/student/cprem/anaconda3/envs/conforg/lib/python3.9/site-packages/pandas/core/series.py:726: RuntimeWarning: divide by zero encountered in log10\n",
      "  result = getattr(ufunc, method)(*inputs, **kwargs)\n"
     ]
    },
    {
     "name": "stdout",
     "output_type": "stream",
     "text": [
      "1.2930099883515092\n"
     ]
    },
    {
     "name": "stderr",
     "output_type": "stream",
     "text": [
      "<ipython-input-43-4da26ca37365>:3: RuntimeWarning: invalid value encountered in log10\n",
      "  hal_logM = np.log10(hal40h5['Mass_200mean'])+10\n",
      "/mnt/home/student/cprem/anaconda3/envs/conforg/lib/python3.9/site-packages/pandas/core/series.py:726: RuntimeWarning: divide by zero encountered in log10\n",
      "  result = getattr(ufunc, method)(*inputs, **kwargs)\n"
     ]
    },
    {
     "name": "stdout",
     "output_type": "stream",
     "text": [
      "1.1942913316715233\n"
     ]
    },
    {
     "name": "stderr",
     "output_type": "stream",
     "text": [
      "<ipython-input-43-4da26ca37365>:3: RuntimeWarning: invalid value encountered in log10\n",
      "  hal_logM = np.log10(hal40h5['Mass_200mean'])+10\n",
      "/mnt/home/student/cprem/anaconda3/envs/conforg/lib/python3.9/site-packages/pandas/core/series.py:726: RuntimeWarning: divide by zero encountered in log10\n",
      "  result = getattr(ufunc, method)(*inputs, **kwargs)\n"
     ]
    },
    {
     "name": "stdout",
     "output_type": "stream",
     "text": [
      "1.086658946028566\n"
     ]
    },
    {
     "name": "stderr",
     "output_type": "stream",
     "text": [
      "<ipython-input-43-4da26ca37365>:3: RuntimeWarning: invalid value encountered in log10\n",
      "  hal_logM = np.log10(hal40h5['Mass_200mean'])+10\n"
     ]
    },
    {
     "name": "stdout",
     "output_type": "stream",
     "text": [
      "0.9968170735847057\n"
     ]
    },
    {
     "name": "stderr",
     "output_type": "stream",
     "text": [
      "<ipython-input-43-4da26ca37365>:3: RuntimeWarning: invalid value encountered in log10\n",
      "  hal_logM = np.log10(hal40h5['Mass_200mean'])+10\n"
     ]
    },
    {
     "name": "stdout",
     "output_type": "stream",
     "text": [
      "0.910847499082793\n"
     ]
    },
    {
     "name": "stderr",
     "output_type": "stream",
     "text": [
      "<ipython-input-43-4da26ca37365>:3: RuntimeWarning: invalid value encountered in log10\n",
      "  hal_logM = np.log10(hal40h5['Mass_200mean'])+10\n"
     ]
    },
    {
     "name": "stdout",
     "output_type": "stream",
     "text": [
      "0.8171179782018527\n"
     ]
    },
    {
     "name": "stderr",
     "output_type": "stream",
     "text": [
      "<ipython-input-43-4da26ca37365>:3: RuntimeWarning: invalid value encountered in log10\n",
      "  hal_logM = np.log10(hal40h5['Mass_200mean'])+10\n"
     ]
    },
    {
     "name": "stdout",
     "output_type": "stream",
     "text": [
      "0.7388854787412558\n"
     ]
    },
    {
     "name": "stderr",
     "output_type": "stream",
     "text": [
      "<ipython-input-43-4da26ca37365>:3: RuntimeWarning: invalid value encountered in log10\n",
      "  hal_logM = np.log10(hal40h5['Mass_200mean'])+10\n"
     ]
    },
    {
     "name": "stdout",
     "output_type": "stream",
     "text": [
      "0.664020873477837\n"
     ]
    },
    {
     "name": "stderr",
     "output_type": "stream",
     "text": [
      "<ipython-input-43-4da26ca37365>:3: RuntimeWarning: invalid value encountered in log10\n",
      "  hal_logM = np.log10(hal40h5['Mass_200mean'])+10\n"
     ]
    },
    {
     "name": "stdout",
     "output_type": "stream",
     "text": [
      "0.5823986631896094\n"
     ]
    },
    {
     "name": "stderr",
     "output_type": "stream",
     "text": [
      "<ipython-input-43-4da26ca37365>:3: RuntimeWarning: invalid value encountered in log10\n",
      "  hal_logM = np.log10(hal40h5['Mass_200mean'])+10\n"
     ]
    },
    {
     "name": "stdout",
     "output_type": "stream",
     "text": [
      "0.5142704850511219\n"
     ]
    },
    {
     "name": "stderr",
     "output_type": "stream",
     "text": [
      "<ipython-input-43-4da26ca37365>:3: RuntimeWarning: invalid value encountered in log10\n",
      "  hal_logM = np.log10(hal40h5['Mass_200mean'])+10\n"
     ]
    },
    {
     "name": "stdout",
     "output_type": "stream",
     "text": [
      "0.4490737520576846\n"
     ]
    },
    {
     "name": "stderr",
     "output_type": "stream",
     "text": [
      "<ipython-input-43-4da26ca37365>:3: RuntimeWarning: invalid value encountered in log10\n",
      "  hal_logM = np.log10(hal40h5['Mass_200mean'])+10\n"
     ]
    },
    {
     "name": "stdout",
     "output_type": "stream",
     "text": [
      "0.3779950722896215\n"
     ]
    },
    {
     "name": "stderr",
     "output_type": "stream",
     "text": [
      "<ipython-input-43-4da26ca37365>:3: RuntimeWarning: invalid value encountered in log10\n",
      "  hal_logM = np.log10(hal40h5['Mass_200mean'])+10\n"
     ]
    },
    {
     "name": "stdout",
     "output_type": "stream",
     "text": [
      "0.3186679870928777\n"
     ]
    },
    {
     "name": "stderr",
     "output_type": "stream",
     "text": [
      "<ipython-input-43-4da26ca37365>:3: RuntimeWarning: invalid value encountered in log10\n",
      "  hal_logM = np.log10(hal40h5['Mass_200mean'])+10\n"
     ]
    },
    {
     "name": "stdout",
     "output_type": "stream",
     "text": [
      "0.2618949371513226\n"
     ]
    },
    {
     "name": "stderr",
     "output_type": "stream",
     "text": [
      "<ipython-input-43-4da26ca37365>:3: RuntimeWarning: invalid value encountered in log10\n",
      "  hal_logM = np.log10(hal40h5['Mass_200mean'])+10\n"
     ]
    },
    {
     "name": "stdout",
     "output_type": "stream",
     "text": [
      "0.19999760000479982\n"
     ]
    },
    {
     "name": "stderr",
     "output_type": "stream",
     "text": [
      "<ipython-input-43-4da26ca37365>:3: RuntimeWarning: invalid value encountered in log10\n",
      "  hal_logM = np.log10(hal40h5['Mass_200mean'])+10\n"
     ]
    },
    {
     "name": "stdout",
     "output_type": "stream",
     "text": [
      "0.14833239170077217\n"
     ]
    },
    {
     "name": "stderr",
     "output_type": "stream",
     "text": [
      "<ipython-input-43-4da26ca37365>:3: RuntimeWarning: invalid value encountered in log10\n",
      "  hal_logM = np.log10(hal40h5['Mass_200mean'])+10\n"
     ]
    },
    {
     "name": "stdout",
     "output_type": "stream",
     "text": [
      "0.09889264588074598\n"
     ]
    },
    {
     "name": "stderr",
     "output_type": "stream",
     "text": [
      "<ipython-input-43-4da26ca37365>:3: RuntimeWarning: invalid value encountered in log10\n",
      "  hal_logM = np.log10(hal40h5['Mass_200mean'])+10\n"
     ]
    },
    {
     "name": "stdout",
     "output_type": "stream",
     "text": [
      "0.044991044426749394\n"
     ]
    }
   ],
   "source": [
    "for i in range(1,50):\n",
    "    hal40h5 = h5py.File(f\"/scratch/cprem/sims/my-bdm_cdm512_p18/r2/halos_vr/out_{i:03d}.properties.0\", 'r')\n",
    "    hal_logM = np.log10(hal40h5['Mass_200mean'])+10\n",
    "    hal40rs = pd.read_csv(f'/scratch/cprem/sims/my-bdm_cdm512_p18/r2/halos_rs/out_{i:d}.list', sep=r'\\s+', header=0, skiprows=list(range(1,16)), engine='c')\n",
    "    hal_rs_logM = np.log10(hal40rs['M200b'])\n",
    "    meta_info = pd.read_csv(f\"/scratch/cprem/sims/my-bdm_cdm512_p18/r2/halos_vr/out_{i:03d}.siminfo\", sep=':')[' 1 # int32 ']\n",
    "    z = 1/float(meta_info[0].split('#')[0])-1\n",
    "#     print(meta_info)\n",
    "    print(z)\n",
    "    \n",
    "    fig = plt.figure(figsize=(10,7), dpi=120)\n",
    "    plot1 = plt.hist(hal_rs_logM, bins=100, histtype=u'step', range=(11,15))\n",
    "    plot2 = plt.hist(hal_logM, bins=100, histtype=u'step', range=(11,15))\n",
    "    plt.yscale('log')\n",
    "    plt.xlabel('log(M) where mass is in $h^{-1}~M_{\\odot}$')\n",
    "    plt.ylabel('log(n)')\n",
    "    plt.title(f'Halo mass function at redshift z = {z}')\n",
    "    plt.xlim(11, 15)\n",
    "    plt.savefig(f'/scratch/cprem/sims/my-bdm_cdm512_p18/r2/halos/halo_mass_fn_{i:03d}.png')\n",
    "    \n",
    "    plt.close()\n",
    "    hal40h5.close()\n",
    "    del hal40rs\n",
    "    del meta_info[1]\n",
    "    \n",
    "    \n",
    "    "
   ]
  },
  {
   "cell_type": "code",
   "execution_count": 88,
   "id": "mathematical-synthetic",
   "metadata": {},
   "outputs": [],
   "source": [
    "import json"
   ]
  },
  {
   "cell_type": "code",
   "execution_count": 110,
   "id": "laden-omaha",
   "metadata": {},
   "outputs": [],
   "source": [
    "# i = 45"
   ]
  },
  {
   "cell_type": "code",
   "execution_count": 150,
   "id": "placed-survey",
   "metadata": {},
   "outputs": [],
   "source": [
    "file = open(f\"/scratch/cprem/sims/my-bdm_cdm256_p18/r2/halos_vr/out_{i:03d}.siminfo\", 'r')"
   ]
  },
  {
   "cell_type": "code",
   "execution_count": 160,
   "id": "rapid-sharing",
   "metadata": {},
   "outputs": [
    {
     "data": {
      "text/plain": [
       "0.6781"
      ]
     },
     "execution_count": 160,
     "metadata": {},
     "output_type": "execute_result"
    }
   ],
   "source": [
    "float(pd.read_csv(f\"/scratch/cprem/sims/my-bdm_cdm256_p18/r2/halos_vr/out_{i:03d}.siminfo\", sep=':')[' 1 # int32 '][1].split('#')[0])"
   ]
  },
  {
   "cell_type": "code",
   "execution_count": 149,
   "id": "american-devices",
   "metadata": {},
   "outputs": [],
   "source": [
    "# json.loads('{'+file.read().replace('#* \\n',', ')+'}')"
   ]
  },
  {
   "cell_type": "code",
   "execution_count": 122,
   "id": "sized-diagnosis",
   "metadata": {},
   "outputs": [
    {
     "ename": "IndexError",
     "evalue": "list index out of range",
     "output_type": "error",
     "traceback": [
      "\u001b[0;31m---------------------------------------------------------------------------\u001b[0m",
      "\u001b[0;31mIndexError\u001b[0m                                Traceback (most recent call last)",
      "\u001b[0;32m<ipython-input-122-87bc907d3e9e>\u001b[0m in \u001b[0;36m<module>\u001b[0;34m\u001b[0m\n\u001b[0;32m----> 1\u001b[0;31m \u001b[0mdict\u001b[0m\u001b[0;34m(\u001b[0m\u001b[0mfile\u001b[0m\u001b[0;34m.\u001b[0m\u001b[0mreadlines\u001b[0m\u001b[0;34m(\u001b[0m\u001b[0;34m)\u001b[0m\u001b[0;34m[\u001b[0m\u001b[0;36m1\u001b[0m\u001b[0;34m]\u001b[0m\u001b[0;34m)\u001b[0m\u001b[0;34m\u001b[0m\u001b[0;34m\u001b[0m\u001b[0m\n\u001b[0m",
      "\u001b[0;31mIndexError\u001b[0m: list index out of range"
     ]
    }
   ],
   "source": [
    "dict(file.readlines()[1])"
   ]
  },
  {
   "cell_type": "code",
   "execution_count": 131,
   "id": "hourly-nowhere",
   "metadata": {},
   "outputs": [],
   "source": [
    "filetext = file.read()"
   ]
  },
  {
   "cell_type": "code",
   "execution_count": 132,
   "id": "current-contribution",
   "metadata": {},
   "outputs": [
    {
     "data": {
      "text/plain": [
       "'{Cosmological_Sim : 1 # int32 \\nScaleFactor : 0.791476 # float64 \\nh_val : 0.678100 # float64 \\nOmega_m : 0.306337 # float64 \\nOmega_Lambda : 0.693662 # float64 \\nOmega_cdm : 0.306337 # float64 \\nOmega_b : 0.000000 # float64 \\nw_of_DE : -1.000000 # float64 \\nPeriod : 233.439181 # float64 \\nHubble_unit : 100.000000 # float64 \\nLength_unit : 1.000000 # float64 \\nVelocity_unit : 1.000000 # float64 \\nMass_unit : 1.000000 # float64 \\nGravity : 43.022682 # float64 \\n}'"
      ]
     },
     "execution_count": 132,
     "metadata": {},
     "output_type": "execute_result"
    }
   ],
   "source": [
    "'{'+filetext.replace('#* \\n',', ')+'}'"
   ]
  },
  {
   "cell_type": "code",
   "execution_count": 129,
   "id": "front-thompson",
   "metadata": {},
   "outputs": [],
   "source": [
    "import re"
   ]
  },
  {
   "cell_type": "code",
   "execution_count": 148,
   "id": "empty-current",
   "metadata": {},
   "outputs": [
    {
     "data": {
      "text/plain": [
       "'Cosmological_Sim : 1 # int32 \\nScaleFactor : 0.791476 # float64 \\nh_val : 0.678100 # float64 \\nOmega_m : 0.306337 # float64 \\nOmega_Lambda : 0.693662 # float64 \\nOmega_cdm : 0.306337 # float64 \\nOmega_b : 0.000000 # float64 \\nw_of_DE : -1.000000 # float64 \\nPeriod : 233.439181 # float64 \\nHubble_unit : 100.000000 # float64 \\nLength_unit : 1.000000 # float64 \\nVelocity_unit : 1.000000 # float64 \\nMass_unit : 1.000000 # float64 \\nGravity : 43.022682 # float64 \\n'"
      ]
     },
     "execution_count": 148,
     "metadata": {},
     "output_type": "execute_result"
    }
   ],
   "source": [
    "re.sub(r'(?m)^ *#.*\\n?', ', ', filetext)"
   ]
  },
  {
   "cell_type": "code",
   "execution_count": 136,
   "id": "worldwide-induction",
   "metadata": {},
   "outputs": [
    {
     "data": {
      "text/plain": [
       "'Cosmological_Sim : 1 # int32 \\nScaleFactor : 0.791476 # float64 \\nh_val : 0.678100 # float64 \\nOmega_m : 0.306337 # float64 \\nOmega_Lambda : 0.693662 # float64 \\nOmega_cdm : 0.306337 # float64 \\nOmega_b : 0.000000 # float64 \\nw_of_DE : -1.000000 # float64 \\nPeriod : 233.439181 # float64 \\nHubble_unit : 100.000000 # float64 \\nLength_unit : 1.000000 # float64 \\nVelocity_unit : 1.000000 # float64 \\nMass_unit : 1.000000 # float64 \\nGravity : 43.022682 # float64 \\n'"
      ]
     },
     "execution_count": 136,
     "metadata": {},
     "output_type": "execute_result"
    }
   ],
   "source": [
    "filetext"
   ]
  },
  {
   "cell_type": "code",
   "execution_count": 4,
   "id": "respected-small",
   "metadata": {},
   "outputs": [
    {
     "data": {
      "text/plain": [
       "80"
      ]
     },
     "execution_count": 4,
     "metadata": {},
     "output_type": "execute_result"
    }
   ],
   "source": [
    "4*20"
   ]
  },
  {
   "cell_type": "code",
   "execution_count": null,
   "id": "competitive-aspect",
   "metadata": {},
   "outputs": [],
   "source": []
  },
  {
   "cell_type": "code",
   "execution_count": null,
   "id": "medical-focus",
   "metadata": {},
   "outputs": [],
   "source": []
  },
  {
   "cell_type": "code",
   "execution_count": 5,
   "id": "several-venture",
   "metadata": {},
   "outputs": [],
   "source": [
    "import csv"
   ]
  },
  {
   "cell_type": "code",
   "execution_count": 21,
   "id": "closed-bulletin",
   "metadata": {},
   "outputs": [],
   "source": [
    "reader = csv.DictReader(open('/mnt/home/faculty/caseem/config/sims/run.param.scm1024.r1'), delimiter='\\t')"
   ]
  },
  {
   "cell_type": "code",
   "execution_count": null,
   "id": "rational-combining",
   "metadata": {},
   "outputs": [],
   "source": []
  },
  {
   "cell_type": "code",
   "execution_count": 32,
   "id": "electric-reliance",
   "metadata": {},
   "outputs": [],
   "source": [
    "paramfile = open('/mnt/home/faculty/caseem/config/sims/run.param.scm1024.r1')"
   ]
  },
  {
   "cell_type": "code",
   "execution_count": 33,
   "id": "advanced-solution",
   "metadata": {},
   "outputs": [],
   "source": [
    "linelist = paramfile.readlines()"
   ]
  },
  {
   "cell_type": "code",
   "execution_count": 36,
   "id": "fitted-audit",
   "metadata": {},
   "outputs": [
    {
     "data": {
      "text/plain": [
       "['InitCondFile', ' /scratch/aseem/ICs/ics_scm1024_r1.dat\\n']"
      ]
     },
     "execution_count": 36,
     "metadata": {},
     "output_type": "execute_result"
    }
   ],
   "source": [
    "linelist[2].split('\\t')"
   ]
  },
  {
   "cell_type": "code",
   "execution_count": 41,
   "id": "attractive-relative",
   "metadata": {},
   "outputs": [
    {
     "data": {
      "text/plain": [
       "['Omega0', '', ' 0.276\\n']"
      ]
     },
     "execution_count": 41,
     "metadata": {},
     "output_type": "execute_result"
    }
   ],
   "source": [
    "linelist[39].split('\\t')"
   ]
  },
  {
   "cell_type": "code",
   "execution_count": 20,
   "id": "tight-floor",
   "metadata": {},
   "outputs": [
    {
     "name": "stdout",
     "output_type": "stream",
     "text": [
      "dict_keys(['%  Relevant files', None])\n",
      "dict_keys(['%  Relevant files', None])\n",
      "dict_keys(['%  Relevant files'])\n",
      "dict_keys(['%  Relevant files'])\n",
      "dict_keys(['%  Relevant files'])\n",
      "dict_keys(['%  Relevant files'])\n",
      "dict_keys(['%  Relevant files'])\n",
      "dict_keys(['%  Relevant files'])\n",
      "dict_keys(['%  Relevant files', None])\n",
      "dict_keys(['%  Relevant files'])\n",
      "dict_keys(['%  Relevant files'])\n",
      "dict_keys(['%  Relevant files'])\n",
      "dict_keys(['%  Relevant files'])\n",
      "dict_keys(['%  Relevant files'])\n",
      "dict_keys(['%  Relevant files'])\n",
      "dict_keys(['%  Relevant files'])\n",
      "dict_keys(['%  Relevant files'])\n",
      "dict_keys(['%  Relevant files'])\n",
      "dict_keys(['%  Relevant files'])\n",
      "dict_keys(['%  Relevant files'])\n",
      "dict_keys(['%  Relevant files'])\n",
      "dict_keys(['%  Relevant files'])\n",
      "dict_keys(['%  Relevant files', None])\n",
      "dict_keys(['%  Relevant files', None])\n",
      "dict_keys(['%  Relevant files', None])\n",
      "dict_keys(['%  Relevant files', None])\n",
      "dict_keys(['%  Relevant files', None])\n",
      "dict_keys(['%  Relevant files', None])\n",
      "dict_keys(['%  Relevant files', None])\n",
      "dict_keys(['%  Relevant files'])\n",
      "dict_keys(['%  Relevant files'])\n",
      "dict_keys(['%  Relevant files', None])\n",
      "dict_keys(['%  Relevant files', None])\n",
      "dict_keys(['%  Relevant files'])\n",
      "dict_keys(['%  Relevant files'])\n",
      "dict_keys(['%  Relevant files', None])\n",
      "dict_keys(['%  Relevant files', None])\n",
      "dict_keys(['%  Relevant files'])\n",
      "dict_keys(['%  Relevant files'])\n",
      "dict_keys(['%  Relevant files'])\n",
      "dict_keys(['%  Relevant files'])\n",
      "dict_keys(['%  Relevant files'])\n",
      "dict_keys(['%  Relevant files'])\n",
      "dict_keys(['%  Relevant files'])\n",
      "dict_keys(['%  Relevant files'])\n",
      "dict_keys(['%  Relevant files'])\n",
      "dict_keys(['%  Relevant files'])\n",
      "dict_keys(['%  Relevant files'])\n",
      "dict_keys(['%  Relevant files'])\n",
      "dict_keys(['%  Relevant files'])\n",
      "dict_keys(['%  Relevant files'])\n",
      "dict_keys(['%  Relevant files'])\n",
      "dict_keys(['%  Relevant files'])\n",
      "dict_keys(['%  Relevant files'])\n",
      "dict_keys(['%  Relevant files'])\n",
      "dict_keys(['%  Relevant files'])\n",
      "dict_keys(['%  Relevant files'])\n",
      "dict_keys(['%  Relevant files'])\n",
      "dict_keys(['%  Relevant files'])\n",
      "dict_keys(['%  Relevant files'])\n",
      "dict_keys(['%  Relevant files'])\n",
      "dict_keys(['%  Relevant files'])\n",
      "dict_keys(['%  Relevant files'])\n",
      "dict_keys(['%  Relevant files'])\n",
      "dict_keys(['%  Relevant files'])\n",
      "dict_keys(['%  Relevant files'])\n",
      "dict_keys(['%  Relevant files'])\n",
      "dict_keys(['%  Relevant files', None])\n",
      "dict_keys(['%  Relevant files'])\n",
      "dict_keys(['%  Relevant files'])\n",
      "dict_keys(['%  Relevant files'])\n",
      "dict_keys(['%  Relevant files'])\n",
      "dict_keys(['%  Relevant files'])\n",
      "dict_keys(['%  Relevant files', None])\n",
      "dict_keys(['%  Relevant files'])\n",
      "dict_keys(['%  Relevant files'])\n",
      "dict_keys(['%  Relevant files'])\n",
      "dict_keys(['%  Relevant files'])\n"
     ]
    }
   ],
   "source": [
    "for row in reader:\n",
    "    print(row.keys())"
   ]
  },
  {
   "cell_type": "code",
   "execution_count": null,
   "id": "sweet-employee",
   "metadata": {},
   "outputs": [],
   "source": []
  }
 ],
 "metadata": {
  "kernelspec": {
   "display_name": "Python 3",
   "language": "python",
   "name": "python3"
  },
  "language_info": {
   "codemirror_mode": {
    "name": "ipython",
    "version": 3
   },
   "file_extension": ".py",
   "mimetype": "text/x-python",
   "name": "python",
   "nbconvert_exporter": "python",
   "pygments_lexer": "ipython3",
   "version": "3.9.0"
  }
 },
 "nbformat": 4,
 "nbformat_minor": 5
}
